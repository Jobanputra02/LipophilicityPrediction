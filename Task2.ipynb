{
 "cells": [
  {
   "cell_type": "code",
   "execution_count": 1,
   "metadata": {
    "colab": {
     "base_uri": "https://localhost:8080/"
    },
    "executionInfo": {
     "elapsed": 24585,
     "status": "ok",
     "timestamp": 1741477068648,
     "user": {
      "displayName": "NueralNetworks Theory",
      "userId": "07825507065392429042"
     },
     "user_tz": -60
    },
    "id": "Mpk2q6Pc6r2B",
    "outputId": "2aeacb02-e82e-4365-f43a-aaf43cbf4dea"
   },
   "outputs": [
    {
     "name": "stdout",
     "output_type": "stream",
     "text": [
      "Mounted at /content/drive\n"
     ]
    }
   ],
   "source": [
    "from google.colab import drive\n",
    "drive.mount('/content/drive')"
   ]
  },
  {
   "cell_type": "code",
   "execution_count": 2,
   "metadata": {
    "colab": {
     "base_uri": "https://localhost:8080/"
    },
    "executionInfo": {
     "elapsed": 77360,
     "status": "ok",
     "timestamp": 1741477150365,
     "user": {
      "displayName": "NueralNetworks Theory",
      "userId": "07825507065392429042"
     },
     "user_tz": -60
    },
    "id": "B22J64za66tN",
    "outputId": "a7f6e0ef-1a71-40f9-a801-14fb9221f00f"
   },
   "outputs": [
    {
     "name": "stdout",
     "output_type": "stream",
     "text": [
      "Requirement already satisfied: ipywidgets in /usr/local/lib/python3.11/dist-packages (from -r /content/drive/MyDrive/NNTI_Project_files/Project_Files/requirements.txt (line 1)) (7.7.1)\n",
      "Collecting jupyter (from -r /content/drive/MyDrive/NNTI_Project_files/Project_Files/requirements.txt (line 2))\n",
      "  Downloading jupyter-1.1.1-py2.py3-none-any.whl.metadata (2.0 kB)\n",
      "Requirement already satisfied: numpy in /usr/local/lib/python3.11/dist-packages (from -r /content/drive/MyDrive/NNTI_Project_files/Project_Files/requirements.txt (line 3)) (1.26.4)\n",
      "Requirement already satisfied: pandas in /usr/local/lib/python3.11/dist-packages (from -r /content/drive/MyDrive/NNTI_Project_files/Project_Files/requirements.txt (line 4)) (2.2.2)\n",
      "Requirement already satisfied: matplotlib in /usr/local/lib/python3.11/dist-packages (from -r /content/drive/MyDrive/NNTI_Project_files/Project_Files/requirements.txt (line 5)) (3.10.0)\n",
      "Requirement already satisfied: torch in /usr/local/lib/python3.11/dist-packages (from -r /content/drive/MyDrive/NNTI_Project_files/Project_Files/requirements.txt (line 6)) (2.5.1+cu124)\n",
      "Collecting datasets (from -r /content/drive/MyDrive/NNTI_Project_files/Project_Files/requirements.txt (line 7))\n",
      "  Downloading datasets-3.3.2-py3-none-any.whl.metadata (19 kB)\n",
      "Requirement already satisfied: transformers in /usr/local/lib/python3.11/dist-packages (from -r /content/drive/MyDrive/NNTI_Project_files/Project_Files/requirements.txt (line 8)) (4.48.3)\n",
      "Requirement already satisfied: scikit-learn in /usr/local/lib/python3.11/dist-packages (from -r /content/drive/MyDrive/NNTI_Project_files/Project_Files/requirements.txt (line 9)) (1.6.1)\n",
      "Requirement already satisfied: wandb in /usr/local/lib/python3.11/dist-packages (from -r /content/drive/MyDrive/NNTI_Project_files/Project_Files/requirements.txt (line 10)) (0.19.7)\n",
      "Requirement already satisfied: ipykernel>=4.5.1 in /usr/local/lib/python3.11/dist-packages (from ipywidgets->-r /content/drive/MyDrive/NNTI_Project_files/Project_Files/requirements.txt (line 1)) (6.17.1)\n",
      "Requirement already satisfied: ipython-genutils~=0.2.0 in /usr/local/lib/python3.11/dist-packages (from ipywidgets->-r /content/drive/MyDrive/NNTI_Project_files/Project_Files/requirements.txt (line 1)) (0.2.0)\n",
      "Requirement already satisfied: traitlets>=4.3.1 in /usr/local/lib/python3.11/dist-packages (from ipywidgets->-r /content/drive/MyDrive/NNTI_Project_files/Project_Files/requirements.txt (line 1)) (5.7.1)\n",
      "Requirement already satisfied: widgetsnbextension~=3.6.0 in /usr/local/lib/python3.11/dist-packages (from ipywidgets->-r /content/drive/MyDrive/NNTI_Project_files/Project_Files/requirements.txt (line 1)) (3.6.10)\n",
      "Requirement already satisfied: ipython>=4.0.0 in /usr/local/lib/python3.11/dist-packages (from ipywidgets->-r /content/drive/MyDrive/NNTI_Project_files/Project_Files/requirements.txt (line 1)) (7.34.0)\n",
      "Requirement already satisfied: jupyterlab-widgets>=1.0.0 in /usr/local/lib/python3.11/dist-packages (from ipywidgets->-r /content/drive/MyDrive/NNTI_Project_files/Project_Files/requirements.txt (line 1)) (3.0.13)\n",
      "Requirement already satisfied: notebook in /usr/local/lib/python3.11/dist-packages (from jupyter->-r /content/drive/MyDrive/NNTI_Project_files/Project_Files/requirements.txt (line 2)) (6.5.5)\n",
      "Requirement already satisfied: jupyter-console in /usr/local/lib/python3.11/dist-packages (from jupyter->-r /content/drive/MyDrive/NNTI_Project_files/Project_Files/requirements.txt (line 2)) (6.1.0)\n",
      "Requirement already satisfied: nbconvert in /usr/local/lib/python3.11/dist-packages (from jupyter->-r /content/drive/MyDrive/NNTI_Project_files/Project_Files/requirements.txt (line 2)) (7.16.6)\n",
      "Collecting jupyterlab (from jupyter->-r /content/drive/MyDrive/NNTI_Project_files/Project_Files/requirements.txt (line 2))\n",
      "  Downloading jupyterlab-4.3.5-py3-none-any.whl.metadata (16 kB)\n",
      "Requirement already satisfied: python-dateutil>=2.8.2 in /usr/local/lib/python3.11/dist-packages (from pandas->-r /content/drive/MyDrive/NNTI_Project_files/Project_Files/requirements.txt (line 4)) (2.8.2)\n",
      "Requirement already satisfied: pytz>=2020.1 in /usr/local/lib/python3.11/dist-packages (from pandas->-r /content/drive/MyDrive/NNTI_Project_files/Project_Files/requirements.txt (line 4)) (2025.1)\n",
      "Requirement already satisfied: tzdata>=2022.7 in /usr/local/lib/python3.11/dist-packages (from pandas->-r /content/drive/MyDrive/NNTI_Project_files/Project_Files/requirements.txt (line 4)) (2025.1)\n",
      "Requirement already satisfied: contourpy>=1.0.1 in /usr/local/lib/python3.11/dist-packages (from matplotlib->-r /content/drive/MyDrive/NNTI_Project_files/Project_Files/requirements.txt (line 5)) (1.3.1)\n",
      "Requirement already satisfied: cycler>=0.10 in /usr/local/lib/python3.11/dist-packages (from matplotlib->-r /content/drive/MyDrive/NNTI_Project_files/Project_Files/requirements.txt (line 5)) (0.12.1)\n",
      "Requirement already satisfied: fonttools>=4.22.0 in /usr/local/lib/python3.11/dist-packages (from matplotlib->-r /content/drive/MyDrive/NNTI_Project_files/Project_Files/requirements.txt (line 5)) (4.56.0)\n",
      "Requirement already satisfied: kiwisolver>=1.3.1 in /usr/local/lib/python3.11/dist-packages (from matplotlib->-r /content/drive/MyDrive/NNTI_Project_files/Project_Files/requirements.txt (line 5)) (1.4.8)\n",
      "Requirement already satisfied: packaging>=20.0 in /usr/local/lib/python3.11/dist-packages (from matplotlib->-r /content/drive/MyDrive/NNTI_Project_files/Project_Files/requirements.txt (line 5)) (24.2)\n",
      "Requirement already satisfied: pillow>=8 in /usr/local/lib/python3.11/dist-packages (from matplotlib->-r /content/drive/MyDrive/NNTI_Project_files/Project_Files/requirements.txt (line 5)) (11.1.0)\n",
      "Requirement already satisfied: pyparsing>=2.3.1 in /usr/local/lib/python3.11/dist-packages (from matplotlib->-r /content/drive/MyDrive/NNTI_Project_files/Project_Files/requirements.txt (line 5)) (3.2.1)\n",
      "Requirement already satisfied: filelock in /usr/local/lib/python3.11/dist-packages (from torch->-r /content/drive/MyDrive/NNTI_Project_files/Project_Files/requirements.txt (line 6)) (3.17.0)\n",
      "Requirement already satisfied: typing-extensions>=4.8.0 in /usr/local/lib/python3.11/dist-packages (from torch->-r /content/drive/MyDrive/NNTI_Project_files/Project_Files/requirements.txt (line 6)) (4.12.2)\n",
      "Requirement already satisfied: networkx in /usr/local/lib/python3.11/dist-packages (from torch->-r /content/drive/MyDrive/NNTI_Project_files/Project_Files/requirements.txt (line 6)) (3.4.2)\n",
      "Requirement already satisfied: jinja2 in /usr/local/lib/python3.11/dist-packages (from torch->-r /content/drive/MyDrive/NNTI_Project_files/Project_Files/requirements.txt (line 6)) (3.1.5)\n",
      "Requirement already satisfied: fsspec in /usr/local/lib/python3.11/dist-packages (from torch->-r /content/drive/MyDrive/NNTI_Project_files/Project_Files/requirements.txt (line 6)) (2024.10.0)\n",
      "Collecting nvidia-cuda-nvrtc-cu12==12.4.127 (from torch->-r /content/drive/MyDrive/NNTI_Project_files/Project_Files/requirements.txt (line 6))\n",
      "  Downloading nvidia_cuda_nvrtc_cu12-12.4.127-py3-none-manylinux2014_x86_64.whl.metadata (1.5 kB)\n",
      "Collecting nvidia-cuda-runtime-cu12==12.4.127 (from torch->-r /content/drive/MyDrive/NNTI_Project_files/Project_Files/requirements.txt (line 6))\n",
      "  Downloading nvidia_cuda_runtime_cu12-12.4.127-py3-none-manylinux2014_x86_64.whl.metadata (1.5 kB)\n",
      "Collecting nvidia-cuda-cupti-cu12==12.4.127 (from torch->-r /content/drive/MyDrive/NNTI_Project_files/Project_Files/requirements.txt (line 6))\n",
      "  Downloading nvidia_cuda_cupti_cu12-12.4.127-py3-none-manylinux2014_x86_64.whl.metadata (1.6 kB)\n",
      "Collecting nvidia-cudnn-cu12==9.1.0.70 (from torch->-r /content/drive/MyDrive/NNTI_Project_files/Project_Files/requirements.txt (line 6))\n",
      "  Downloading nvidia_cudnn_cu12-9.1.0.70-py3-none-manylinux2014_x86_64.whl.metadata (1.6 kB)\n",
      "Collecting nvidia-cublas-cu12==12.4.5.8 (from torch->-r /content/drive/MyDrive/NNTI_Project_files/Project_Files/requirements.txt (line 6))\n",
      "  Downloading nvidia_cublas_cu12-12.4.5.8-py3-none-manylinux2014_x86_64.whl.metadata (1.5 kB)\n",
      "Collecting nvidia-cufft-cu12==11.2.1.3 (from torch->-r /content/drive/MyDrive/NNTI_Project_files/Project_Files/requirements.txt (line 6))\n",
      "  Downloading nvidia_cufft_cu12-11.2.1.3-py3-none-manylinux2014_x86_64.whl.metadata (1.5 kB)\n",
      "Collecting nvidia-curand-cu12==10.3.5.147 (from torch->-r /content/drive/MyDrive/NNTI_Project_files/Project_Files/requirements.txt (line 6))\n",
      "  Downloading nvidia_curand_cu12-10.3.5.147-py3-none-manylinux2014_x86_64.whl.metadata (1.5 kB)\n",
      "Collecting nvidia-cusolver-cu12==11.6.1.9 (from torch->-r /content/drive/MyDrive/NNTI_Project_files/Project_Files/requirements.txt (line 6))\n",
      "  Downloading nvidia_cusolver_cu12-11.6.1.9-py3-none-manylinux2014_x86_64.whl.metadata (1.6 kB)\n",
      "Collecting nvidia-cusparse-cu12==12.3.1.170 (from torch->-r /content/drive/MyDrive/NNTI_Project_files/Project_Files/requirements.txt (line 6))\n",
      "  Downloading nvidia_cusparse_cu12-12.3.1.170-py3-none-manylinux2014_x86_64.whl.metadata (1.6 kB)\n",
      "Requirement already satisfied: nvidia-nccl-cu12==2.21.5 in /usr/local/lib/python3.11/dist-packages (from torch->-r /content/drive/MyDrive/NNTI_Project_files/Project_Files/requirements.txt (line 6)) (2.21.5)\n",
      "Requirement already satisfied: nvidia-nvtx-cu12==12.4.127 in /usr/local/lib/python3.11/dist-packages (from torch->-r /content/drive/MyDrive/NNTI_Project_files/Project_Files/requirements.txt (line 6)) (12.4.127)\n",
      "Collecting nvidia-nvjitlink-cu12==12.4.127 (from torch->-r /content/drive/MyDrive/NNTI_Project_files/Project_Files/requirements.txt (line 6))\n",
      "  Downloading nvidia_nvjitlink_cu12-12.4.127-py3-none-manylinux2014_x86_64.whl.metadata (1.5 kB)\n",
      "Requirement already satisfied: triton==3.1.0 in /usr/local/lib/python3.11/dist-packages (from torch->-r /content/drive/MyDrive/NNTI_Project_files/Project_Files/requirements.txt (line 6)) (3.1.0)\n",
      "Requirement already satisfied: sympy==1.13.1 in /usr/local/lib/python3.11/dist-packages (from torch->-r /content/drive/MyDrive/NNTI_Project_files/Project_Files/requirements.txt (line 6)) (1.13.1)\n",
      "Requirement already satisfied: mpmath<1.4,>=1.1.0 in /usr/local/lib/python3.11/dist-packages (from sympy==1.13.1->torch->-r /content/drive/MyDrive/NNTI_Project_files/Project_Files/requirements.txt (line 6)) (1.3.0)\n",
      "Requirement already satisfied: pyarrow>=15.0.0 in /usr/local/lib/python3.11/dist-packages (from datasets->-r /content/drive/MyDrive/NNTI_Project_files/Project_Files/requirements.txt (line 7)) (18.1.0)\n",
      "Collecting dill<0.3.9,>=0.3.0 (from datasets->-r /content/drive/MyDrive/NNTI_Project_files/Project_Files/requirements.txt (line 7))\n",
      "  Downloading dill-0.3.8-py3-none-any.whl.metadata (10 kB)\n",
      "Requirement already satisfied: requests>=2.32.2 in /usr/local/lib/python3.11/dist-packages (from datasets->-r /content/drive/MyDrive/NNTI_Project_files/Project_Files/requirements.txt (line 7)) (2.32.3)\n",
      "Requirement already satisfied: tqdm>=4.66.3 in /usr/local/lib/python3.11/dist-packages (from datasets->-r /content/drive/MyDrive/NNTI_Project_files/Project_Files/requirements.txt (line 7)) (4.67.1)\n",
      "Collecting xxhash (from datasets->-r /content/drive/MyDrive/NNTI_Project_files/Project_Files/requirements.txt (line 7))\n",
      "  Downloading xxhash-3.5.0-cp311-cp311-manylinux_2_17_x86_64.manylinux2014_x86_64.whl.metadata (12 kB)\n",
      "Collecting multiprocess<0.70.17 (from datasets->-r /content/drive/MyDrive/NNTI_Project_files/Project_Files/requirements.txt (line 7))\n",
      "  Downloading multiprocess-0.70.16-py311-none-any.whl.metadata (7.2 kB)\n",
      "Requirement already satisfied: aiohttp in /usr/local/lib/python3.11/dist-packages (from datasets->-r /content/drive/MyDrive/NNTI_Project_files/Project_Files/requirements.txt (line 7)) (3.11.13)\n",
      "Requirement already satisfied: huggingface-hub>=0.24.0 in /usr/local/lib/python3.11/dist-packages (from datasets->-r /content/drive/MyDrive/NNTI_Project_files/Project_Files/requirements.txt (line 7)) (0.28.1)\n",
      "Requirement already satisfied: pyyaml>=5.1 in /usr/local/lib/python3.11/dist-packages (from datasets->-r /content/drive/MyDrive/NNTI_Project_files/Project_Files/requirements.txt (line 7)) (6.0.2)\n",
      "Requirement already satisfied: regex!=2019.12.17 in /usr/local/lib/python3.11/dist-packages (from transformers->-r /content/drive/MyDrive/NNTI_Project_files/Project_Files/requirements.txt (line 8)) (2024.11.6)\n",
      "Requirement already satisfied: tokenizers<0.22,>=0.21 in /usr/local/lib/python3.11/dist-packages (from transformers->-r /content/drive/MyDrive/NNTI_Project_files/Project_Files/requirements.txt (line 8)) (0.21.0)\n",
      "Requirement already satisfied: safetensors>=0.4.1 in /usr/local/lib/python3.11/dist-packages (from transformers->-r /content/drive/MyDrive/NNTI_Project_files/Project_Files/requirements.txt (line 8)) (0.5.3)\n",
      "Requirement already satisfied: scipy>=1.6.0 in /usr/local/lib/python3.11/dist-packages (from scikit-learn->-r /content/drive/MyDrive/NNTI_Project_files/Project_Files/requirements.txt (line 9)) (1.13.1)\n",
      "Requirement already satisfied: joblib>=1.2.0 in /usr/local/lib/python3.11/dist-packages (from scikit-learn->-r /content/drive/MyDrive/NNTI_Project_files/Project_Files/requirements.txt (line 9)) (1.4.2)\n",
      "Requirement already satisfied: threadpoolctl>=3.1.0 in /usr/local/lib/python3.11/dist-packages (from scikit-learn->-r /content/drive/MyDrive/NNTI_Project_files/Project_Files/requirements.txt (line 9)) (3.5.0)\n",
      "Requirement already satisfied: click!=8.0.0,>=7.1 in /usr/local/lib/python3.11/dist-packages (from wandb->-r /content/drive/MyDrive/NNTI_Project_files/Project_Files/requirements.txt (line 10)) (8.1.8)\n",
      "Requirement already satisfied: docker-pycreds>=0.4.0 in /usr/local/lib/python3.11/dist-packages (from wandb->-r /content/drive/MyDrive/NNTI_Project_files/Project_Files/requirements.txt (line 10)) (0.4.0)\n",
      "Requirement already satisfied: gitpython!=3.1.29,>=1.0.0 in /usr/local/lib/python3.11/dist-packages (from wandb->-r /content/drive/MyDrive/NNTI_Project_files/Project_Files/requirements.txt (line 10)) (3.1.44)\n",
      "Requirement already satisfied: platformdirs in /usr/local/lib/python3.11/dist-packages (from wandb->-r /content/drive/MyDrive/NNTI_Project_files/Project_Files/requirements.txt (line 10)) (4.3.6)\n",
      "Requirement already satisfied: protobuf!=4.21.0,!=5.28.0,<6,>=3.19.0 in /usr/local/lib/python3.11/dist-packages (from wandb->-r /content/drive/MyDrive/NNTI_Project_files/Project_Files/requirements.txt (line 10)) (4.25.6)\n",
      "Requirement already satisfied: psutil>=5.0.0 in /usr/local/lib/python3.11/dist-packages (from wandb->-r /content/drive/MyDrive/NNTI_Project_files/Project_Files/requirements.txt (line 10)) (5.9.5)\n",
      "Requirement already satisfied: pydantic<3,>=2.6 in /usr/local/lib/python3.11/dist-packages (from wandb->-r /content/drive/MyDrive/NNTI_Project_files/Project_Files/requirements.txt (line 10)) (2.10.6)\n",
      "Requirement already satisfied: sentry-sdk>=2.0.0 in /usr/local/lib/python3.11/dist-packages (from wandb->-r /content/drive/MyDrive/NNTI_Project_files/Project_Files/requirements.txt (line 10)) (2.22.0)\n",
      "Requirement already satisfied: setproctitle in /usr/local/lib/python3.11/dist-packages (from wandb->-r /content/drive/MyDrive/NNTI_Project_files/Project_Files/requirements.txt (line 10)) (1.3.5)\n",
      "Requirement already satisfied: setuptools in /usr/local/lib/python3.11/dist-packages (from wandb->-r /content/drive/MyDrive/NNTI_Project_files/Project_Files/requirements.txt (line 10)) (75.1.0)\n",
      "Requirement already satisfied: six>=1.4.0 in /usr/local/lib/python3.11/dist-packages (from docker-pycreds>=0.4.0->wandb->-r /content/drive/MyDrive/NNTI_Project_files/Project_Files/requirements.txt (line 10)) (1.17.0)\n",
      "Requirement already satisfied: aiohappyeyeballs>=2.3.0 in /usr/local/lib/python3.11/dist-packages (from aiohttp->datasets->-r /content/drive/MyDrive/NNTI_Project_files/Project_Files/requirements.txt (line 7)) (2.4.6)\n",
      "Requirement already satisfied: aiosignal>=1.1.2 in /usr/local/lib/python3.11/dist-packages (from aiohttp->datasets->-r /content/drive/MyDrive/NNTI_Project_files/Project_Files/requirements.txt (line 7)) (1.3.2)\n",
      "Requirement already satisfied: attrs>=17.3.0 in /usr/local/lib/python3.11/dist-packages (from aiohttp->datasets->-r /content/drive/MyDrive/NNTI_Project_files/Project_Files/requirements.txt (line 7)) (25.1.0)\n",
      "Requirement already satisfied: frozenlist>=1.1.1 in /usr/local/lib/python3.11/dist-packages (from aiohttp->datasets->-r /content/drive/MyDrive/NNTI_Project_files/Project_Files/requirements.txt (line 7)) (1.5.0)\n",
      "Requirement already satisfied: multidict<7.0,>=4.5 in /usr/local/lib/python3.11/dist-packages (from aiohttp->datasets->-r /content/drive/MyDrive/NNTI_Project_files/Project_Files/requirements.txt (line 7)) (6.1.0)\n",
      "Requirement already satisfied: propcache>=0.2.0 in /usr/local/lib/python3.11/dist-packages (from aiohttp->datasets->-r /content/drive/MyDrive/NNTI_Project_files/Project_Files/requirements.txt (line 7)) (0.3.0)\n",
      "Requirement already satisfied: yarl<2.0,>=1.17.0 in /usr/local/lib/python3.11/dist-packages (from aiohttp->datasets->-r /content/drive/MyDrive/NNTI_Project_files/Project_Files/requirements.txt (line 7)) (1.18.3)\n",
      "Requirement already satisfied: gitdb<5,>=4.0.1 in /usr/local/lib/python3.11/dist-packages (from gitpython!=3.1.29,>=1.0.0->wandb->-r /content/drive/MyDrive/NNTI_Project_files/Project_Files/requirements.txt (line 10)) (4.0.12)\n",
      "Requirement already satisfied: debugpy>=1.0 in /usr/local/lib/python3.11/dist-packages (from ipykernel>=4.5.1->ipywidgets->-r /content/drive/MyDrive/NNTI_Project_files/Project_Files/requirements.txt (line 1)) (1.8.0)\n",
      "Requirement already satisfied: jupyter-client>=6.1.12 in /usr/local/lib/python3.11/dist-packages (from ipykernel>=4.5.1->ipywidgets->-r /content/drive/MyDrive/NNTI_Project_files/Project_Files/requirements.txt (line 1)) (6.1.12)\n",
      "Requirement already satisfied: matplotlib-inline>=0.1 in /usr/local/lib/python3.11/dist-packages (from ipykernel>=4.5.1->ipywidgets->-r /content/drive/MyDrive/NNTI_Project_files/Project_Files/requirements.txt (line 1)) (0.1.7)\n",
      "Requirement already satisfied: nest-asyncio in /usr/local/lib/python3.11/dist-packages (from ipykernel>=4.5.1->ipywidgets->-r /content/drive/MyDrive/NNTI_Project_files/Project_Files/requirements.txt (line 1)) (1.6.0)\n",
      "Requirement already satisfied: pyzmq>=17 in /usr/local/lib/python3.11/dist-packages (from ipykernel>=4.5.1->ipywidgets->-r /content/drive/MyDrive/NNTI_Project_files/Project_Files/requirements.txt (line 1)) (24.0.1)\n",
      "Requirement already satisfied: tornado>=6.1 in /usr/local/lib/python3.11/dist-packages (from ipykernel>=4.5.1->ipywidgets->-r /content/drive/MyDrive/NNTI_Project_files/Project_Files/requirements.txt (line 1)) (6.4.2)\n",
      "Collecting jedi>=0.16 (from ipython>=4.0.0->ipywidgets->-r /content/drive/MyDrive/NNTI_Project_files/Project_Files/requirements.txt (line 1))\n",
      "  Downloading jedi-0.19.2-py2.py3-none-any.whl.metadata (22 kB)\n",
      "Requirement already satisfied: decorator in /usr/local/lib/python3.11/dist-packages (from ipython>=4.0.0->ipywidgets->-r /content/drive/MyDrive/NNTI_Project_files/Project_Files/requirements.txt (line 1)) (4.4.2)\n",
      "Requirement already satisfied: pickleshare in /usr/local/lib/python3.11/dist-packages (from ipython>=4.0.0->ipywidgets->-r /content/drive/MyDrive/NNTI_Project_files/Project_Files/requirements.txt (line 1)) (0.7.5)\n",
      "Requirement already satisfied: prompt-toolkit!=3.0.0,!=3.0.1,<3.1.0,>=2.0.0 in /usr/local/lib/python3.11/dist-packages (from ipython>=4.0.0->ipywidgets->-r /content/drive/MyDrive/NNTI_Project_files/Project_Files/requirements.txt (line 1)) (3.0.50)\n",
      "Requirement already satisfied: pygments in /usr/local/lib/python3.11/dist-packages (from ipython>=4.0.0->ipywidgets->-r /content/drive/MyDrive/NNTI_Project_files/Project_Files/requirements.txt (line 1)) (2.18.0)\n",
      "Requirement already satisfied: backcall in /usr/local/lib/python3.11/dist-packages (from ipython>=4.0.0->ipywidgets->-r /content/drive/MyDrive/NNTI_Project_files/Project_Files/requirements.txt (line 1)) (0.2.0)\n",
      "Requirement already satisfied: pexpect>4.3 in /usr/local/lib/python3.11/dist-packages (from ipython>=4.0.0->ipywidgets->-r /content/drive/MyDrive/NNTI_Project_files/Project_Files/requirements.txt (line 1)) (4.9.0)\n",
      "Requirement already satisfied: annotated-types>=0.6.0 in /usr/local/lib/python3.11/dist-packages (from pydantic<3,>=2.6->wandb->-r /content/drive/MyDrive/NNTI_Project_files/Project_Files/requirements.txt (line 10)) (0.7.0)\n",
      "Requirement already satisfied: pydantic-core==2.27.2 in /usr/local/lib/python3.11/dist-packages (from pydantic<3,>=2.6->wandb->-r /content/drive/MyDrive/NNTI_Project_files/Project_Files/requirements.txt (line 10)) (2.27.2)\n",
      "Requirement already satisfied: charset-normalizer<4,>=2 in /usr/local/lib/python3.11/dist-packages (from requests>=2.32.2->datasets->-r /content/drive/MyDrive/NNTI_Project_files/Project_Files/requirements.txt (line 7)) (3.4.1)\n",
      "Requirement already satisfied: idna<4,>=2.5 in /usr/local/lib/python3.11/dist-packages (from requests>=2.32.2->datasets->-r /content/drive/MyDrive/NNTI_Project_files/Project_Files/requirements.txt (line 7)) (3.10)\n",
      "Requirement already satisfied: urllib3<3,>=1.21.1 in /usr/local/lib/python3.11/dist-packages (from requests>=2.32.2->datasets->-r /content/drive/MyDrive/NNTI_Project_files/Project_Files/requirements.txt (line 7)) (2.3.0)\n",
      "Requirement already satisfied: certifi>=2017.4.17 in /usr/local/lib/python3.11/dist-packages (from requests>=2.32.2->datasets->-r /content/drive/MyDrive/NNTI_Project_files/Project_Files/requirements.txt (line 7)) (2025.1.31)\n",
      "Requirement already satisfied: argon2-cffi in /usr/local/lib/python3.11/dist-packages (from notebook->jupyter->-r /content/drive/MyDrive/NNTI_Project_files/Project_Files/requirements.txt (line 2)) (23.1.0)\n",
      "Requirement already satisfied: jupyter-core>=4.6.1 in /usr/local/lib/python3.11/dist-packages (from notebook->jupyter->-r /content/drive/MyDrive/NNTI_Project_files/Project_Files/requirements.txt (line 2)) (5.7.2)\n",
      "Requirement already satisfied: nbformat in /usr/local/lib/python3.11/dist-packages (from notebook->jupyter->-r /content/drive/MyDrive/NNTI_Project_files/Project_Files/requirements.txt (line 2)) (5.10.4)\n",
      "Requirement already satisfied: Send2Trash>=1.8.0 in /usr/local/lib/python3.11/dist-packages (from notebook->jupyter->-r /content/drive/MyDrive/NNTI_Project_files/Project_Files/requirements.txt (line 2)) (1.8.3)\n",
      "Requirement already satisfied: terminado>=0.8.3 in /usr/local/lib/python3.11/dist-packages (from notebook->jupyter->-r /content/drive/MyDrive/NNTI_Project_files/Project_Files/requirements.txt (line 2)) (0.18.1)\n",
      "Requirement already satisfied: prometheus-client in /usr/local/lib/python3.11/dist-packages (from notebook->jupyter->-r /content/drive/MyDrive/NNTI_Project_files/Project_Files/requirements.txt (line 2)) (0.21.1)\n",
      "Requirement already satisfied: nbclassic>=0.4.7 in /usr/local/lib/python3.11/dist-packages (from notebook->jupyter->-r /content/drive/MyDrive/NNTI_Project_files/Project_Files/requirements.txt (line 2)) (1.2.0)\n",
      "Requirement already satisfied: beautifulsoup4 in /usr/local/lib/python3.11/dist-packages (from nbconvert->jupyter->-r /content/drive/MyDrive/NNTI_Project_files/Project_Files/requirements.txt (line 2)) (4.13.3)\n",
      "Requirement already satisfied: bleach!=5.0.0 in /usr/local/lib/python3.11/dist-packages (from bleach[css]!=5.0.0->nbconvert->jupyter->-r /content/drive/MyDrive/NNTI_Project_files/Project_Files/requirements.txt (line 2)) (6.2.0)\n",
      "Requirement already satisfied: defusedxml in /usr/local/lib/python3.11/dist-packages (from nbconvert->jupyter->-r /content/drive/MyDrive/NNTI_Project_files/Project_Files/requirements.txt (line 2)) (0.7.1)\n",
      "Requirement already satisfied: jupyterlab-pygments in /usr/local/lib/python3.11/dist-packages (from nbconvert->jupyter->-r /content/drive/MyDrive/NNTI_Project_files/Project_Files/requirements.txt (line 2)) (0.3.0)\n",
      "Requirement already satisfied: markupsafe>=2.0 in /usr/local/lib/python3.11/dist-packages (from nbconvert->jupyter->-r /content/drive/MyDrive/NNTI_Project_files/Project_Files/requirements.txt (line 2)) (3.0.2)\n",
      "Requirement already satisfied: mistune<4,>=2.0.3 in /usr/local/lib/python3.11/dist-packages (from nbconvert->jupyter->-r /content/drive/MyDrive/NNTI_Project_files/Project_Files/requirements.txt (line 2)) (3.1.2)\n",
      "Requirement already satisfied: nbclient>=0.5.0 in /usr/local/lib/python3.11/dist-packages (from nbconvert->jupyter->-r /content/drive/MyDrive/NNTI_Project_files/Project_Files/requirements.txt (line 2)) (0.10.2)\n",
      "Requirement already satisfied: pandocfilters>=1.4.1 in /usr/local/lib/python3.11/dist-packages (from nbconvert->jupyter->-r /content/drive/MyDrive/NNTI_Project_files/Project_Files/requirements.txt (line 2)) (1.5.1)\n",
      "Collecting async-lru>=1.0.0 (from jupyterlab->jupyter->-r /content/drive/MyDrive/NNTI_Project_files/Project_Files/requirements.txt (line 2))\n",
      "  Downloading async_lru-2.0.4-py3-none-any.whl.metadata (4.5 kB)\n",
      "Requirement already satisfied: httpx>=0.25.0 in /usr/local/lib/python3.11/dist-packages (from jupyterlab->jupyter->-r /content/drive/MyDrive/NNTI_Project_files/Project_Files/requirements.txt (line 2)) (0.28.1)\n",
      "Collecting jupyter-lsp>=2.0.0 (from jupyterlab->jupyter->-r /content/drive/MyDrive/NNTI_Project_files/Project_Files/requirements.txt (line 2))\n",
      "  Downloading jupyter_lsp-2.2.5-py3-none-any.whl.metadata (1.8 kB)\n",
      "Collecting jupyter-server<3,>=2.4.0 (from jupyterlab->jupyter->-r /content/drive/MyDrive/NNTI_Project_files/Project_Files/requirements.txt (line 2))\n",
      "  Downloading jupyter_server-2.15.0-py3-none-any.whl.metadata (8.4 kB)\n",
      "Collecting jupyterlab-server<3,>=2.27.1 (from jupyterlab->jupyter->-r /content/drive/MyDrive/NNTI_Project_files/Project_Files/requirements.txt (line 2))\n",
      "  Downloading jupyterlab_server-2.27.3-py3-none-any.whl.metadata (5.9 kB)\n",
      "Requirement already satisfied: notebook-shim>=0.2 in /usr/local/lib/python3.11/dist-packages (from jupyterlab->jupyter->-r /content/drive/MyDrive/NNTI_Project_files/Project_Files/requirements.txt (line 2)) (0.2.4)\n",
      "Requirement already satisfied: webencodings in /usr/local/lib/python3.11/dist-packages (from bleach!=5.0.0->bleach[css]!=5.0.0->nbconvert->jupyter->-r /content/drive/MyDrive/NNTI_Project_files/Project_Files/requirements.txt (line 2)) (0.5.1)\n",
      "Requirement already satisfied: tinycss2<1.5,>=1.1.0 in /usr/local/lib/python3.11/dist-packages (from bleach[css]!=5.0.0->nbconvert->jupyter->-r /content/drive/MyDrive/NNTI_Project_files/Project_Files/requirements.txt (line 2)) (1.4.0)\n",
      "Requirement already satisfied: smmap<6,>=3.0.1 in /usr/local/lib/python3.11/dist-packages (from gitdb<5,>=4.0.1->gitpython!=3.1.29,>=1.0.0->wandb->-r /content/drive/MyDrive/NNTI_Project_files/Project_Files/requirements.txt (line 10)) (5.0.2)\n",
      "Requirement already satisfied: anyio in /usr/local/lib/python3.11/dist-packages (from httpx>=0.25.0->jupyterlab->jupyter->-r /content/drive/MyDrive/NNTI_Project_files/Project_Files/requirements.txt (line 2)) (3.7.1)\n",
      "Requirement already satisfied: httpcore==1.* in /usr/local/lib/python3.11/dist-packages (from httpx>=0.25.0->jupyterlab->jupyter->-r /content/drive/MyDrive/NNTI_Project_files/Project_Files/requirements.txt (line 2)) (1.0.7)\n",
      "Requirement already satisfied: h11<0.15,>=0.13 in /usr/local/lib/python3.11/dist-packages (from httpcore==1.*->httpx>=0.25.0->jupyterlab->jupyter->-r /content/drive/MyDrive/NNTI_Project_files/Project_Files/requirements.txt (line 2)) (0.14.0)\n",
      "Requirement already satisfied: parso<0.9.0,>=0.8.4 in /usr/local/lib/python3.11/dist-packages (from jedi>=0.16->ipython>=4.0.0->ipywidgets->-r /content/drive/MyDrive/NNTI_Project_files/Project_Files/requirements.txt (line 1)) (0.8.4)\n",
      "Collecting jupyter-client>=6.1.12 (from ipykernel>=4.5.1->ipywidgets->-r /content/drive/MyDrive/NNTI_Project_files/Project_Files/requirements.txt (line 1))\n",
      "  Downloading jupyter_client-7.4.9-py3-none-any.whl.metadata (8.5 kB)\n",
      "Collecting jupyter-events>=0.11.0 (from jupyter-server<3,>=2.4.0->jupyterlab->jupyter->-r /content/drive/MyDrive/NNTI_Project_files/Project_Files/requirements.txt (line 2))\n",
      "  Downloading jupyter_events-0.12.0-py3-none-any.whl.metadata (5.8 kB)\n",
      "Collecting jupyter-server-terminals>=0.4.4 (from jupyter-server<3,>=2.4.0->jupyterlab->jupyter->-r /content/drive/MyDrive/NNTI_Project_files/Project_Files/requirements.txt (line 2))\n",
      "  Downloading jupyter_server_terminals-0.5.3-py3-none-any.whl.metadata (5.6 kB)\n",
      "Collecting overrides>=5.0 (from jupyter-server<3,>=2.4.0->jupyterlab->jupyter->-r /content/drive/MyDrive/NNTI_Project_files/Project_Files/requirements.txt (line 2))\n",
      "  Downloading overrides-7.7.0-py3-none-any.whl.metadata (5.8 kB)\n",
      "Requirement already satisfied: websocket-client>=1.7 in /usr/local/lib/python3.11/dist-packages (from jupyter-server<3,>=2.4.0->jupyterlab->jupyter->-r /content/drive/MyDrive/NNTI_Project_files/Project_Files/requirements.txt (line 2)) (1.8.0)\n",
      "Requirement already satisfied: argon2-cffi-bindings in /usr/local/lib/python3.11/dist-packages (from argon2-cffi->notebook->jupyter->-r /content/drive/MyDrive/NNTI_Project_files/Project_Files/requirements.txt (line 2)) (21.2.0)\n",
      "Requirement already satisfied: entrypoints in /usr/local/lib/python3.11/dist-packages (from jupyter-client>=6.1.12->ipykernel>=4.5.1->ipywidgets->-r /content/drive/MyDrive/NNTI_Project_files/Project_Files/requirements.txt (line 1)) (0.4)\n",
      "Requirement already satisfied: babel>=2.10 in /usr/local/lib/python3.11/dist-packages (from jupyterlab-server<3,>=2.27.1->jupyterlab->jupyter->-r /content/drive/MyDrive/NNTI_Project_files/Project_Files/requirements.txt (line 2)) (2.17.0)\n",
      "Collecting json5>=0.9.0 (from jupyterlab-server<3,>=2.27.1->jupyterlab->jupyter->-r /content/drive/MyDrive/NNTI_Project_files/Project_Files/requirements.txt (line 2))\n",
      "  Downloading json5-0.10.0-py3-none-any.whl.metadata (34 kB)\n",
      "Requirement already satisfied: jsonschema>=4.18.0 in /usr/local/lib/python3.11/dist-packages (from jupyterlab-server<3,>=2.27.1->jupyterlab->jupyter->-r /content/drive/MyDrive/NNTI_Project_files/Project_Files/requirements.txt (line 2)) (4.23.0)\n",
      "Requirement already satisfied: fastjsonschema>=2.15 in /usr/local/lib/python3.11/dist-packages (from nbformat->notebook->jupyter->-r /content/drive/MyDrive/NNTI_Project_files/Project_Files/requirements.txt (line 2)) (2.21.1)\n",
      "Requirement already satisfied: ptyprocess>=0.5 in /usr/local/lib/python3.11/dist-packages (from pexpect>4.3->ipython>=4.0.0->ipywidgets->-r /content/drive/MyDrive/NNTI_Project_files/Project_Files/requirements.txt (line 1)) (0.7.0)\n",
      "Requirement already satisfied: wcwidth in /usr/local/lib/python3.11/dist-packages (from prompt-toolkit!=3.0.0,!=3.0.1,<3.1.0,>=2.0.0->ipython>=4.0.0->ipywidgets->-r /content/drive/MyDrive/NNTI_Project_files/Project_Files/requirements.txt (line 1)) (0.2.13)\n",
      "Requirement already satisfied: soupsieve>1.2 in /usr/local/lib/python3.11/dist-packages (from beautifulsoup4->nbconvert->jupyter->-r /content/drive/MyDrive/NNTI_Project_files/Project_Files/requirements.txt (line 2)) (2.6)\n",
      "Requirement already satisfied: sniffio>=1.1 in /usr/local/lib/python3.11/dist-packages (from anyio->httpx>=0.25.0->jupyterlab->jupyter->-r /content/drive/MyDrive/NNTI_Project_files/Project_Files/requirements.txt (line 2)) (1.3.1)\n",
      "Requirement already satisfied: jsonschema-specifications>=2023.03.6 in /usr/local/lib/python3.11/dist-packages (from jsonschema>=4.18.0->jupyterlab-server<3,>=2.27.1->jupyterlab->jupyter->-r /content/drive/MyDrive/NNTI_Project_files/Project_Files/requirements.txt (line 2)) (2024.10.1)\n",
      "Requirement already satisfied: referencing>=0.28.4 in /usr/local/lib/python3.11/dist-packages (from jsonschema>=4.18.0->jupyterlab-server<3,>=2.27.1->jupyterlab->jupyter->-r /content/drive/MyDrive/NNTI_Project_files/Project_Files/requirements.txt (line 2)) (0.36.2)\n",
      "Requirement already satisfied: rpds-py>=0.7.1 in /usr/local/lib/python3.11/dist-packages (from jsonschema>=4.18.0->jupyterlab-server<3,>=2.27.1->jupyterlab->jupyter->-r /content/drive/MyDrive/NNTI_Project_files/Project_Files/requirements.txt (line 2)) (0.23.1)\n",
      "Collecting python-json-logger>=2.0.4 (from jupyter-events>=0.11.0->jupyter-server<3,>=2.4.0->jupyterlab->jupyter->-r /content/drive/MyDrive/NNTI_Project_files/Project_Files/requirements.txt (line 2))\n",
      "  Downloading python_json_logger-3.3.0-py3-none-any.whl.metadata (4.0 kB)\n",
      "Collecting rfc3339-validator (from jupyter-events>=0.11.0->jupyter-server<3,>=2.4.0->jupyterlab->jupyter->-r /content/drive/MyDrive/NNTI_Project_files/Project_Files/requirements.txt (line 2))\n",
      "  Downloading rfc3339_validator-0.1.4-py2.py3-none-any.whl.metadata (1.5 kB)\n",
      "Collecting rfc3986-validator>=0.1.1 (from jupyter-events>=0.11.0->jupyter-server<3,>=2.4.0->jupyterlab->jupyter->-r /content/drive/MyDrive/NNTI_Project_files/Project_Files/requirements.txt (line 2))\n",
      "  Downloading rfc3986_validator-0.1.1-py2.py3-none-any.whl.metadata (1.7 kB)\n",
      "Requirement already satisfied: cffi>=1.0.1 in /usr/local/lib/python3.11/dist-packages (from argon2-cffi-bindings->argon2-cffi->notebook->jupyter->-r /content/drive/MyDrive/NNTI_Project_files/Project_Files/requirements.txt (line 2)) (1.17.1)\n",
      "Requirement already satisfied: pycparser in /usr/local/lib/python3.11/dist-packages (from cffi>=1.0.1->argon2-cffi-bindings->argon2-cffi->notebook->jupyter->-r /content/drive/MyDrive/NNTI_Project_files/Project_Files/requirements.txt (line 2)) (2.22)\n",
      "Collecting fqdn (from jsonschema[format-nongpl]>=4.18.0->jupyter-events>=0.11.0->jupyter-server<3,>=2.4.0->jupyterlab->jupyter->-r /content/drive/MyDrive/NNTI_Project_files/Project_Files/requirements.txt (line 2))\n",
      "  Downloading fqdn-1.5.1-py3-none-any.whl.metadata (1.4 kB)\n",
      "Collecting isoduration (from jsonschema[format-nongpl]>=4.18.0->jupyter-events>=0.11.0->jupyter-server<3,>=2.4.0->jupyterlab->jupyter->-r /content/drive/MyDrive/NNTI_Project_files/Project_Files/requirements.txt (line 2))\n",
      "  Downloading isoduration-20.11.0-py3-none-any.whl.metadata (5.7 kB)\n",
      "Requirement already satisfied: jsonpointer>1.13 in /usr/local/lib/python3.11/dist-packages (from jsonschema[format-nongpl]>=4.18.0->jupyter-events>=0.11.0->jupyter-server<3,>=2.4.0->jupyterlab->jupyter->-r /content/drive/MyDrive/NNTI_Project_files/Project_Files/requirements.txt (line 2)) (3.0.0)\n",
      "Collecting uri-template (from jsonschema[format-nongpl]>=4.18.0->jupyter-events>=0.11.0->jupyter-server<3,>=2.4.0->jupyterlab->jupyter->-r /content/drive/MyDrive/NNTI_Project_files/Project_Files/requirements.txt (line 2))\n",
      "  Downloading uri_template-1.3.0-py3-none-any.whl.metadata (8.8 kB)\n",
      "Requirement already satisfied: webcolors>=24.6.0 in /usr/local/lib/python3.11/dist-packages (from jsonschema[format-nongpl]>=4.18.0->jupyter-events>=0.11.0->jupyter-server<3,>=2.4.0->jupyterlab->jupyter->-r /content/drive/MyDrive/NNTI_Project_files/Project_Files/requirements.txt (line 2)) (24.11.1)\n",
      "Collecting arrow>=0.15.0 (from isoduration->jsonschema[format-nongpl]>=4.18.0->jupyter-events>=0.11.0->jupyter-server<3,>=2.4.0->jupyterlab->jupyter->-r /content/drive/MyDrive/NNTI_Project_files/Project_Files/requirements.txt (line 2))\n",
      "  Downloading arrow-1.3.0-py3-none-any.whl.metadata (7.5 kB)\n",
      "Collecting types-python-dateutil>=2.8.10 (from arrow>=0.15.0->isoduration->jsonschema[format-nongpl]>=4.18.0->jupyter-events>=0.11.0->jupyter-server<3,>=2.4.0->jupyterlab->jupyter->-r /content/drive/MyDrive/NNTI_Project_files/Project_Files/requirements.txt (line 2))\n",
      "  Downloading types_python_dateutil-2.9.0.20241206-py3-none-any.whl.metadata (2.1 kB)\n",
      "Downloading jupyter-1.1.1-py2.py3-none-any.whl (2.7 kB)\n",
      "Downloading nvidia_cublas_cu12-12.4.5.8-py3-none-manylinux2014_x86_64.whl (363.4 MB)\n",
      "\u001b[2K   \u001b[90m━━━━━━━━━━━━━━━━━━━━━━━━━━━━━━━━━━━━━━━━\u001b[0m \u001b[32m363.4/363.4 MB\u001b[0m \u001b[31m3.6 MB/s\u001b[0m eta \u001b[36m0:00:00\u001b[0m\n",
      "\u001b[?25hDownloading nvidia_cuda_cupti_cu12-12.4.127-py3-none-manylinux2014_x86_64.whl (13.8 MB)\n",
      "\u001b[2K   \u001b[90m━━━━━━━━━━━━━━━━━━━━━━━━━━━━━━━━━━━━━━━━\u001b[0m \u001b[32m13.8/13.8 MB\u001b[0m \u001b[31m61.4 MB/s\u001b[0m eta \u001b[36m0:00:00\u001b[0m\n",
      "\u001b[?25hDownloading nvidia_cuda_nvrtc_cu12-12.4.127-py3-none-manylinux2014_x86_64.whl (24.6 MB)\n",
      "\u001b[2K   \u001b[90m━━━━━━━━━━━━━━━━━━━━━━━━━━━━━━━━━━━━━━━━\u001b[0m \u001b[32m24.6/24.6 MB\u001b[0m \u001b[31m95.1 MB/s\u001b[0m eta \u001b[36m0:00:00\u001b[0m\n",
      "\u001b[?25hDownloading nvidia_cuda_runtime_cu12-12.4.127-py3-none-manylinux2014_x86_64.whl (883 kB)\n",
      "\u001b[2K   \u001b[90m━━━━━━━━━━━━━━━━━━━━━━━━━━━━━━━━━━━━━━━━\u001b[0m \u001b[32m883.7/883.7 kB\u001b[0m \u001b[31m19.3 MB/s\u001b[0m eta \u001b[36m0:00:00\u001b[0m\n",
      "\u001b[?25hDownloading nvidia_cudnn_cu12-9.1.0.70-py3-none-manylinux2014_x86_64.whl (664.8 MB)\n",
      "\u001b[2K   \u001b[90m━━━━━━━━━━━━━━━━━━━━━━━━━━━━━━━━━━━━━━━━\u001b[0m \u001b[32m664.8/664.8 MB\u001b[0m \u001b[31m1.7 MB/s\u001b[0m eta \u001b[36m0:00:00\u001b[0m\n",
      "\u001b[?25hDownloading nvidia_cufft_cu12-11.2.1.3-py3-none-manylinux2014_x86_64.whl (211.5 MB)\n",
      "\u001b[2K   \u001b[90m━━━━━━━━━━━━━━━━━━━━━━━━━━━━━━━━━━━━━━━━\u001b[0m \u001b[32m211.5/211.5 MB\u001b[0m \u001b[31m10.7 MB/s\u001b[0m eta \u001b[36m0:00:00\u001b[0m\n",
      "\u001b[?25hDownloading nvidia_curand_cu12-10.3.5.147-py3-none-manylinux2014_x86_64.whl (56.3 MB)\n",
      "\u001b[2K   \u001b[90m━━━━━━━━━━━━━━━━━━━━━━━━━━━━━━━━━━━━━━━━\u001b[0m \u001b[32m56.3/56.3 MB\u001b[0m \u001b[31m40.7 MB/s\u001b[0m eta \u001b[36m0:00:00\u001b[0m\n",
      "\u001b[?25hDownloading nvidia_cusolver_cu12-11.6.1.9-py3-none-manylinux2014_x86_64.whl (127.9 MB)\n",
      "\u001b[2K   \u001b[90m━━━━━━━━━━━━━━━━━━━━━━━━━━━━━━━━━━━━━━━━\u001b[0m \u001b[32m127.9/127.9 MB\u001b[0m \u001b[31m19.0 MB/s\u001b[0m eta \u001b[36m0:00:00\u001b[0m\n",
      "\u001b[?25hDownloading nvidia_cusparse_cu12-12.3.1.170-py3-none-manylinux2014_x86_64.whl (207.5 MB)\n",
      "\u001b[2K   \u001b[90m━━━━━━━━━━━━━━━━━━━━━━━━━━━━━━━━━━━━━━━━\u001b[0m \u001b[32m207.5/207.5 MB\u001b[0m \u001b[31m4.0 MB/s\u001b[0m eta \u001b[36m0:00:00\u001b[0m\n",
      "\u001b[?25hDownloading nvidia_nvjitlink_cu12-12.4.127-py3-none-manylinux2014_x86_64.whl (21.1 MB)\n",
      "\u001b[2K   \u001b[90m━━━━━━━━━━━━━━━━━━━━━━━━━━━━━━━━━━━━━━━━\u001b[0m \u001b[32m21.1/21.1 MB\u001b[0m \u001b[31m43.2 MB/s\u001b[0m eta \u001b[36m0:00:00\u001b[0m\n",
      "\u001b[?25hDownloading datasets-3.3.2-py3-none-any.whl (485 kB)\n",
      "\u001b[2K   \u001b[90m━━━━━━━━━━━━━━━━━━━━━━━━━━━━━━━━━━━━━━━━\u001b[0m \u001b[32m485.4/485.4 kB\u001b[0m \u001b[31m40.4 MB/s\u001b[0m eta \u001b[36m0:00:00\u001b[0m\n",
      "\u001b[?25hDownloading dill-0.3.8-py3-none-any.whl (116 kB)\n",
      "\u001b[2K   \u001b[90m━━━━━━━━━━━━━━━━━━━━━━━━━━━━━━━━━━━━━━━━\u001b[0m \u001b[32m116.3/116.3 kB\u001b[0m \u001b[31m12.9 MB/s\u001b[0m eta \u001b[36m0:00:00\u001b[0m\n",
      "\u001b[?25hDownloading multiprocess-0.70.16-py311-none-any.whl (143 kB)\n",
      "\u001b[2K   \u001b[90m━━━━━━━━━━━━━━━━━━━━━━━━━━━━━━━━━━━━━━━━\u001b[0m \u001b[32m143.5/143.5 kB\u001b[0m \u001b[31m14.7 MB/s\u001b[0m eta \u001b[36m0:00:00\u001b[0m\n",
      "\u001b[?25hDownloading jupyterlab-4.3.5-py3-none-any.whl (11.7 MB)\n",
      "\u001b[2K   \u001b[90m━━━━━━━━━━━━━━━━━━━━━━━━━━━━━━━━━━━━━━━━\u001b[0m \u001b[32m11.7/11.7 MB\u001b[0m \u001b[31m115.1 MB/s\u001b[0m eta \u001b[36m0:00:00\u001b[0m\n",
      "\u001b[?25hDownloading xxhash-3.5.0-cp311-cp311-manylinux_2_17_x86_64.manylinux2014_x86_64.whl (194 kB)\n",
      "\u001b[2K   \u001b[90m━━━━━━━━━━━━━━━━━━━━━━━━━━━━━━━━━━━━━━━━\u001b[0m \u001b[32m194.8/194.8 kB\u001b[0m \u001b[31m18.8 MB/s\u001b[0m eta \u001b[36m0:00:00\u001b[0m\n",
      "\u001b[?25hDownloading async_lru-2.0.4-py3-none-any.whl (6.1 kB)\n",
      "Downloading jedi-0.19.2-py2.py3-none-any.whl (1.6 MB)\n",
      "\u001b[2K   \u001b[90m━━━━━━━━━━━━━━━━━━━━━━━━━━━━━━━━━━━━━━━━\u001b[0m \u001b[32m1.6/1.6 MB\u001b[0m \u001b[31m76.3 MB/s\u001b[0m eta \u001b[36m0:00:00\u001b[0m\n",
      "\u001b[?25hDownloading jupyter_lsp-2.2.5-py3-none-any.whl (69 kB)\n",
      "\u001b[2K   \u001b[90m━━━━━━━━━━━━━━━━━━━━━━━━━━━━━━━━━━━━━━━━\u001b[0m \u001b[32m69.1/69.1 kB\u001b[0m \u001b[31m6.6 MB/s\u001b[0m eta \u001b[36m0:00:00\u001b[0m\n",
      "\u001b[?25hDownloading jupyter_server-2.15.0-py3-none-any.whl (385 kB)\n",
      "\u001b[2K   \u001b[90m━━━━━━━━━━━━━━━━━━━━━━━━━━━━━━━━━━━━━━━━\u001b[0m \u001b[32m385.8/385.8 kB\u001b[0m \u001b[31m34.0 MB/s\u001b[0m eta \u001b[36m0:00:00\u001b[0m\n",
      "\u001b[?25hDownloading jupyter_client-7.4.9-py3-none-any.whl (133 kB)\n",
      "\u001b[2K   \u001b[90m━━━━━━━━━━━━━━━━━━━━━━━━━━━━━━━━━━━━━━━━\u001b[0m \u001b[32m133.5/133.5 kB\u001b[0m \u001b[31m12.7 MB/s\u001b[0m eta \u001b[36m0:00:00\u001b[0m\n",
      "\u001b[?25hDownloading jupyterlab_server-2.27.3-py3-none-any.whl (59 kB)\n",
      "\u001b[2K   \u001b[90m━━━━━━━━━━━━━━━━━━━━━━━━━━━━━━━━━━━━━━━━\u001b[0m \u001b[32m59.7/59.7 kB\u001b[0m \u001b[31m6.2 MB/s\u001b[0m eta \u001b[36m0:00:00\u001b[0m\n",
      "\u001b[?25hDownloading json5-0.10.0-py3-none-any.whl (34 kB)\n",
      "Downloading jupyter_events-0.12.0-py3-none-any.whl (19 kB)\n",
      "Downloading jupyter_server_terminals-0.5.3-py3-none-any.whl (13 kB)\n",
      "Downloading overrides-7.7.0-py3-none-any.whl (17 kB)\n",
      "Downloading python_json_logger-3.3.0-py3-none-any.whl (15 kB)\n",
      "Downloading rfc3986_validator-0.1.1-py2.py3-none-any.whl (4.2 kB)\n",
      "Downloading rfc3339_validator-0.1.4-py2.py3-none-any.whl (3.5 kB)\n",
      "Downloading fqdn-1.5.1-py3-none-any.whl (9.1 kB)\n",
      "Downloading isoduration-20.11.0-py3-none-any.whl (11 kB)\n",
      "Downloading uri_template-1.3.0-py3-none-any.whl (11 kB)\n",
      "Downloading arrow-1.3.0-py3-none-any.whl (66 kB)\n",
      "\u001b[2K   \u001b[90m━━━━━━━━━━━━━━━━━━━━━━━━━━━━━━━━━━━━━━━━\u001b[0m \u001b[32m66.4/66.4 kB\u001b[0m \u001b[31m8.0 MB/s\u001b[0m eta \u001b[36m0:00:00\u001b[0m\n",
      "\u001b[?25hDownloading types_python_dateutil-2.9.0.20241206-py3-none-any.whl (14 kB)\n",
      "Installing collected packages: xxhash, uri-template, types-python-dateutil, rfc3986-validator, rfc3339-validator, python-json-logger, overrides, nvidia-nvjitlink-cu12, nvidia-curand-cu12, nvidia-cufft-cu12, nvidia-cuda-runtime-cu12, nvidia-cuda-nvrtc-cu12, nvidia-cuda-cupti-cu12, nvidia-cublas-cu12, json5, jedi, fqdn, dill, async-lru, nvidia-cusparse-cu12, nvidia-cudnn-cu12, multiprocess, jupyter-server-terminals, jupyter-client, arrow, nvidia-cusolver-cu12, isoduration, datasets, jupyter-events, jupyter-server, jupyterlab-server, jupyter-lsp, jupyterlab, jupyter\n",
      "  Attempting uninstall: nvidia-nvjitlink-cu12\n",
      "    Found existing installation: nvidia-nvjitlink-cu12 12.5.82\n",
      "    Uninstalling nvidia-nvjitlink-cu12-12.5.82:\n",
      "      Successfully uninstalled nvidia-nvjitlink-cu12-12.5.82\n",
      "  Attempting uninstall: nvidia-curand-cu12\n",
      "    Found existing installation: nvidia-curand-cu12 10.3.6.82\n",
      "    Uninstalling nvidia-curand-cu12-10.3.6.82:\n",
      "      Successfully uninstalled nvidia-curand-cu12-10.3.6.82\n",
      "  Attempting uninstall: nvidia-cufft-cu12\n",
      "    Found existing installation: nvidia-cufft-cu12 11.2.3.61\n",
      "    Uninstalling nvidia-cufft-cu12-11.2.3.61:\n",
      "      Successfully uninstalled nvidia-cufft-cu12-11.2.3.61\n",
      "  Attempting uninstall: nvidia-cuda-runtime-cu12\n",
      "    Found existing installation: nvidia-cuda-runtime-cu12 12.5.82\n",
      "    Uninstalling nvidia-cuda-runtime-cu12-12.5.82:\n",
      "      Successfully uninstalled nvidia-cuda-runtime-cu12-12.5.82\n",
      "  Attempting uninstall: nvidia-cuda-nvrtc-cu12\n",
      "    Found existing installation: nvidia-cuda-nvrtc-cu12 12.5.82\n",
      "    Uninstalling nvidia-cuda-nvrtc-cu12-12.5.82:\n",
      "      Successfully uninstalled nvidia-cuda-nvrtc-cu12-12.5.82\n",
      "  Attempting uninstall: nvidia-cuda-cupti-cu12\n",
      "    Found existing installation: nvidia-cuda-cupti-cu12 12.5.82\n",
      "    Uninstalling nvidia-cuda-cupti-cu12-12.5.82:\n",
      "      Successfully uninstalled nvidia-cuda-cupti-cu12-12.5.82\n",
      "  Attempting uninstall: nvidia-cublas-cu12\n",
      "    Found existing installation: nvidia-cublas-cu12 12.5.3.2\n",
      "    Uninstalling nvidia-cublas-cu12-12.5.3.2:\n",
      "      Successfully uninstalled nvidia-cublas-cu12-12.5.3.2\n",
      "  Attempting uninstall: nvidia-cusparse-cu12\n",
      "    Found existing installation: nvidia-cusparse-cu12 12.5.1.3\n",
      "    Uninstalling nvidia-cusparse-cu12-12.5.1.3:\n",
      "      Successfully uninstalled nvidia-cusparse-cu12-12.5.1.3\n",
      "  Attempting uninstall: nvidia-cudnn-cu12\n",
      "    Found existing installation: nvidia-cudnn-cu12 9.3.0.75\n",
      "    Uninstalling nvidia-cudnn-cu12-9.3.0.75:\n",
      "      Successfully uninstalled nvidia-cudnn-cu12-9.3.0.75\n",
      "  Attempting uninstall: jupyter-client\n",
      "    Found existing installation: jupyter-client 6.1.12\n",
      "    Uninstalling jupyter-client-6.1.12:\n",
      "      Successfully uninstalled jupyter-client-6.1.12\n",
      "  Attempting uninstall: nvidia-cusolver-cu12\n",
      "    Found existing installation: nvidia-cusolver-cu12 11.6.3.83\n",
      "    Uninstalling nvidia-cusolver-cu12-11.6.3.83:\n",
      "      Successfully uninstalled nvidia-cusolver-cu12-11.6.3.83\n",
      "  Attempting uninstall: jupyter-server\n",
      "    Found existing installation: jupyter-server 1.24.0\n",
      "    Uninstalling jupyter-server-1.24.0:\n",
      "      Successfully uninstalled jupyter-server-1.24.0\n",
      "Successfully installed arrow-1.3.0 async-lru-2.0.4 datasets-3.3.2 dill-0.3.8 fqdn-1.5.1 isoduration-20.11.0 jedi-0.19.2 json5-0.10.0 jupyter-1.1.1 jupyter-client-7.4.9 jupyter-events-0.12.0 jupyter-lsp-2.2.5 jupyter-server-2.15.0 jupyter-server-terminals-0.5.3 jupyterlab-4.3.5 jupyterlab-server-2.27.3 multiprocess-0.70.16 nvidia-cublas-cu12-12.4.5.8 nvidia-cuda-cupti-cu12-12.4.127 nvidia-cuda-nvrtc-cu12-12.4.127 nvidia-cuda-runtime-cu12-12.4.127 nvidia-cudnn-cu12-9.1.0.70 nvidia-cufft-cu12-11.2.1.3 nvidia-curand-cu12-10.3.5.147 nvidia-cusolver-cu12-11.6.1.9 nvidia-cusparse-cu12-12.3.1.170 nvidia-nvjitlink-cu12-12.4.127 overrides-7.7.0 python-json-logger-3.3.0 rfc3339-validator-0.1.4 rfc3986-validator-0.1.1 types-python-dateutil-2.9.0.20241206 uri-template-1.3.0 xxhash-3.5.0\n"
     ]
    }
   ],
   "source": [
    "!pip install -r /content/drive/MyDrive/NNTI_Project_files/Project_Files/requirements.txt"
   ]
  },
  {
   "cell_type": "code",
   "execution_count": 3,
   "metadata": {
    "colab": {
     "base_uri": "https://localhost:8080/"
    },
    "executionInfo": {
     "elapsed": 2426,
     "status": "ok",
     "timestamp": 1741477155097,
     "user": {
      "displayName": "NueralNetworks Theory",
      "userId": "07825507065392429042"
     },
     "user_tz": -60
    },
    "id": "I0F_Outn7h6V",
    "outputId": "2e6906f1-0f75-450f-db65-55289a69a613"
   },
   "outputs": [
    {
     "name": "stdout",
     "output_type": "stream",
     "text": [
      "Requirement already satisfied: wandb in /usr/local/lib/python3.11/dist-packages (0.19.7)\n",
      "Requirement already satisfied: click!=8.0.0,>=7.1 in /usr/local/lib/python3.11/dist-packages (from wandb) (8.1.8)\n",
      "Requirement already satisfied: docker-pycreds>=0.4.0 in /usr/local/lib/python3.11/dist-packages (from wandb) (0.4.0)\n",
      "Requirement already satisfied: gitpython!=3.1.29,>=1.0.0 in /usr/local/lib/python3.11/dist-packages (from wandb) (3.1.44)\n",
      "Requirement already satisfied: platformdirs in /usr/local/lib/python3.11/dist-packages (from wandb) (4.3.6)\n",
      "Requirement already satisfied: protobuf!=4.21.0,!=5.28.0,<6,>=3.19.0 in /usr/local/lib/python3.11/dist-packages (from wandb) (4.25.6)\n",
      "Requirement already satisfied: psutil>=5.0.0 in /usr/local/lib/python3.11/dist-packages (from wandb) (5.9.5)\n",
      "Requirement already satisfied: pydantic<3,>=2.6 in /usr/local/lib/python3.11/dist-packages (from wandb) (2.10.6)\n",
      "Requirement already satisfied: pyyaml in /usr/local/lib/python3.11/dist-packages (from wandb) (6.0.2)\n",
      "Requirement already satisfied: requests<3,>=2.0.0 in /usr/local/lib/python3.11/dist-packages (from wandb) (2.32.3)\n",
      "Requirement already satisfied: sentry-sdk>=2.0.0 in /usr/local/lib/python3.11/dist-packages (from wandb) (2.22.0)\n",
      "Requirement already satisfied: setproctitle in /usr/local/lib/python3.11/dist-packages (from wandb) (1.3.5)\n",
      "Requirement already satisfied: setuptools in /usr/local/lib/python3.11/dist-packages (from wandb) (75.1.0)\n",
      "Requirement already satisfied: typing-extensions<5,>=4.4 in /usr/local/lib/python3.11/dist-packages (from wandb) (4.12.2)\n",
      "Requirement already satisfied: six>=1.4.0 in /usr/local/lib/python3.11/dist-packages (from docker-pycreds>=0.4.0->wandb) (1.17.0)\n",
      "Requirement already satisfied: gitdb<5,>=4.0.1 in /usr/local/lib/python3.11/dist-packages (from gitpython!=3.1.29,>=1.0.0->wandb) (4.0.12)\n",
      "Requirement already satisfied: annotated-types>=0.6.0 in /usr/local/lib/python3.11/dist-packages (from pydantic<3,>=2.6->wandb) (0.7.0)\n",
      "Requirement already satisfied: pydantic-core==2.27.2 in /usr/local/lib/python3.11/dist-packages (from pydantic<3,>=2.6->wandb) (2.27.2)\n",
      "Requirement already satisfied: charset-normalizer<4,>=2 in /usr/local/lib/python3.11/dist-packages (from requests<3,>=2.0.0->wandb) (3.4.1)\n",
      "Requirement already satisfied: idna<4,>=2.5 in /usr/local/lib/python3.11/dist-packages (from requests<3,>=2.0.0->wandb) (3.10)\n",
      "Requirement already satisfied: urllib3<3,>=1.21.1 in /usr/local/lib/python3.11/dist-packages (from requests<3,>=2.0.0->wandb) (2.3.0)\n",
      "Requirement already satisfied: certifi>=2017.4.17 in /usr/local/lib/python3.11/dist-packages (from requests<3,>=2.0.0->wandb) (2025.1.31)\n",
      "Requirement already satisfied: smmap<6,>=3.0.1 in /usr/local/lib/python3.11/dist-packages (from gitdb<5,>=4.0.1->gitpython!=3.1.29,>=1.0.0->wandb) (5.0.2)\n"
     ]
    }
   ],
   "source": [
    "!pip install wandb"
   ]
  },
  {
   "cell_type": "code",
   "execution_count": 4,
   "metadata": {
    "executionInfo": {
     "elapsed": 16322,
     "status": "ok",
     "timestamp": 1741477171433,
     "user": {
      "displayName": "NueralNetworks Theory",
      "userId": "07825507065392429042"
     },
     "user_tz": -60
    },
    "id": "TtmTPxX57myo"
   },
   "outputs": [],
   "source": [
    "import torch\n",
    "from datasets import load_dataset\n",
    "import torch.nn as nn\n",
    "from transformers import AutoModel, AutoTokenizer, AutoModelForMaskedLM, DataCollatorForLanguageModeling\n",
    "from torch.utils.data import DataLoader, Dataset, Subset\n",
    "from sklearn.model_selection import train_test_split\n",
    "import pandas as pd\n",
    "from tqdm.notebook import tqdm\n",
    "import random\n",
    "import wandb"
   ]
  },
  {
   "cell_type": "code",
   "execution_count": 5,
   "metadata": {
    "colab": {
     "base_uri": "https://localhost:8080/",
     "height": 246
    },
    "executionInfo": {
     "elapsed": 6532,
     "status": "ok",
     "timestamp": 1741477179587,
     "user": {
      "displayName": "NueralNetworks Theory",
      "userId": "07825507065392429042"
     },
     "user_tz": -60
    },
    "id": "PTVmAbZW7tn0",
    "outputId": "fe2df522-e71a-4d8d-b109-85b0b8df8011"
   },
   "outputs": [
    {
     "name": "stderr",
     "output_type": "stream",
     "text": [
      "\u001b[34m\u001b[1mwandb\u001b[0m: Using wandb-core as the SDK backend.  Please refer to https://wandb.me/wandb-core for more information.\n"
     ]
    },
    {
     "data": {
      "application/javascript": "\n        window._wandbApiKey = new Promise((resolve, reject) => {\n            function loadScript(url) {\n            return new Promise(function(resolve, reject) {\n                let newScript = document.createElement(\"script\");\n                newScript.onerror = reject;\n                newScript.onload = resolve;\n                document.body.appendChild(newScript);\n                newScript.src = url;\n            });\n            }\n            loadScript(\"https://cdn.jsdelivr.net/npm/postmate/build/postmate.min.js\").then(() => {\n            const iframe = document.createElement('iframe')\n            iframe.style.cssText = \"width:0;height:0;border:none\"\n            document.body.appendChild(iframe)\n            const handshake = new Postmate({\n                container: iframe,\n                url: 'https://wandb.ai/authorize'\n            });\n            const timeout = setTimeout(() => reject(\"Couldn't auto authenticate\"), 5000)\n            handshake.then(function(child) {\n                child.on('authorize', data => {\n                    clearTimeout(timeout)\n                    resolve(data)\n                });\n            });\n            })\n        });\n    ",
      "text/plain": [
       "<IPython.core.display.Javascript object>"
      ]
     },
     "metadata": {},
     "output_type": "display_data"
    },
    {
     "name": "stderr",
     "output_type": "stream",
     "text": [
      "\u001b[34m\u001b[1mwandb\u001b[0m: \u001b[33mWARNING\u001b[0m If you're specifying your api key in code, ensure this code is not shared publicly.\n",
      "\u001b[34m\u001b[1mwandb\u001b[0m: \u001b[33mWARNING\u001b[0m Consider setting the WANDB_API_KEY environment variable, or running `wandb login` from the command line.\n",
      "\u001b[34m\u001b[1mwandb\u001b[0m: No netrc file found, creating one.\n",
      "\u001b[34m\u001b[1mwandb\u001b[0m: Appending key for api.wandb.ai to your netrc file: /root/.netrc\n",
      "\u001b[34m\u001b[1mwandb\u001b[0m: Currently logged in as: \u001b[33msolankishaique\u001b[0m (\u001b[33msolankishaique-max-planck-institute-for-informatics\u001b[0m) to \u001b[32mhttps://api.wandb.ai\u001b[0m. Use \u001b[1m`wandb login --relogin`\u001b[0m to force relogin\n"
     ]
    },
    {
     "data": {
      "text/html": [
       "Tracking run with wandb version 0.19.7"
      ],
      "text/plain": [
       "<IPython.core.display.HTML object>"
      ]
     },
     "metadata": {},
     "output_type": "display_data"
    },
    {
     "data": {
      "text/html": [
       "Run data is saved locally in <code>/content/wandb/run-20250308_233937-xxz1cuaj</code>"
      ],
      "text/plain": [
       "<IPython.core.display.HTML object>"
      ]
     },
     "metadata": {},
     "output_type": "display_data"
    },
    {
     "data": {
      "text/html": [
       "Syncing run <strong><a href='https://wandb.ai/solankishaique-max-planck-institute-for-informatics/NNTI_Project_v2/runs/xxz1cuaj' target=\"_blank\">gallant-resonance-11</a></strong> to <a href='https://wandb.ai/solankishaique-max-planck-institute-for-informatics/NNTI_Project_v2' target=\"_blank\">Weights & Biases</a> (<a href='https://wandb.me/developer-guide' target=\"_blank\">docs</a>)<br>"
      ],
      "text/plain": [
       "<IPython.core.display.HTML object>"
      ]
     },
     "metadata": {},
     "output_type": "display_data"
    },
    {
     "data": {
      "text/html": [
       " View project at <a href='https://wandb.ai/solankishaique-max-planck-institute-for-informatics/NNTI_Project_v2' target=\"_blank\">https://wandb.ai/solankishaique-max-planck-institute-for-informatics/NNTI_Project_v2</a>"
      ],
      "text/plain": [
       "<IPython.core.display.HTML object>"
      ]
     },
     "metadata": {},
     "output_type": "display_data"
    },
    {
     "data": {
      "text/html": [
       " View run at <a href='https://wandb.ai/solankishaique-max-planck-institute-for-informatics/NNTI_Project_v2/runs/xxz1cuaj' target=\"_blank\">https://wandb.ai/solankishaique-max-planck-institute-for-informatics/NNTI_Project_v2/runs/xxz1cuaj</a>"
      ],
      "text/plain": [
       "<IPython.core.display.HTML object>"
      ]
     },
     "metadata": {},
     "output_type": "display_data"
    },
    {
     "data": {
      "text/html": [
       "<button onClick=\"this.nextSibling.style.display='block';this.style.display='none';\">Display W&B run</button><iframe src='https://wandb.ai/solankishaique-max-planck-institute-for-informatics/NNTI_Project_v2/runs/xxz1cuaj?jupyter=true' style='border:none;width:100%;height:420px;display:none;'></iframe>"
      ],
      "text/plain": [
       "<wandb.sdk.wandb_run.Run at 0x7f280cef3990>"
      ]
     },
     "execution_count": 5,
     "metadata": {},
     "output_type": "execute_result"
    }
   ],
   "source": [
    "wandb.init(project=\"NNTI_Project_v2\")"
   ]
  },
  {
   "cell_type": "code",
   "execution_count": 6,
   "metadata": {
    "executionInfo": {
     "elapsed": 13,
     "status": "ok",
     "timestamp": 1741477181724,
     "user": {
      "displayName": "NueralNetworks Theory",
      "userId": "07825507065392429042"
     },
     "user_tz": -60
    },
    "id": "4o0uEcDd71QX"
   },
   "outputs": [],
   "source": [
    "import torch\n",
    "import torch.nn as nn\n",
    "import torch.optim as optim\n",
    "import pandas as pd\n",
    "import numpy as np\n",
    "from torch.utils.data import Dataset, DataLoader\n",
    "from transformers import AutoTokenizer, AutoModelForMaskedLM\n",
    "from tqdm import tqdm\n",
    "import wandb\n",
    "from sklearn.metrics import mean_squared_error, mean_absolute_error, r2_score"
   ]
  },
  {
   "cell_type": "code",
   "execution_count": 7,
   "metadata": {
    "colab": {
     "base_uri": "https://localhost:8080/",
     "height": 38
    },
    "executionInfo": {
     "elapsed": 96,
     "status": "ok",
     "timestamp": 1741477182684,
     "user": {
      "displayName": "NueralNetworks Theory",
      "userId": "07825507065392429042"
     },
     "user_tz": -60
    },
    "id": "FOakafGDB5TO",
    "outputId": "c0fc055b-962b-4ef9-a898-a5cbc336f822"
   },
   "outputs": [
    {
     "data": {
      "text/html": [
       "<button onClick=\"this.nextSibling.style.display='block';this.style.display='none';\">Display W&B run</button><iframe src='https://wandb.ai/solankishaique-max-planck-institute-for-informatics/NNTI_Project_v2/runs/xxz1cuaj?jupyter=true' style='border:none;width:100%;height:420px;display:none;'></iframe>"
      ],
      "text/plain": [
       "<wandb.sdk.wandb_run.Run at 0x7f280cef3990>"
      ]
     },
     "execution_count": 7,
     "metadata": {},
     "output_type": "execute_result"
    }
   ],
   "source": [
    "wandb.init(project=\"NNTI_Project_Task2\")"
   ]
  },
  {
   "cell_type": "code",
   "execution_count": 8,
   "metadata": {
    "colab": {
     "base_uri": "https://localhost:8080/",
     "height": 237,
     "referenced_widgets": [
      "51a0395266864c2d9fdc3efd836187dc",
      "3131d7611b9b4a44935f7c8d2f081d22",
      "e56b3cea02a640109bfb246e2dbfffd4",
      "35a56c3b1e374294b3a5acdc6dcab88b",
      "0e1f64b2a6094798b12316979d96526f",
      "1abcab6945f54f16998120492a053e03",
      "4705e0ad7fff4feab0901cf5ae389a4c",
      "da3fdce31819411ba5f6eed7434ec3e8",
      "807bc15a3125454798d2e95fb4300c16",
      "834988f9f2904e60ac0f9ee2699a2de0",
      "331cdc0f8f9a4091b50006f350dabe78",
      "2c87ca2c840041049ef9d67249889195",
      "52a28ffe498a49c09b7e7282f186b0cb",
      "a91cf0c2d68140d79565a76e3b0916b5",
      "61e5be5a19d14383808ee60238630849",
      "da1c1168e84143159ea31951a3cb7ace",
      "01f9fb794c8b4240bf776ce937446521",
      "15bfdef3ea7841968aeb1aacbd976c90",
      "837065a275b44e0384a99aa4e4e17001",
      "24fb67edd2294e44bd36ded4dd5b530b",
      "851762b7a5154cfc85cbfece70ba79fa",
      "8ea11ca703e844778f8617e308c381f1",
      "0d4e3fd054cc4a058f475d8cbb92998a",
      "713e869126f849f385c47a1d674e676d",
      "ff29784105a240dd90bba5f70dea6c74",
      "da5ba5a32d49489482f2c975b3ecf3eb",
      "7f4852dcfa754ac0bc01cf574244e02a",
      "0c8a610ca7f34e69a72f06fa541cb453",
      "df561b61a79c44e8b5ae0ce16d38c2fa",
      "2494a75a237744f892ab86aca2c62910",
      "b5a24d8ed38e4591bc5b7973ac6addd3",
      "15a5a420a4a54f7394f4cc1036b05692",
      "3673bc8efdc94854a707a89758a10c27"
     ]
    },
    "executionInfo": {
     "elapsed": 6284,
     "status": "ok",
     "timestamp": 1741477190151,
     "user": {
      "displayName": "NueralNetworks Theory",
      "userId": "07825507065392429042"
     },
     "user_tz": -60
    },
    "id": "i3d8iJk4AFQI",
    "outputId": "ceb91529-7aa4-439a-f7ce-89f695a9bc59"
   },
   "outputs": [
    {
     "name": "stderr",
     "output_type": "stream",
     "text": [
      "/usr/local/lib/python3.11/dist-packages/huggingface_hub/utils/_auth.py:94: UserWarning: \n",
      "The secret `HF_TOKEN` does not exist in your Colab secrets.\n",
      "To authenticate with the Hugging Face Hub, create a token in your settings tab (https://huggingface.co/settings/tokens), set it as secret in your Google Colab and restart your session.\n",
      "You will be able to reuse this secret in all of your notebooks.\n",
      "Please note that authentication is recommended but still optional to access public models or datasets.\n",
      "  warnings.warn(\n"
     ]
    },
    {
     "data": {
      "application/vnd.jupyter.widget-view+json": {
       "model_id": "51a0395266864c2d9fdc3efd836187dc",
       "version_major": 2,
       "version_minor": 0
      },
      "text/plain": [
       "README.md:   0%|          | 0.00/1.16k [00:00<?, ?B/s]"
      ]
     },
     "metadata": {},
     "output_type": "display_data"
    },
    {
     "data": {
      "application/vnd.jupyter.widget-view+json": {
       "model_id": "2c87ca2c840041049ef9d67249889195",
       "version_major": 2,
       "version_minor": 0
      },
      "text/plain": [
       "lipophilicity.csv:   0%|          | 0.00/223k [00:00<?, ?B/s]"
      ]
     },
     "metadata": {},
     "output_type": "display_data"
    },
    {
     "data": {
      "application/vnd.jupyter.widget-view+json": {
       "model_id": "0d4e3fd054cc4a058f475d8cbb92998a",
       "version_major": 2,
       "version_minor": 0
      },
      "text/plain": [
       "Generating train split:   0%|          | 0/4200 [00:00<?, ? examples/s]"
      ]
     },
     "metadata": {},
     "output_type": "display_data"
    }
   ],
   "source": [
    "# Specify the dataset name and model name\n",
    "DATASET_PATH = \"scikit-fingerprints/MoleculeNet_Lipophilicity\"\n",
    "MODEL_NAME = \"ibm/MoLFormer-XL-both-10pct\"  # MoLFormer model\n",
    "\n",
    "# Load the dataset from HuggingFace\n",
    "dataset = load_dataset(DATASET_PATH)"
   ]
  },
  {
   "cell_type": "code",
   "execution_count": 9,
   "metadata": {
    "colab": {
     "base_uri": "https://localhost:8080/"
    },
    "executionInfo": {
     "elapsed": 15,
     "status": "ok",
     "timestamp": 1741477195527,
     "user": {
      "displayName": "NueralNetworks Theory",
      "userId": "07825507065392429042"
     },
     "user_tz": -60
    },
    "id": "FNuusGc2Bxs_",
    "outputId": "48ddae10-0b0f-4d28-d741-bef1eadc0475"
   },
   "outputs": [
    {
     "name": "stdout",
     "output_type": "stream",
     "text": [
      "['SMILES', 'label']\n",
      "                                              SMILES  label\n",
      "0            Cn1c(CN2CCN(CC2)c3ccc(Cl)cc3)nc4ccccc14   3.54\n",
      "1  COc1cc(OC)c(cc1NC(=O)CSCC(=O)O)S(=O)(=O)N2C(C)...  -1.18\n",
      "2             COC(=O)[C@@H](N1CCc2sccc2C1)c3ccccc3Cl   3.69\n",
      "3  OC[C@H](O)CN1C(=O)C(Cc2ccccc12)NC(=O)c3cc4cc(C...   3.37\n",
      "4  Cc1cccc(C[C@H](NC(=O)c2cc(nn2C)C(C)(C)C)C(=O)N...   3.10\n"
     ]
    }
   ],
   "source": [
    "# Explore the dataset\n",
    "# For example, print the column names and display a few sample rows\n",
    "# TODO: your code goes here\n",
    "print(dataset['train'].column_names)\n",
    "print(dataset['train'].to_pandas().head())"
   ]
  },
  {
   "cell_type": "code",
   "execution_count": 10,
   "metadata": {
    "executionInfo": {
     "elapsed": 9,
     "status": "ok",
     "timestamp": 1741477196616,
     "user": {
      "displayName": "NueralNetworks Theory",
      "userId": "07825507065392429042"
     },
     "user_tz": -60
    },
    "id": "69TY6R22CAEk"
   },
   "outputs": [],
   "source": [
    "# define a PyTorch Dataset class for handling SMILES strings and targets\n",
    "\n",
    "# TODO: your code goes here\n",
    "class SMILESDataset(Dataset):\n",
    "    def __init__(self, dataset, tokenizer, max_length=128):\n",
    "        self.dataset = dataset\n",
    "        self.tokenizer = tokenizer\n",
    "        self.max_length = max_length\n",
    "        self.data = self.prepare_data()\n",
    "\n",
    "    def prepare_data(self):\n",
    "        processed_data = []\n",
    "\n",
    "        for data_point in tqdm(self.dataset):\n",
    "            encoded_input = self.tokenizer(\n",
    "                data_point[\"SMILES\"],\n",
    "                padding=\"max_length\",\n",
    "                truncation=True,\n",
    "                max_length=self.max_length,\n",
    "                return_tensors=\"pt\"\n",
    "            )\n",
    "            target_tensor = torch.tensor(data_point[\"label\"], dtype=torch.float)\n",
    "            processed_data.append({\n",
    "                \"input_ids\": encoded_input[\"input_ids\"].squeeze(0),\n",
    "                \"attention_mask\": encoded_input[\"attention_mask\"].squeeze(0),\n",
    "                \"target\": target_tensor\n",
    "            })\n",
    "        return processed_data\n",
    "\n",
    "    def get_data(self):\n",
    "        return self.data"
   ]
  },
  {
   "cell_type": "code",
   "execution_count": 11,
   "metadata": {
    "colab": {
     "base_uri": "https://localhost:8080/",
     "height": 331,
     "referenced_widgets": [
      "10878c5135514a639b19770b859a8066",
      "f658286b2ab34b66937f9853feade7d0",
      "a3002a17124f48b4be7fd3d26b69e513",
      "0877890f4c164f94846c24ee292da1d4",
      "7929c6408da14e9187b688186f5fa5c3",
      "fb90fac2749244ebb86065fe51f8aac3",
      "4fd10c57c9bf45bb83e19d67b1c18c1a",
      "5063ef0f00c94d71a025b4d91ec097a9",
      "b6f79088dda74ea1a7a13ef8b7be36a5",
      "009458f3e8e84decaf1a30f52fe82820",
      "825e3456bd374981993035b60b8f1c2e",
      "09c579b75cd44e2c899395d08b7733a8",
      "6526715821a64febb6e69c7b10d511c6",
      "f71b92e278914755af6d1db63cbf5684",
      "f8c3867e280c4628b6fb1eeebd1d10c4",
      "6c682fa4ccca47f998e4d1f9184edeba",
      "44eb359545a342f88ca4ce0b09cbe09c",
      "29412b05c3de4a67a9047eb217e22691",
      "025e3cd752334f63af3436ee3736f392",
      "5c3733a905f243f2ad94f5cd8df59b35",
      "780f8d309bd84f2da7d99bb1ce2d109c",
      "cd0ea53a2e3144ca9d3228a7ca4cf835",
      "677cd506b3a54b44a729eeea3aeed24f",
      "70f37b0505994372ad70f5afaf811f1b",
      "cc8a323d93e64af4be2203fb01e66f5d",
      "d2bc75524ac0464d948f5a354d0b514c",
      "811bad0269eb444bb37f7829559445bb",
      "8dfd0ccd92ba46ed8cdad4111053f254",
      "6594d78b6ab4459b97f8e218ec065fee",
      "a18864b2f45e45089ec89c588c495e4a",
      "7e678285e934452fac25c4e8c748f7ce",
      "6a1537f7c6e04cd78c9cb0610528a12a",
      "620e0ba4c7f847b493373d07afbb7cf8",
      "8cc78128863a49f19af9489834c2c9f2",
      "da9331ab36a94acdaba79ce8b291caa7",
      "980aca9f2e6b4937ba74cd4e8eef8741",
      "b92454162b4e4052a616a488fa32ff40",
      "7122d5affaee4577982964d1a6b42716",
      "95828df859ad45f2aebf9499545d65ef",
      "449f468b36494020a2bc03e0f64540ac",
      "9888cf43a7ad43829c483e44c441f8cf",
      "1aafa9ebf7f14bdab7cace440de3735e",
      "55724ec696374677811d2f09bf8eae02",
      "fcaaa54fdcc7427ca50bd92a22927dc7",
      "d3a85899a8494f65aaa0e8ccdc0ef5ca",
      "d189e33010e0477fb4ca85303961eba6",
      "41b29d5676334a0da9cf51bf7443ba12",
      "925a63fecdb1432a80f2482a6b17691d",
      "d70f67db91614adcbb71a7cd9ac4769d",
      "121e673b9bca45e8b966f7b6d9b4c013",
      "5c08e3d15bc345128b9208aee95bd6a7",
      "bc138424c0c5442bb43c8bf1384e78f0",
      "1bfec3ce1ace4bb69d29043735d25048",
      "0a7aae523d6c4b59a944d508e593ae46",
      "5cbd47a503ec421e84ba463fbd1653d7",
      "45cccbb320b7463494065b035be6c0ce",
      "10b0c4a173644eb49bc5ef31e8f7c41f",
      "5bc1770d90e7479e8127c44c836323c9",
      "7e11ae53ca664f1a8fbca55bcc821b8d",
      "db0bade543474850ab4217a7c4b10fb7",
      "c583df64cf754f70ac6e1ff4c3768522",
      "25b5cb9c405b4d0881f1fbeb26cb9293",
      "1aa53c3c1b554f3dada59759390da905",
      "a5a2ccd55d08422d9b29120bbfc538c8",
      "d19d7af5e8ce4f86b254d3e3678bc916",
      "19148690a5bf4a2c9a7709553f9871d4"
     ]
    },
    "executionInfo": {
     "elapsed": 5282,
     "status": "ok",
     "timestamp": 1741477203826,
     "user": {
      "displayName": "NueralNetworks Theory",
      "userId": "07825507065392429042"
     },
     "user_tz": -60
    },
    "id": "KFC4DKmuCCx-",
    "outputId": "edf6ca45-27a5-42ff-ef45-65e39b03d742"
   },
   "outputs": [
    {
     "data": {
      "application/vnd.jupyter.widget-view+json": {
       "model_id": "10878c5135514a639b19770b859a8066",
       "version_major": 2,
       "version_minor": 0
      },
      "text/plain": [
       "tokenizer_config.json:   0%|          | 0.00/1.29k [00:00<?, ?B/s]"
      ]
     },
     "metadata": {},
     "output_type": "display_data"
    },
    {
     "data": {
      "application/vnd.jupyter.widget-view+json": {
       "model_id": "09c579b75cd44e2c899395d08b7733a8",
       "version_major": 2,
       "version_minor": 0
      },
      "text/plain": [
       "tokenization_molformer_fast.py:   0%|          | 0.00/6.50k [00:00<?, ?B/s]"
      ]
     },
     "metadata": {},
     "output_type": "display_data"
    },
    {
     "data": {
      "application/vnd.jupyter.widget-view+json": {
       "model_id": "677cd506b3a54b44a729eeea3aeed24f",
       "version_major": 2,
       "version_minor": 0
      },
      "text/plain": [
       "tokenization_molformer.py:   0%|          | 0.00/9.48k [00:00<?, ?B/s]"
      ]
     },
     "metadata": {},
     "output_type": "display_data"
    },
    {
     "name": "stderr",
     "output_type": "stream",
     "text": [
      "A new version of the following files was downloaded from https://huggingface.co/ibm/MoLFormer-XL-both-10pct:\n",
      "- tokenization_molformer.py\n",
      ". Make sure to double-check they do not contain any added malicious code. To avoid downloading new versions of the code file, you can pin a revision.\n",
      "A new version of the following files was downloaded from https://huggingface.co/ibm/MoLFormer-XL-both-10pct:\n",
      "- tokenization_molformer_fast.py\n",
      "- tokenization_molformer.py\n",
      ". Make sure to double-check they do not contain any added malicious code. To avoid downloading new versions of the code file, you can pin a revision.\n"
     ]
    },
    {
     "data": {
      "application/vnd.jupyter.widget-view+json": {
       "model_id": "8cc78128863a49f19af9489834c2c9f2",
       "version_major": 2,
       "version_minor": 0
      },
      "text/plain": [
       "vocab.json:   0%|          | 0.00/41.6k [00:00<?, ?B/s]"
      ]
     },
     "metadata": {},
     "output_type": "display_data"
    },
    {
     "data": {
      "application/vnd.jupyter.widget-view+json": {
       "model_id": "d3a85899a8494f65aaa0e8ccdc0ef5ca",
       "version_major": 2,
       "version_minor": 0
      },
      "text/plain": [
       "tokenizer.json:   0%|          | 0.00/54.0k [00:00<?, ?B/s]"
      ]
     },
     "metadata": {},
     "output_type": "display_data"
    },
    {
     "data": {
      "application/vnd.jupyter.widget-view+json": {
       "model_id": "45cccbb320b7463494065b035be6c0ce",
       "version_major": 2,
       "version_minor": 0
      },
      "text/plain": [
       "special_tokens_map.json:   0%|          | 0.00/125 [00:00<?, ?B/s]"
      ]
     },
     "metadata": {},
     "output_type": "display_data"
    }
   ],
   "source": [
    "# tokenize the data\n",
    "# load a pre-trained tokenizer from HuggingFace\n",
    "tokenizer = AutoTokenizer.from_pretrained(MODEL_NAME, trust_remote_code=True)"
   ]
  },
  {
   "cell_type": "code",
   "execution_count": 12,
   "metadata": {
    "executionInfo": {
     "elapsed": 5,
     "status": "ok",
     "timestamp": 1741477208380,
     "user": {
      "displayName": "NueralNetworks Theory",
      "userId": "07825507065392429042"
     },
     "user_tz": -60
    },
    "id": "FR_MLd4eCE9x"
   },
   "outputs": [],
   "source": [
    "# split the data into training and test datasets\n",
    "# TODO: your code goes here\n",
    "train_test_split = dataset[\"train\"].train_test_split(test_size=0.2, seed=42)\n",
    "train_dataset = train_test_split[\"train\"]\n",
    "test_dataset = train_test_split[\"test\"]"
   ]
  },
  {
   "cell_type": "code",
   "execution_count": 13,
   "metadata": {
    "colab": {
     "base_uri": "https://localhost:8080/"
    },
    "executionInfo": {
     "elapsed": 2181,
     "status": "ok",
     "timestamp": 1741477213865,
     "user": {
      "displayName": "NueralNetworks Theory",
      "userId": "07825507065392429042"
     },
     "user_tz": -60
    },
    "id": "uGzWYJ0ECHA7",
    "outputId": "0451c6ac-11ce-4765-8cb1-8e02613a0449"
   },
   "outputs": [
    {
     "name": "stderr",
     "output_type": "stream",
     "text": [
      "100%|██████████| 3360/3360 [00:01<00:00, 1946.72it/s]\n",
      "100%|██████████| 840/840 [00:00<00:00, 1886.64it/s]\n"
     ]
    }
   ],
   "source": [
    "# construct Pytorch data loaders for both train and test datasets\n",
    "BATCH_SIZE = 16 # adjust based on memory constraints\n",
    "\n",
    "# TODO: your code goes here\n",
    "train_dataset = SMILESDataset(train_dataset, tokenizer)\n",
    "test_dataset = SMILESDataset(test_dataset, tokenizer)\n",
    "train_data = train_dataset.get_data()\n",
    "test_data = test_dataset.get_data()\n",
    "\n",
    "# creating dataloaders\n",
    "train_loader = DataLoader(train_data, batch_size=BATCH_SIZE, shuffle=True)\n",
    "test_loader = DataLoader(test_data, batch_size=BATCH_SIZE, shuffle=False)"
   ]
  },
  {
   "cell_type": "code",
   "execution_count": null,
   "metadata": {
    "executionInfo": {
     "elapsed": 70,
     "status": "ok",
     "timestamp": 1741477215656,
     "user": {
      "displayName": "NueralNetworks Theory",
      "userId": "07825507065392429042"
     },
     "user_tz": -60
    },
    "id": "6jLBrj4YCSgL"
   },
   "outputs": [],
   "source": [
    "device = torch.device(\"cuda\" if torch.cuda.is_available() else \"cpu\")\n",
    "saved_model_path = \"/content/drive/MyDrive/NNTI_Project_files/Project_Files/model_saves/task_1_v2/task_1_FT_model_wo_reg.pth\""
   ]
  },
  {
   "cell_type": "code",
   "execution_count": 15,
   "metadata": {
    "executionInfo": {
     "elapsed": 10,
     "status": "ok",
     "timestamp": 1741477217549,
     "user": {
      "displayName": "NueralNetworks Theory",
      "userId": "07825507065392429042"
     },
     "user_tz": -60
    },
    "id": "1OggsHNlCXJJ"
   },
   "outputs": [],
   "source": [
    "# Define the regression model architecture (same as in Task 1)\n",
    "class MoLFormerWithRegressionHead(nn.Module):\n",
    "    def __init__(self, base_model, hidden_dim=2362):\n",
    "        super(MoLFormerWithRegressionHead, self).__init__()\n",
    "        self.base_model = base_model\n",
    "        self.regression_head = nn.Sequential(\n",
    "            nn.Linear(hidden_dim, hidden_dim // 2),\n",
    "            nn.ReLU(),\n",
    "            nn.Linear(hidden_dim // 2, 1)  # Output single regression value (lipophilicity)\n",
    "        )\n",
    "\n",
    "    def forward(self, input_ids, attention_mask=None):\n",
    "        outputs = self.base_model(input_ids=input_ids, attention_mask=attention_mask)\n",
    "        last_hidden_state = outputs[0]  # outputs[0] is the last hidden state tensor\n",
    "        pooled_output = last_hidden_state[:, 0, :]  # use [CLS] token representation\n",
    "        return self.regression_head(pooled_output)"
   ]
  },
  {
   "cell_type": "code",
   "execution_count": null,
   "metadata": {
    "colab": {
     "base_uri": "https://localhost:8080/",
     "height": 1000,
     "referenced_widgets": [
      "50d8a4af738b4f2aba12116c12cb7aa4",
      "1b64d0428be9452d9715410812b382c0",
      "27bea789f9884143a939a3c47cd8c485",
      "a31147625113473fb8c7910b72f36a65",
      "cfd065084a86432c903ca88f5e429519",
      "5bb0f0667eed42b1bdbb857bb81b5668",
      "2dd76b5926364855aa77d5ae07724944",
      "4fdc08f0e3c54fbdbdcd3a4a11ed2452",
      "cae1fc4eba6e4257b7b5bc290fde7d6e",
      "deed142b18ec42dd9b9343a1f88f407f",
      "c9b7886e966841bd87c0dbbf37d5122d",
      "b2566389a1bc4aeaa9b53184441e2d2e",
      "818895ea7ee145fe93d8b76224523efc",
      "2636853b245543828a1774d39a5194f3",
      "53987e79fb9041b2b00e583b3073e497",
      "412e1351ebcf46a489336b189b40fa4f",
      "de2a1aa95c8f46ccb55cb14dc74610bb",
      "8f1d99c659f8493a81e8a492776828db",
      "28fd8dc1d4b04a2a81d3dae8b30fecf3",
      "9cc1e78c45ea4b419fa8464927d20db9",
      "8f67e8705c09436eb03e0bff6bc7e994",
      "57ba6a6c4ebd4946882e6f0ca7dd1ece",
      "36f1e1f50f3f4873a1f596e66b034501",
      "48d999f8053e4b5ea3db59ebe24a2a9e",
      "e116ae0babdb403f9b91e9860593b91a",
      "43dcb402f13245e49c27be3d3759168e",
      "22ac07b695a64542ac7ee7b12693da93",
      "e7283927605741e692c301ecf460f5b2",
      "604a3ac0fd5d4fa3a0d2b3cd52092108",
      "098be36d040f4db7b6f1faef8f8744af",
      "0c00e8d7ef0349ca82dacded78d5162e",
      "8434402a3f4c42b9bad96cae5d2d9a50",
      "f120a0b713e34a77a9e3451df730c2dd",
      "cebbd08d82bd4841b1ec9fd06c568046",
      "32d34fa7693f4e4a87844f8b65e5d1ec",
      "8237da29238242b1a8e3cb6633508ab7",
      "4c699ed6ae1540c5ae83b4fa2baaf38b",
      "eb67dc9900fe4e318e144c16419c11e3",
      "b19a0c105f7d4a9d9cf2b00909edfbfc",
      "ed7f1dea2d21458cb2abe3b15807f4a5",
      "63433c77003741bfb8a5dd818e44f641",
      "b31c3f04a3c64d9f890d30210a6580d5",
      "5015df883aad4299aa3005a2c99f799f",
      "45fa85a6af9f40dc8f74413ea220c03a"
     ]
    },
    "executionInfo": {
     "elapsed": 12120,
     "status": "ok",
     "timestamp": 1741477231031,
     "user": {
      "displayName": "NueralNetworks Theory",
      "userId": "07825507065392429042"
     },
     "user_tz": -60
    },
    "id": "p2iPyE3lCaDp",
    "outputId": "a1d8b0ac-d869-4701-92a2-3f35836abac6"
   },
   "outputs": [
    {
     "data": {
      "application/vnd.jupyter.widget-view+json": {
       "model_id": "50d8a4af738b4f2aba12116c12cb7aa4",
       "version_major": 2,
       "version_minor": 0
      },
      "text/plain": [
       "config.json:   0%|          | 0.00/1.01k [00:00<?, ?B/s]"
      ]
     },
     "metadata": {},
     "output_type": "display_data"
    },
    {
     "data": {
      "application/vnd.jupyter.widget-view+json": {
       "model_id": "b2566389a1bc4aeaa9b53184441e2d2e",
       "version_major": 2,
       "version_minor": 0
      },
      "text/plain": [
       "configuration_molformer.py:   0%|          | 0.00/7.60k [00:00<?, ?B/s]"
      ]
     },
     "metadata": {},
     "output_type": "display_data"
    },
    {
     "name": "stderr",
     "output_type": "stream",
     "text": [
      "A new version of the following files was downloaded from https://huggingface.co/ibm/MoLFormer-XL-both-10pct:\n",
      "- configuration_molformer.py\n",
      ". Make sure to double-check they do not contain any added malicious code. To avoid downloading new versions of the code file, you can pin a revision.\n"
     ]
    },
    {
     "data": {
      "application/vnd.jupyter.widget-view+json": {
       "model_id": "36f1e1f50f3f4873a1f596e66b034501",
       "version_major": 2,
       "version_minor": 0
      },
      "text/plain": [
       "modeling_molformer.py:   0%|          | 0.00/39.3k [00:00<?, ?B/s]"
      ]
     },
     "metadata": {},
     "output_type": "display_data"
    },
    {
     "name": "stderr",
     "output_type": "stream",
     "text": [
      "A new version of the following files was downloaded from https://huggingface.co/ibm/MoLFormer-XL-both-10pct:\n",
      "- modeling_molformer.py\n",
      ". Make sure to double-check they do not contain any added malicious code. To avoid downloading new versions of the code file, you can pin a revision.\n"
     ]
    },
    {
     "data": {
      "application/vnd.jupyter.widget-view+json": {
       "model_id": "cebbd08d82bd4841b1ec9fd06c568046",
       "version_major": 2,
       "version_minor": 0
      },
      "text/plain": [
       "model.safetensors:   0%|          | 0.00/187M [00:00<?, ?B/s]"
      ]
     },
     "metadata": {},
     "output_type": "display_data"
    },
    {
     "name": "stderr",
     "output_type": "stream",
     "text": [
      "<ipython-input-16-675af4222dea>:6: FutureWarning: You are using `torch.load` with `weights_only=False` (the current default value), which uses the default pickle module implicitly. It is possible to construct malicious pickle data which will execute arbitrary code during unpickling (See https://github.com/pytorch/pytorch/blob/main/SECURITY.md#untrusted-models for more details). In a future release, the default value for `weights_only` will be flipped to `True`. This limits the functions that could be executed during unpickling. Arbitrary objects will no longer be allowed to be loaded via this mode unless they are explicitly allowlisted by the user via `torch.serialization.add_safe_globals`. We recommend you start setting `weights_only=True` for any use case where you don't have full control of the loaded file. Please open an issue on GitHub for any issues related to this experimental feature.\n",
      "  checkpoint = torch.load(saved_model_path, map_location=device)\n"
     ]
    },
    {
     "data": {
      "text/plain": [
       "_IncompatibleKeys(missing_keys=['base_model.molformer.embeddings.word_embeddings.weight', 'base_model.molformer.encoder.layer.0.attention.self.query.weight', 'base_model.molformer.encoder.layer.0.attention.self.query.bias', 'base_model.molformer.encoder.layer.0.attention.self.key.weight', 'base_model.molformer.encoder.layer.0.attention.self.key.bias', 'base_model.molformer.encoder.layer.0.attention.self.value.weight', 'base_model.molformer.encoder.layer.0.attention.self.value.bias', 'base_model.molformer.encoder.layer.0.attention.self.feature_map.weight', 'base_model.molformer.encoder.layer.0.attention.output.dense.weight', 'base_model.molformer.encoder.layer.0.attention.output.dense.bias', 'base_model.molformer.encoder.layer.0.attention.output.LayerNorm.weight', 'base_model.molformer.encoder.layer.0.attention.output.LayerNorm.bias', 'base_model.molformer.encoder.layer.0.intermediate.dense.weight', 'base_model.molformer.encoder.layer.0.intermediate.dense.bias', 'base_model.molformer.encoder.layer.0.output.dense.weight', 'base_model.molformer.encoder.layer.0.output.dense.bias', 'base_model.molformer.encoder.layer.0.output.LayerNorm.weight', 'base_model.molformer.encoder.layer.0.output.LayerNorm.bias', 'base_model.molformer.encoder.layer.1.attention.self.query.weight', 'base_model.molformer.encoder.layer.1.attention.self.query.bias', 'base_model.molformer.encoder.layer.1.attention.self.key.weight', 'base_model.molformer.encoder.layer.1.attention.self.key.bias', 'base_model.molformer.encoder.layer.1.attention.self.value.weight', 'base_model.molformer.encoder.layer.1.attention.self.value.bias', 'base_model.molformer.encoder.layer.1.attention.self.feature_map.weight', 'base_model.molformer.encoder.layer.1.attention.output.dense.weight', 'base_model.molformer.encoder.layer.1.attention.output.dense.bias', 'base_model.molformer.encoder.layer.1.attention.output.LayerNorm.weight', 'base_model.molformer.encoder.layer.1.attention.output.LayerNorm.bias', 'base_model.molformer.encoder.layer.1.intermediate.dense.weight', 'base_model.molformer.encoder.layer.1.intermediate.dense.bias', 'base_model.molformer.encoder.layer.1.output.dense.weight', 'base_model.molformer.encoder.layer.1.output.dense.bias', 'base_model.molformer.encoder.layer.1.output.LayerNorm.weight', 'base_model.molformer.encoder.layer.1.output.LayerNorm.bias', 'base_model.molformer.encoder.layer.2.attention.self.query.weight', 'base_model.molformer.encoder.layer.2.attention.self.query.bias', 'base_model.molformer.encoder.layer.2.attention.self.key.weight', 'base_model.molformer.encoder.layer.2.attention.self.key.bias', 'base_model.molformer.encoder.layer.2.attention.self.value.weight', 'base_model.molformer.encoder.layer.2.attention.self.value.bias', 'base_model.molformer.encoder.layer.2.attention.self.feature_map.weight', 'base_model.molformer.encoder.layer.2.attention.output.dense.weight', 'base_model.molformer.encoder.layer.2.attention.output.dense.bias', 'base_model.molformer.encoder.layer.2.attention.output.LayerNorm.weight', 'base_model.molformer.encoder.layer.2.attention.output.LayerNorm.bias', 'base_model.molformer.encoder.layer.2.intermediate.dense.weight', 'base_model.molformer.encoder.layer.2.intermediate.dense.bias', 'base_model.molformer.encoder.layer.2.output.dense.weight', 'base_model.molformer.encoder.layer.2.output.dense.bias', 'base_model.molformer.encoder.layer.2.output.LayerNorm.weight', 'base_model.molformer.encoder.layer.2.output.LayerNorm.bias', 'base_model.molformer.encoder.layer.3.attention.self.query.weight', 'base_model.molformer.encoder.layer.3.attention.self.query.bias', 'base_model.molformer.encoder.layer.3.attention.self.key.weight', 'base_model.molformer.encoder.layer.3.attention.self.key.bias', 'base_model.molformer.encoder.layer.3.attention.self.value.weight', 'base_model.molformer.encoder.layer.3.attention.self.value.bias', 'base_model.molformer.encoder.layer.3.attention.self.feature_map.weight', 'base_model.molformer.encoder.layer.3.attention.output.dense.weight', 'base_model.molformer.encoder.layer.3.attention.output.dense.bias', 'base_model.molformer.encoder.layer.3.attention.output.LayerNorm.weight', 'base_model.molformer.encoder.layer.3.attention.output.LayerNorm.bias', 'base_model.molformer.encoder.layer.3.intermediate.dense.weight', 'base_model.molformer.encoder.layer.3.intermediate.dense.bias', 'base_model.molformer.encoder.layer.3.output.dense.weight', 'base_model.molformer.encoder.layer.3.output.dense.bias', 'base_model.molformer.encoder.layer.3.output.LayerNorm.weight', 'base_model.molformer.encoder.layer.3.output.LayerNorm.bias', 'base_model.molformer.encoder.layer.4.attention.self.query.weight', 'base_model.molformer.encoder.layer.4.attention.self.query.bias', 'base_model.molformer.encoder.layer.4.attention.self.key.weight', 'base_model.molformer.encoder.layer.4.attention.self.key.bias', 'base_model.molformer.encoder.layer.4.attention.self.value.weight', 'base_model.molformer.encoder.layer.4.attention.self.value.bias', 'base_model.molformer.encoder.layer.4.attention.self.feature_map.weight', 'base_model.molformer.encoder.layer.4.attention.output.dense.weight', 'base_model.molformer.encoder.layer.4.attention.output.dense.bias', 'base_model.molformer.encoder.layer.4.attention.output.LayerNorm.weight', 'base_model.molformer.encoder.layer.4.attention.output.LayerNorm.bias', 'base_model.molformer.encoder.layer.4.intermediate.dense.weight', 'base_model.molformer.encoder.layer.4.intermediate.dense.bias', 'base_model.molformer.encoder.layer.4.output.dense.weight', 'base_model.molformer.encoder.layer.4.output.dense.bias', 'base_model.molformer.encoder.layer.4.output.LayerNorm.weight', 'base_model.molformer.encoder.layer.4.output.LayerNorm.bias', 'base_model.molformer.encoder.layer.5.attention.self.query.weight', 'base_model.molformer.encoder.layer.5.attention.self.query.bias', 'base_model.molformer.encoder.layer.5.attention.self.key.weight', 'base_model.molformer.encoder.layer.5.attention.self.key.bias', 'base_model.molformer.encoder.layer.5.attention.self.value.weight', 'base_model.molformer.encoder.layer.5.attention.self.value.bias', 'base_model.molformer.encoder.layer.5.attention.self.feature_map.weight', 'base_model.molformer.encoder.layer.5.attention.output.dense.weight', 'base_model.molformer.encoder.layer.5.attention.output.dense.bias', 'base_model.molformer.encoder.layer.5.attention.output.LayerNorm.weight', 'base_model.molformer.encoder.layer.5.attention.output.LayerNorm.bias', 'base_model.molformer.encoder.layer.5.intermediate.dense.weight', 'base_model.molformer.encoder.layer.5.intermediate.dense.bias', 'base_model.molformer.encoder.layer.5.output.dense.weight', 'base_model.molformer.encoder.layer.5.output.dense.bias', 'base_model.molformer.encoder.layer.5.output.LayerNorm.weight', 'base_model.molformer.encoder.layer.5.output.LayerNorm.bias', 'base_model.molformer.encoder.layer.6.attention.self.query.weight', 'base_model.molformer.encoder.layer.6.attention.self.query.bias', 'base_model.molformer.encoder.layer.6.attention.self.key.weight', 'base_model.molformer.encoder.layer.6.attention.self.key.bias', 'base_model.molformer.encoder.layer.6.attention.self.value.weight', 'base_model.molformer.encoder.layer.6.attention.self.value.bias', 'base_model.molformer.encoder.layer.6.attention.self.feature_map.weight', 'base_model.molformer.encoder.layer.6.attention.output.dense.weight', 'base_model.molformer.encoder.layer.6.attention.output.dense.bias', 'base_model.molformer.encoder.layer.6.attention.output.LayerNorm.weight', 'base_model.molformer.encoder.layer.6.attention.output.LayerNorm.bias', 'base_model.molformer.encoder.layer.6.intermediate.dense.weight', 'base_model.molformer.encoder.layer.6.intermediate.dense.bias', 'base_model.molformer.encoder.layer.6.output.dense.weight', 'base_model.molformer.encoder.layer.6.output.dense.bias', 'base_model.molformer.encoder.layer.6.output.LayerNorm.weight', 'base_model.molformer.encoder.layer.6.output.LayerNorm.bias', 'base_model.molformer.encoder.layer.7.attention.self.query.weight', 'base_model.molformer.encoder.layer.7.attention.self.query.bias', 'base_model.molformer.encoder.layer.7.attention.self.key.weight', 'base_model.molformer.encoder.layer.7.attention.self.key.bias', 'base_model.molformer.encoder.layer.7.attention.self.value.weight', 'base_model.molformer.encoder.layer.7.attention.self.value.bias', 'base_model.molformer.encoder.layer.7.attention.self.feature_map.weight', 'base_model.molformer.encoder.layer.7.attention.output.dense.weight', 'base_model.molformer.encoder.layer.7.attention.output.dense.bias', 'base_model.molformer.encoder.layer.7.attention.output.LayerNorm.weight', 'base_model.molformer.encoder.layer.7.attention.output.LayerNorm.bias', 'base_model.molformer.encoder.layer.7.intermediate.dense.weight', 'base_model.molformer.encoder.layer.7.intermediate.dense.bias', 'base_model.molformer.encoder.layer.7.output.dense.weight', 'base_model.molformer.encoder.layer.7.output.dense.bias', 'base_model.molformer.encoder.layer.7.output.LayerNorm.weight', 'base_model.molformer.encoder.layer.7.output.LayerNorm.bias', 'base_model.molformer.encoder.layer.8.attention.self.query.weight', 'base_model.molformer.encoder.layer.8.attention.self.query.bias', 'base_model.molformer.encoder.layer.8.attention.self.key.weight', 'base_model.molformer.encoder.layer.8.attention.self.key.bias', 'base_model.molformer.encoder.layer.8.attention.self.value.weight', 'base_model.molformer.encoder.layer.8.attention.self.value.bias', 'base_model.molformer.encoder.layer.8.attention.self.feature_map.weight', 'base_model.molformer.encoder.layer.8.attention.output.dense.weight', 'base_model.molformer.encoder.layer.8.attention.output.dense.bias', 'base_model.molformer.encoder.layer.8.attention.output.LayerNorm.weight', 'base_model.molformer.encoder.layer.8.attention.output.LayerNorm.bias', 'base_model.molformer.encoder.layer.8.intermediate.dense.weight', 'base_model.molformer.encoder.layer.8.intermediate.dense.bias', 'base_model.molformer.encoder.layer.8.output.dense.weight', 'base_model.molformer.encoder.layer.8.output.dense.bias', 'base_model.molformer.encoder.layer.8.output.LayerNorm.weight', 'base_model.molformer.encoder.layer.8.output.LayerNorm.bias', 'base_model.molformer.encoder.layer.9.attention.self.query.weight', 'base_model.molformer.encoder.layer.9.attention.self.query.bias', 'base_model.molformer.encoder.layer.9.attention.self.key.weight', 'base_model.molformer.encoder.layer.9.attention.self.key.bias', 'base_model.molformer.encoder.layer.9.attention.self.value.weight', 'base_model.molformer.encoder.layer.9.attention.self.value.bias', 'base_model.molformer.encoder.layer.9.attention.self.feature_map.weight', 'base_model.molformer.encoder.layer.9.attention.output.dense.weight', 'base_model.molformer.encoder.layer.9.attention.output.dense.bias', 'base_model.molformer.encoder.layer.9.attention.output.LayerNorm.weight', 'base_model.molformer.encoder.layer.9.attention.output.LayerNorm.bias', 'base_model.molformer.encoder.layer.9.intermediate.dense.weight', 'base_model.molformer.encoder.layer.9.intermediate.dense.bias', 'base_model.molformer.encoder.layer.9.output.dense.weight', 'base_model.molformer.encoder.layer.9.output.dense.bias', 'base_model.molformer.encoder.layer.9.output.LayerNorm.weight', 'base_model.molformer.encoder.layer.9.output.LayerNorm.bias', 'base_model.molformer.encoder.layer.10.attention.self.query.weight', 'base_model.molformer.encoder.layer.10.attention.self.query.bias', 'base_model.molformer.encoder.layer.10.attention.self.key.weight', 'base_model.molformer.encoder.layer.10.attention.self.key.bias', 'base_model.molformer.encoder.layer.10.attention.self.value.weight', 'base_model.molformer.encoder.layer.10.attention.self.value.bias', 'base_model.molformer.encoder.layer.10.attention.self.feature_map.weight', 'base_model.molformer.encoder.layer.10.attention.output.dense.weight', 'base_model.molformer.encoder.layer.10.attention.output.dense.bias', 'base_model.molformer.encoder.layer.10.attention.output.LayerNorm.weight', 'base_model.molformer.encoder.layer.10.attention.output.LayerNorm.bias', 'base_model.molformer.encoder.layer.10.intermediate.dense.weight', 'base_model.molformer.encoder.layer.10.intermediate.dense.bias', 'base_model.molformer.encoder.layer.10.output.dense.weight', 'base_model.molformer.encoder.layer.10.output.dense.bias', 'base_model.molformer.encoder.layer.10.output.LayerNorm.weight', 'base_model.molformer.encoder.layer.10.output.LayerNorm.bias', 'base_model.molformer.encoder.layer.11.attention.self.query.weight', 'base_model.molformer.encoder.layer.11.attention.self.query.bias', 'base_model.molformer.encoder.layer.11.attention.self.key.weight', 'base_model.molformer.encoder.layer.11.attention.self.key.bias', 'base_model.molformer.encoder.layer.11.attention.self.value.weight', 'base_model.molformer.encoder.layer.11.attention.self.value.bias', 'base_model.molformer.encoder.layer.11.attention.self.feature_map.weight', 'base_model.molformer.encoder.layer.11.attention.output.dense.weight', 'base_model.molformer.encoder.layer.11.attention.output.dense.bias', 'base_model.molformer.encoder.layer.11.attention.output.LayerNorm.weight', 'base_model.molformer.encoder.layer.11.attention.output.LayerNorm.bias', 'base_model.molformer.encoder.layer.11.intermediate.dense.weight', 'base_model.molformer.encoder.layer.11.intermediate.dense.bias', 'base_model.molformer.encoder.layer.11.output.dense.weight', 'base_model.molformer.encoder.layer.11.output.dense.bias', 'base_model.molformer.encoder.layer.11.output.LayerNorm.weight', 'base_model.molformer.encoder.layer.11.output.LayerNorm.bias', 'base_model.molformer.LayerNorm.weight', 'base_model.molformer.LayerNorm.bias', 'base_model.lm_head.transform.dense.weight', 'base_model.lm_head.transform.dense.bias', 'base_model.lm_head.transform.LayerNorm.weight', 'base_model.lm_head.transform.LayerNorm.bias', 'base_model.lm_head.decoder.weight', 'regression_head.0.weight', 'regression_head.0.bias', 'regression_head.2.weight', 'regression_head.2.bias'], unexpected_keys=['molformer.embeddings.word_embeddings.weight', 'molformer.encoder.layer.0.attention.self.query.weight', 'molformer.encoder.layer.0.attention.self.query.bias', 'molformer.encoder.layer.0.attention.self.key.weight', 'molformer.encoder.layer.0.attention.self.key.bias', 'molformer.encoder.layer.0.attention.self.value.weight', 'molformer.encoder.layer.0.attention.self.value.bias', 'molformer.encoder.layer.0.attention.self.feature_map.weight', 'molformer.encoder.layer.0.attention.output.dense.weight', 'molformer.encoder.layer.0.attention.output.dense.bias', 'molformer.encoder.layer.0.attention.output.LayerNorm.weight', 'molformer.encoder.layer.0.attention.output.LayerNorm.bias', 'molformer.encoder.layer.0.intermediate.dense.weight', 'molformer.encoder.layer.0.intermediate.dense.bias', 'molformer.encoder.layer.0.output.dense.weight', 'molformer.encoder.layer.0.output.dense.bias', 'molformer.encoder.layer.0.output.LayerNorm.weight', 'molformer.encoder.layer.0.output.LayerNorm.bias', 'molformer.encoder.layer.1.attention.self.query.weight', 'molformer.encoder.layer.1.attention.self.query.bias', 'molformer.encoder.layer.1.attention.self.key.weight', 'molformer.encoder.layer.1.attention.self.key.bias', 'molformer.encoder.layer.1.attention.self.value.weight', 'molformer.encoder.layer.1.attention.self.value.bias', 'molformer.encoder.layer.1.attention.self.feature_map.weight', 'molformer.encoder.layer.1.attention.output.dense.weight', 'molformer.encoder.layer.1.attention.output.dense.bias', 'molformer.encoder.layer.1.attention.output.LayerNorm.weight', 'molformer.encoder.layer.1.attention.output.LayerNorm.bias', 'molformer.encoder.layer.1.intermediate.dense.weight', 'molformer.encoder.layer.1.intermediate.dense.bias', 'molformer.encoder.layer.1.output.dense.weight', 'molformer.encoder.layer.1.output.dense.bias', 'molformer.encoder.layer.1.output.LayerNorm.weight', 'molformer.encoder.layer.1.output.LayerNorm.bias', 'molformer.encoder.layer.2.attention.self.query.weight', 'molformer.encoder.layer.2.attention.self.query.bias', 'molformer.encoder.layer.2.attention.self.key.weight', 'molformer.encoder.layer.2.attention.self.key.bias', 'molformer.encoder.layer.2.attention.self.value.weight', 'molformer.encoder.layer.2.attention.self.value.bias', 'molformer.encoder.layer.2.attention.self.feature_map.weight', 'molformer.encoder.layer.2.attention.output.dense.weight', 'molformer.encoder.layer.2.attention.output.dense.bias', 'molformer.encoder.layer.2.attention.output.LayerNorm.weight', 'molformer.encoder.layer.2.attention.output.LayerNorm.bias', 'molformer.encoder.layer.2.intermediate.dense.weight', 'molformer.encoder.layer.2.intermediate.dense.bias', 'molformer.encoder.layer.2.output.dense.weight', 'molformer.encoder.layer.2.output.dense.bias', 'molformer.encoder.layer.2.output.LayerNorm.weight', 'molformer.encoder.layer.2.output.LayerNorm.bias', 'molformer.encoder.layer.3.attention.self.query.weight', 'molformer.encoder.layer.3.attention.self.query.bias', 'molformer.encoder.layer.3.attention.self.key.weight', 'molformer.encoder.layer.3.attention.self.key.bias', 'molformer.encoder.layer.3.attention.self.value.weight', 'molformer.encoder.layer.3.attention.self.value.bias', 'molformer.encoder.layer.3.attention.self.feature_map.weight', 'molformer.encoder.layer.3.attention.output.dense.weight', 'molformer.encoder.layer.3.attention.output.dense.bias', 'molformer.encoder.layer.3.attention.output.LayerNorm.weight', 'molformer.encoder.layer.3.attention.output.LayerNorm.bias', 'molformer.encoder.layer.3.intermediate.dense.weight', 'molformer.encoder.layer.3.intermediate.dense.bias', 'molformer.encoder.layer.3.output.dense.weight', 'molformer.encoder.layer.3.output.dense.bias', 'molformer.encoder.layer.3.output.LayerNorm.weight', 'molformer.encoder.layer.3.output.LayerNorm.bias', 'molformer.encoder.layer.4.attention.self.query.weight', 'molformer.encoder.layer.4.attention.self.query.bias', 'molformer.encoder.layer.4.attention.self.key.weight', 'molformer.encoder.layer.4.attention.self.key.bias', 'molformer.encoder.layer.4.attention.self.value.weight', 'molformer.encoder.layer.4.attention.self.value.bias', 'molformer.encoder.layer.4.attention.self.feature_map.weight', 'molformer.encoder.layer.4.attention.output.dense.weight', 'molformer.encoder.layer.4.attention.output.dense.bias', 'molformer.encoder.layer.4.attention.output.LayerNorm.weight', 'molformer.encoder.layer.4.attention.output.LayerNorm.bias', 'molformer.encoder.layer.4.intermediate.dense.weight', 'molformer.encoder.layer.4.intermediate.dense.bias', 'molformer.encoder.layer.4.output.dense.weight', 'molformer.encoder.layer.4.output.dense.bias', 'molformer.encoder.layer.4.output.LayerNorm.weight', 'molformer.encoder.layer.4.output.LayerNorm.bias', 'molformer.encoder.layer.5.attention.self.query.weight', 'molformer.encoder.layer.5.attention.self.query.bias', 'molformer.encoder.layer.5.attention.self.key.weight', 'molformer.encoder.layer.5.attention.self.key.bias', 'molformer.encoder.layer.5.attention.self.value.weight', 'molformer.encoder.layer.5.attention.self.value.bias', 'molformer.encoder.layer.5.attention.self.feature_map.weight', 'molformer.encoder.layer.5.attention.output.dense.weight', 'molformer.encoder.layer.5.attention.output.dense.bias', 'molformer.encoder.layer.5.attention.output.LayerNorm.weight', 'molformer.encoder.layer.5.attention.output.LayerNorm.bias', 'molformer.encoder.layer.5.intermediate.dense.weight', 'molformer.encoder.layer.5.intermediate.dense.bias', 'molformer.encoder.layer.5.output.dense.weight', 'molformer.encoder.layer.5.output.dense.bias', 'molformer.encoder.layer.5.output.LayerNorm.weight', 'molformer.encoder.layer.5.output.LayerNorm.bias', 'molformer.encoder.layer.6.attention.self.query.weight', 'molformer.encoder.layer.6.attention.self.query.bias', 'molformer.encoder.layer.6.attention.self.key.weight', 'molformer.encoder.layer.6.attention.self.key.bias', 'molformer.encoder.layer.6.attention.self.value.weight', 'molformer.encoder.layer.6.attention.self.value.bias', 'molformer.encoder.layer.6.attention.self.feature_map.weight', 'molformer.encoder.layer.6.attention.output.dense.weight', 'molformer.encoder.layer.6.attention.output.dense.bias', 'molformer.encoder.layer.6.attention.output.LayerNorm.weight', 'molformer.encoder.layer.6.attention.output.LayerNorm.bias', 'molformer.encoder.layer.6.intermediate.dense.weight', 'molformer.encoder.layer.6.intermediate.dense.bias', 'molformer.encoder.layer.6.output.dense.weight', 'molformer.encoder.layer.6.output.dense.bias', 'molformer.encoder.layer.6.output.LayerNorm.weight', 'molformer.encoder.layer.6.output.LayerNorm.bias', 'molformer.encoder.layer.7.attention.self.query.weight', 'molformer.encoder.layer.7.attention.self.query.bias', 'molformer.encoder.layer.7.attention.self.key.weight', 'molformer.encoder.layer.7.attention.self.key.bias', 'molformer.encoder.layer.7.attention.self.value.weight', 'molformer.encoder.layer.7.attention.self.value.bias', 'molformer.encoder.layer.7.attention.self.feature_map.weight', 'molformer.encoder.layer.7.attention.output.dense.weight', 'molformer.encoder.layer.7.attention.output.dense.bias', 'molformer.encoder.layer.7.attention.output.LayerNorm.weight', 'molformer.encoder.layer.7.attention.output.LayerNorm.bias', 'molformer.encoder.layer.7.intermediate.dense.weight', 'molformer.encoder.layer.7.intermediate.dense.bias', 'molformer.encoder.layer.7.output.dense.weight', 'molformer.encoder.layer.7.output.dense.bias', 'molformer.encoder.layer.7.output.LayerNorm.weight', 'molformer.encoder.layer.7.output.LayerNorm.bias', 'molformer.encoder.layer.8.attention.self.query.weight', 'molformer.encoder.layer.8.attention.self.query.bias', 'molformer.encoder.layer.8.attention.self.key.weight', 'molformer.encoder.layer.8.attention.self.key.bias', 'molformer.encoder.layer.8.attention.self.value.weight', 'molformer.encoder.layer.8.attention.self.value.bias', 'molformer.encoder.layer.8.attention.self.feature_map.weight', 'molformer.encoder.layer.8.attention.output.dense.weight', 'molformer.encoder.layer.8.attention.output.dense.bias', 'molformer.encoder.layer.8.attention.output.LayerNorm.weight', 'molformer.encoder.layer.8.attention.output.LayerNorm.bias', 'molformer.encoder.layer.8.intermediate.dense.weight', 'molformer.encoder.layer.8.intermediate.dense.bias', 'molformer.encoder.layer.8.output.dense.weight', 'molformer.encoder.layer.8.output.dense.bias', 'molformer.encoder.layer.8.output.LayerNorm.weight', 'molformer.encoder.layer.8.output.LayerNorm.bias', 'molformer.encoder.layer.9.attention.self.query.weight', 'molformer.encoder.layer.9.attention.self.query.bias', 'molformer.encoder.layer.9.attention.self.key.weight', 'molformer.encoder.layer.9.attention.self.key.bias', 'molformer.encoder.layer.9.attention.self.value.weight', 'molformer.encoder.layer.9.attention.self.value.bias', 'molformer.encoder.layer.9.attention.self.feature_map.weight', 'molformer.encoder.layer.9.attention.output.dense.weight', 'molformer.encoder.layer.9.attention.output.dense.bias', 'molformer.encoder.layer.9.attention.output.LayerNorm.weight', 'molformer.encoder.layer.9.attention.output.LayerNorm.bias', 'molformer.encoder.layer.9.intermediate.dense.weight', 'molformer.encoder.layer.9.intermediate.dense.bias', 'molformer.encoder.layer.9.output.dense.weight', 'molformer.encoder.layer.9.output.dense.bias', 'molformer.encoder.layer.9.output.LayerNorm.weight', 'molformer.encoder.layer.9.output.LayerNorm.bias', 'molformer.encoder.layer.10.attention.self.query.weight', 'molformer.encoder.layer.10.attention.self.query.bias', 'molformer.encoder.layer.10.attention.self.key.weight', 'molformer.encoder.layer.10.attention.self.key.bias', 'molformer.encoder.layer.10.attention.self.value.weight', 'molformer.encoder.layer.10.attention.self.value.bias', 'molformer.encoder.layer.10.attention.self.feature_map.weight', 'molformer.encoder.layer.10.attention.output.dense.weight', 'molformer.encoder.layer.10.attention.output.dense.bias', 'molformer.encoder.layer.10.attention.output.LayerNorm.weight', 'molformer.encoder.layer.10.attention.output.LayerNorm.bias', 'molformer.encoder.layer.10.intermediate.dense.weight', 'molformer.encoder.layer.10.intermediate.dense.bias', 'molformer.encoder.layer.10.output.dense.weight', 'molformer.encoder.layer.10.output.dense.bias', 'molformer.encoder.layer.10.output.LayerNorm.weight', 'molformer.encoder.layer.10.output.LayerNorm.bias', 'molformer.encoder.layer.11.attention.self.query.weight', 'molformer.encoder.layer.11.attention.self.query.bias', 'molformer.encoder.layer.11.attention.self.key.weight', 'molformer.encoder.layer.11.attention.self.key.bias', 'molformer.encoder.layer.11.attention.self.value.weight', 'molformer.encoder.layer.11.attention.self.value.bias', 'molformer.encoder.layer.11.attention.self.feature_map.weight', 'molformer.encoder.layer.11.attention.output.dense.weight', 'molformer.encoder.layer.11.attention.output.dense.bias', 'molformer.encoder.layer.11.attention.output.LayerNorm.weight', 'molformer.encoder.layer.11.attention.output.LayerNorm.bias', 'molformer.encoder.layer.11.intermediate.dense.weight', 'molformer.encoder.layer.11.intermediate.dense.bias', 'molformer.encoder.layer.11.output.dense.weight', 'molformer.encoder.layer.11.output.dense.bias', 'molformer.encoder.layer.11.output.LayerNorm.weight', 'molformer.encoder.layer.11.output.LayerNorm.bias', 'molformer.LayerNorm.weight', 'molformer.LayerNorm.bias', 'lm_head.transform.dense.weight', 'lm_head.transform.dense.bias', 'lm_head.transform.LayerNorm.weight', 'lm_head.transform.LayerNorm.bias', 'lm_head.decoder.weight'])"
      ]
     },
     "execution_count": 16,
     "metadata": {},
     "output_type": "execute_result"
    }
   ],
   "source": [
    "base_model = AutoModelForMaskedLM.from_pretrained(MODEL_NAME, trust_remote_code=True).to(device)\n",
    "regression_model = MoLFormerWithRegressionHead(base_model, hidden_dim=2362).to(device)\n",
    "checkpoint = torch.load(saved_model_path, map_location=device)\n",
    "regression_model.load_state_dict(checkpoint['state_dict'], strict=False)\n"
   ]
  },
  {
   "cell_type": "markdown",
   "metadata": {
    "id": "MsBMuq3mCgbz"
   },
   "source": [
    "##Loading External Dataset"
   ]
  },
  {
   "cell_type": "code",
   "execution_count": 17,
   "metadata": {
    "executionInfo": {
     "elapsed": 776,
     "status": "ok",
     "timestamp": 1741477236770,
     "user": {
      "displayName": "NueralNetworks Theory",
      "userId": "07825507065392429042"
     },
     "user_tz": -60
    },
    "id": "nMJc40ICCc0q"
   },
   "outputs": [],
   "source": [
    "external_df = pd.read_csv(\"/content/drive/MyDrive/NNTI_Project_files/Project_Files/tasks/External-Dataset_for_Task2.csv\")"
   ]
  },
  {
   "cell_type": "code",
   "execution_count": 18,
   "metadata": {
    "executionInfo": {
     "elapsed": 3,
     "status": "ok",
     "timestamp": 1741477237683,
     "user": {
      "displayName": "NueralNetworks Theory",
      "userId": "07825507065392429042"
     },
     "user_tz": -60
    },
    "id": "w1Ppe9yECvfE"
   },
   "outputs": [],
   "source": [
    "class ExternalSMILESDataset(Dataset):\n",
    "    def __init__(self, dataframe, tokenizer, max_length=128):\n",
    "        self.data = dataframe\n",
    "        self.tokenizer = tokenizer\n",
    "        self.max_length = max_length\n",
    "\n",
    "    def __len__(self):\n",
    "        return len(self.data)\n",
    "\n",
    "    def __getitem__(self, idx):\n",
    "        row = self.data.iloc[idx]\n",
    "        smiles = row[\"SMILES\"]\n",
    "        label = row[\"Label\"]  # \"Labels\" in external data\n",
    "        encoded = self.tokenizer(smiles, padding=\"max_length\", truncation=True,\n",
    "                                 max_length=self.max_length, return_tensors=\"pt\")\n",
    "        item = {\n",
    "            \"input_ids\": encoded[\"input_ids\"].squeeze(0),\n",
    "            \"attention_mask\": encoded[\"attention_mask\"].squeeze(0),\n",
    "            \"target\": torch.tensor(label, dtype=torch.float)\n",
    "        }\n",
    "        return item"
   ]
  },
  {
   "cell_type": "code",
   "execution_count": null,
   "metadata": {
    "executionInfo": {
     "elapsed": 23,
     "status": "ok",
     "timestamp": 1741477239156,
     "user": {
      "displayName": "NueralNetworks Theory",
      "userId": "07825507065392429042"
     },
     "user_tz": -60
    },
    "id": "Q3leuXAwCxrp"
   },
   "outputs": [],
   "source": [
    "external_dataset = ExternalSMILESDataset(external_df, tokenizer)\n",
    "external_loader = DataLoader(external_dataset, batch_size=1, shuffle=False)\n"
   ]
  },
  {
   "cell_type": "markdown",
   "metadata": {
    "id": "iy9QK5nAC23J"
   },
   "source": [
    "##Influence Score Computation via LiSSA"
   ]
  },
  {
   "cell_type": "code",
   "execution_count": null,
   "metadata": {
    "executionInfo": {
     "elapsed": 82,
     "status": "ok",
     "timestamp": 1741477241320,
     "user": {
      "displayName": "NueralNetworks Theory",
      "userId": "07825507065392429042"
     },
     "user_tz": -60
    },
    "id": "9iNlnqMYC0ba"
   },
   "outputs": [],
   "source": [
    "def compute_gradients(model, loss_fn, batch):\n",
    "    model.zero_grad()\n",
    "    input_ids = batch[\"input_ids\"].to(device)\n",
    "    attention_mask = batch[\"attention_mask\"].to(device)\n",
    "    target = batch[\"target\"].to(device).unsqueeze(1)\n",
    "    output = model(input_ids, attention_mask)\n",
    "    loss = loss_fn(output, target)\n",
    "    loss.backward()\n",
    "    grad_list = []\n",
    "    for param in model.parameters():\n",
    "        if param.grad is not None:\n",
    "            grad_list.append(param.grad.view(-1))\n",
    "    grad_vector = torch.cat(grad_list)\n",
    "    return grad_vector\n",
    "\n",
    "# simplified lissa approximation for inverse hessian vector product (iHVP)\n",
    "def lissa_inverse_hvp(model, loss_fn, v, train_loader, damping=0.01, scale=25.0, recursion_depth=100):\n",
    "    inverse_hvp = v.clone().to(device)\n",
    "    train_iter = iter(train_loader)\n",
    "    for i in range(recursion_depth):\n",
    "        try:\n",
    "            batch = next(train_iter)\n",
    "        except StopIteration:\n",
    "            train_iter = iter(train_loader)\n",
    "            batch = next(train_iter)\n",
    "        model.zero_grad()\n",
    "        input_ids = batch[\"input_ids\"].to(device)\n",
    "        attention_mask = batch[\"attention_mask\"].to(device)\n",
    "        target = batch[\"target\"].to(device).unsqueeze(1)\n",
    "        output = model(input_ids, attention_mask)\n",
    "        loss = loss_fn(output, target)\n",
    "        grad_params = torch.autograd.grad(loss, model.parameters(), create_graph=True)\n",
    "        grad_vector = torch.cat([g.view(-1) for g in grad_params])\n",
    "        # Hessian-vector product: compute derivative of grad_vector * inverse_hvp\n",
    "        hvp = torch.autograd.grad(grad_vector, model.parameters(), grad_outputs=inverse_hvp, retain_graph=True)\n",
    "        hvp = torch.cat([g.contiguous().view(-1) for g in hvp])\n",
    "        inverse_hvp = v + (1 - damping) * inverse_hvp - scale * hvp\n",
    "    return inverse_hvp"
   ]
  },
  {
   "cell_type": "code",
   "execution_count": null,
   "metadata": {
    "executionInfo": {
     "elapsed": 860,
     "status": "ok",
     "timestamp": 1741477246736,
     "user": {
      "displayName": "NueralNetworks Theory",
      "userId": "07825507065392429042"
     },
     "user_tz": -60
    },
    "id": "_88gwoTsC_FS"
   },
   "outputs": [],
   "source": [
    "test_batch = next(iter(test_loader))\n",
    "v = compute_gradients(regression_model, nn.MSELoss(), test_batch)"
   ]
  },
  {
   "cell_type": "code",
   "execution_count": null,
   "metadata": {
    "executionInfo": {
     "elapsed": 6,
     "status": "ok",
     "timestamp": 1741477247388,
     "user": {
      "displayName": "NueralNetworks Theory",
      "userId": "07825507065392429042"
     },
     "user_tz": -60
    },
    "id": "XQwubaD3DBzJ"
   },
   "outputs": [],
   "source": [
    "influence_scores = []\n",
    "external_sample_indices = []"
   ]
  },
  {
   "cell_type": "code",
   "execution_count": null,
   "metadata": {
    "colab": {
     "base_uri": "https://localhost:8080/"
    },
    "executionInfo": {
     "elapsed": 5346106,
     "status": "ok",
     "timestamp": 1741482596252,
     "user": {
      "displayName": "NueralNetworks Theory",
      "userId": "07825507065392429042"
     },
     "user_tz": -60
    },
    "id": "QUEREqVTDHUL",
    "outputId": "9dd2ac8b-8221-42b5-f377-d731e7315948"
   },
   "outputs": [
    {
     "name": "stderr",
     "output_type": "stream",
     "text": [
      "Computing influence scores: 100%|██████████| 300/300 [1:29:06<00:00, 17.82s/it]\n"
     ]
    }
   ],
   "source": [
    "for idx, batch in enumerate(tqdm(external_loader, desc=\"Computing influence scores\")):\n",
    "    grad_external = compute_gradients(regression_model, nn.MSELoss(), batch)\n",
    "    iHVP = lissa_inverse_hvp(regression_model, nn.MSELoss(), grad_external, train_loader)\n",
    "    # Influence score: negative dot product of test gradient (v) and iHVP\n",
    "    influence = - torch.dot(v, iHVP).item()\n",
    "    influence_scores.append(influence)\n",
    "    external_sample_indices.append(idx)"
   ]
  },
  {
   "cell_type": "code",
   "execution_count": 24,
   "metadata": {
    "executionInfo": {
     "elapsed": 7,
     "status": "ok",
     "timestamp": 1741482602828,
     "user": {
      "displayName": "NueralNetworks Theory",
      "userId": "07825507065392429042"
     },
     "user_tz": -60
    },
    "id": "TjIm4jF0DllQ"
   },
   "outputs": [],
   "source": [
    "torch.save({\"indices\": external_sample_indices, \"scores\": influence_scores},\n",
    "           \"/content/drive/MyDrive/influence_scores_with_indices.pth\")"
   ]
  },
  {
   "cell_type": "code",
   "execution_count": 29,
   "metadata": {
    "colab": {
     "base_uri": "https://localhost:8080/"
    },
    "executionInfo": {
     "elapsed": 5,
     "status": "ok",
     "timestamp": 1741482657422,
     "user": {
      "displayName": "NueralNetworks Theory",
      "userId": "07825507065392429042"
     },
     "user_tz": -60
    },
    "id": "0F63kXpCc8p7",
    "outputId": "100d3f72-acc0-4130-daa9-27a682d5330e"
   },
   "outputs": [
    {
     "name": "stdout",
     "output_type": "stream",
     "text": [
      "300\n",
      "300\n"
     ]
    }
   ],
   "source": [
    "print(len(influence_scores))\n",
    "print(len(external_sample_indices))"
   ]
  },
  {
   "cell_type": "code",
   "execution_count": null,
   "metadata": {
    "id": "kz2KH8utcl5h"
   },
   "outputs": [],
   "source": [
    "#influence_data = torch.load(\"/content/drive/MyDrive/influence_scores_with_indices.pth\")\n",
    "\n",
    "#influence_scores = influence_data[\"scores\"]\n",
    "#external_sample_indices = influence_data[\"indices\"]\n",
    "\n",
    "#print(\"Influence scores and indices loaded successfully.\")"
   ]
  },
  {
   "cell_type": "markdown",
   "metadata": {
    "id": "mkeHHHmVdcpd"
   },
   "source": [
    "##Select High-impact External sampples"
   ]
  },
  {
   "cell_type": "code",
   "execution_count": 38,
   "metadata": {
    "executionInfo": {
     "elapsed": 1,
     "status": "ok",
     "timestamp": 1741484043722,
     "user": {
      "displayName": "NueralNetworks Theory",
      "userId": "07825507065392429042"
     },
     "user_tz": -60
    },
    "id": "xc3Pj0LZdUJz"
   },
   "outputs": [],
   "source": [
    "k = 50\n",
    "influence_scores_np = np.array(influence_scores)\n",
    "topk_indices = np.argsort(influence_scores_np)[-k:]"
   ]
  },
  {
   "cell_type": "code",
   "execution_count": null,
   "metadata": {
    "executionInfo": {
     "elapsed": 29,
     "status": "ok",
     "timestamp": 1741484044665,
     "user": {
      "displayName": "NueralNetworks Theory",
      "userId": "07825507065392429042"
     },
     "user_tz": -60
    },
    "id": "oQRetbUMdiY4"
   },
   "outputs": [],
   "source": [
    "selected_external_data = []\n",
    "for idx in topk_indices:\n",
    "    selected_external_data.append(external_dataset[idx])"
   ]
  },
  {
   "cell_type": "markdown",
   "metadata": {
    "id": "J-wfJZwadqK7"
   },
   "source": [
    "##Combine with original dataset"
   ]
  },
  {
   "cell_type": "code",
   "execution_count": null,
   "metadata": {
    "executionInfo": {
     "elapsed": 2,
     "status": "ok",
     "timestamp": 1741484046721,
     "user": {
      "displayName": "NueralNetworks Theory",
      "userId": "07825507065392429042"
     },
     "user_tz": -60
    },
    "id": "Z0O-FRhBdotn"
   },
   "outputs": [],
   "source": [
    "combined_train_data = train_dataset.get_data() + selected_external_data\n",
    "\n",
    "combined_train_loader = DataLoader(combined_train_data, batch_size=16, shuffle=True)"
   ]
  },
  {
   "cell_type": "code",
   "execution_count": 41,
   "metadata": {
    "executionInfo": {
     "elapsed": 6,
     "status": "ok",
     "timestamp": 1741484047413,
     "user": {
      "displayName": "NueralNetworks Theory",
      "userId": "07825507065392429042"
     },
     "user_tz": -60
    },
    "id": "uI099gwWdxF9"
   },
   "outputs": [],
   "source": [
    "# Fine-tune the regression model on the combined training data\n",
    "finetune_optimizer = optim.AdamW(regression_model.parameters(), lr=2e-5)\n",
    "finetune_epochs = 10"
   ]
  },
  {
   "cell_type": "code",
   "execution_count": 42,
   "metadata": {
    "colab": {
     "base_uri": "https://localhost:8080/",
     "height": 924
    },
    "executionInfo": {
     "elapsed": 143775,
     "status": "ok",
     "timestamp": 1741484192051,
     "user": {
      "displayName": "NueralNetworks Theory",
      "userId": "07825507065392429042"
     },
     "user_tz": -60
    },
    "id": "XwycYgPnd2FJ",
    "outputId": "36fe0ac6-aed7-44fb-87c3-ea9ec04620e0"
   },
   "outputs": [
    {
     "data": {
      "text/html": [],
      "text/plain": [
       "<IPython.core.display.HTML object>"
      ]
     },
     "metadata": {},
     "output_type": "display_data"
    },
    {
     "data": {
      "text/html": [
       "<br>    <style><br>        .wandb-row {<br>            display: flex;<br>            flex-direction: row;<br>            flex-wrap: wrap;<br>            justify-content: flex-start;<br>            width: 100%;<br>        }<br>        .wandb-col {<br>            display: flex;<br>            flex-direction: column;<br>            flex-basis: 100%;<br>            flex: 1;<br>            padding: 10px;<br>        }<br>    </style><br><div class=\"wandb-row\"><div class=\"wandb-col\"><h3>Run history:</h3><br/><table class=\"wandb\"><tr><td>final_test_mae</td><td>▁</td></tr><tr><td>final_test_mse</td><td>▁</td></tr><tr><td>final_test_r2</td><td>▁</td></tr><tr><td>final_test_rmse</td><td>▁</td></tr><tr><td>finetune_epoch_loss</td><td>█▇▆▆▆▅▅▄▄▃▃▃▃▂▂▂▂▁▁▁</td></tr></table><br/></div><div class=\"wandb-col\"><h3>Run summary:</h3><br/><table class=\"wandb\"><tr><td>final_test_mae</td><td>0.4664</td></tr><tr><td>final_test_mse</td><td>0.40068</td></tr><tr><td>final_test_r2</td><td>0.71542</td></tr><tr><td>final_test_rmse</td><td>0.63299</td></tr><tr><td>finetune_epoch_loss</td><td>0.07139</td></tr></table><br/></div></div>"
      ],
      "text/plain": [
       "<IPython.core.display.HTML object>"
      ]
     },
     "metadata": {},
     "output_type": "display_data"
    },
    {
     "data": {
      "text/html": [
       " View run <strong style=\"color:#cdcd00\">Regression_FT_with_Selected_Data_run2</strong> at: <a href='https://wandb.ai/solankishaique-max-planck-institute-for-informatics/NNTI_Project_v2/runs/hvlis8ku' target=\"_blank\">https://wandb.ai/solankishaique-max-planck-institute-for-informatics/NNTI_Project_v2/runs/hvlis8ku</a><br> View project at: <a href='https://wandb.ai/solankishaique-max-planck-institute-for-informatics/NNTI_Project_v2' target=\"_blank\">https://wandb.ai/solankishaique-max-planck-institute-for-informatics/NNTI_Project_v2</a><br>Synced 5 W&B file(s), 0 media file(s), 0 artifact file(s) and 0 other file(s)"
      ],
      "text/plain": [
       "<IPython.core.display.HTML object>"
      ]
     },
     "metadata": {},
     "output_type": "display_data"
    },
    {
     "data": {
      "text/html": [
       "Find logs at: <code>./wandb/run-20250309_011847-hvlis8ku/logs</code>"
      ],
      "text/plain": [
       "<IPython.core.display.HTML object>"
      ]
     },
     "metadata": {},
     "output_type": "display_data"
    },
    {
     "data": {
      "text/html": [
       "Tracking run with wandb version 0.19.7"
      ],
      "text/plain": [
       "<IPython.core.display.HTML object>"
      ]
     },
     "metadata": {},
     "output_type": "display_data"
    },
    {
     "data": {
      "text/html": [
       "Run data is saved locally in <code>/content/wandb/run-20250309_013408-5dymdtel</code>"
      ],
      "text/plain": [
       "<IPython.core.display.HTML object>"
      ]
     },
     "metadata": {},
     "output_type": "display_data"
    },
    {
     "data": {
      "text/html": [
       "Syncing run <strong><a href='https://wandb.ai/solankishaique-max-planck-institute-for-informatics/NNTI_Project_v2/runs/5dymdtel' target=\"_blank\">Regression_FT_with_Selected_Data</a></strong> to <a href='https://wandb.ai/solankishaique-max-planck-institute-for-informatics/NNTI_Project_v2' target=\"_blank\">Weights & Biases</a> (<a href='https://wandb.me/developer-guide' target=\"_blank\">docs</a>)<br>"
      ],
      "text/plain": [
       "<IPython.core.display.HTML object>"
      ]
     },
     "metadata": {},
     "output_type": "display_data"
    },
    {
     "data": {
      "text/html": [
       " View project at <a href='https://wandb.ai/solankishaique-max-planck-institute-for-informatics/NNTI_Project_v2' target=\"_blank\">https://wandb.ai/solankishaique-max-planck-institute-for-informatics/NNTI_Project_v2</a>"
      ],
      "text/plain": [
       "<IPython.core.display.HTML object>"
      ]
     },
     "metadata": {},
     "output_type": "display_data"
    },
    {
     "data": {
      "text/html": [
       " View run at <a href='https://wandb.ai/solankishaique-max-planck-institute-for-informatics/NNTI_Project_v2/runs/5dymdtel' target=\"_blank\">https://wandb.ai/solankishaique-max-planck-institute-for-informatics/NNTI_Project_v2/runs/5dymdtel</a>"
      ],
      "text/plain": [
       "<IPython.core.display.HTML object>"
      ]
     },
     "metadata": {},
     "output_type": "display_data"
    },
    {
     "name": "stderr",
     "output_type": "stream",
     "text": [
      "Fine-tuning epoch 1: 100%|██████████| 214/214 [00:14<00:00, 15.25it/s]\n"
     ]
    },
    {
     "name": "stdout",
     "output_type": "stream",
     "text": [
      "Finetune Epoch 1: Loss = 0.0776771129866209\n"
     ]
    },
    {
     "name": "stderr",
     "output_type": "stream",
     "text": [
      "Fine-tuning epoch 2: 100%|██████████| 214/214 [00:14<00:00, 15.26it/s]\n"
     ]
    },
    {
     "name": "stdout",
     "output_type": "stream",
     "text": [
      "Finetune Epoch 2: Loss = 0.08078661688089928\n"
     ]
    },
    {
     "name": "stderr",
     "output_type": "stream",
     "text": [
      "Fine-tuning epoch 3: 100%|██████████| 214/214 [00:14<00:00, 15.21it/s]\n"
     ]
    },
    {
     "name": "stdout",
     "output_type": "stream",
     "text": [
      "Finetune Epoch 3: Loss = 0.08076024807502176\n"
     ]
    },
    {
     "name": "stderr",
     "output_type": "stream",
     "text": [
      "Fine-tuning epoch 4: 100%|██████████| 214/214 [00:13<00:00, 15.34it/s]\n"
     ]
    },
    {
     "name": "stdout",
     "output_type": "stream",
     "text": [
      "Finetune Epoch 4: Loss = 0.07306517604912553\n"
     ]
    },
    {
     "name": "stderr",
     "output_type": "stream",
     "text": [
      "Fine-tuning epoch 5: 100%|██████████| 214/214 [00:13<00:00, 15.41it/s]\n"
     ]
    },
    {
     "name": "stdout",
     "output_type": "stream",
     "text": [
      "Finetune Epoch 5: Loss = 0.06325173489401274\n"
     ]
    },
    {
     "name": "stderr",
     "output_type": "stream",
     "text": [
      "Fine-tuning epoch 6: 100%|██████████| 214/214 [00:13<00:00, 15.42it/s]\n"
     ]
    },
    {
     "name": "stdout",
     "output_type": "stream",
     "text": [
      "Finetune Epoch 6: Loss = 0.06598199284243807\n"
     ]
    },
    {
     "name": "stderr",
     "output_type": "stream",
     "text": [
      "Fine-tuning epoch 7: 100%|██████████| 214/214 [00:13<00:00, 15.43it/s]\n"
     ]
    },
    {
     "name": "stdout",
     "output_type": "stream",
     "text": [
      "Finetune Epoch 7: Loss = 0.060048135950569514\n"
     ]
    },
    {
     "name": "stderr",
     "output_type": "stream",
     "text": [
      "Fine-tuning epoch 8: 100%|██████████| 214/214 [00:13<00:00, 15.32it/s]\n"
     ]
    },
    {
     "name": "stdout",
     "output_type": "stream",
     "text": [
      "Finetune Epoch 8: Loss = 0.0595537151044635\n"
     ]
    },
    {
     "name": "stderr",
     "output_type": "stream",
     "text": [
      "Fine-tuning epoch 9: 100%|██████████| 214/214 [00:13<00:00, 15.43it/s]\n"
     ]
    },
    {
     "name": "stdout",
     "output_type": "stream",
     "text": [
      "Finetune Epoch 9: Loss = 0.06109799117406952\n"
     ]
    },
    {
     "name": "stderr",
     "output_type": "stream",
     "text": [
      "Fine-tuning epoch 10: 100%|██████████| 214/214 [00:13<00:00, 15.38it/s]"
     ]
    },
    {
     "name": "stdout",
     "output_type": "stream",
     "text": [
      "Finetune Epoch 10: Loss = 0.05938276859156996\n"
     ]
    },
    {
     "name": "stderr",
     "output_type": "stream",
     "text": [
      "\n"
     ]
    }
   ],
   "source": [
    "wandb.init(project=\"NNTI_Project_v2\", name=\"Regression_FT_with_Selected_Data\", reinit=True)\n",
    "\n",
    "for epoch in range(finetune_epochs):\n",
    "    regression_model.train()\n",
    "    total_loss = 0\n",
    "    for batch in tqdm(combined_train_loader, desc=f\"Fine-tuning epoch {epoch+1}\"):\n",
    "        input_ids = batch[\"input_ids\"].to(device)\n",
    "        attention_mask = batch[\"attention_mask\"].to(device)\n",
    "        targets = batch[\"target\"].to(device).unsqueeze(1)\n",
    "        finetune_optimizer.zero_grad()\n",
    "        outputs = regression_model(input_ids, attention_mask)\n",
    "        loss = nn.MSELoss()(outputs, targets)\n",
    "        loss.backward()\n",
    "        finetune_optimizer.step()\n",
    "        total_loss += loss.item()\n",
    "    print(f\"Finetune Epoch {epoch+1}: Loss = {total_loss/len(combined_train_loader)}\")\n",
    "    wandb.log({\"finetune_epoch_loss\": total_loss/len(combined_train_loader)})"
   ]
  },
  {
   "cell_type": "markdown",
   "metadata": {
    "id": "k_KEV74MeXzh"
   },
   "source": [
    "##Evaluate the final model on test set"
   ]
  },
  {
   "cell_type": "code",
   "execution_count": 43,
   "metadata": {
    "colab": {
     "base_uri": "https://localhost:8080/"
    },
    "executionInfo": {
     "elapsed": 1358,
     "status": "ok",
     "timestamp": 1741484201278,
     "user": {
      "displayName": "NueralNetworks Theory",
      "userId": "07825507065392429042"
     },
     "user_tz": -60
    },
    "id": "OHsBmFl0d68m",
    "outputId": "19a19281-75fb-41fb-986a-9c26af718be9"
   },
   "outputs": [
    {
     "name": "stdout",
     "output_type": "stream",
     "text": [
      "Final Model Performance on Test Set:\n",
      "MSE: 0.3711349097637513\n",
      "RMSE: 0.6092084288351166\n",
      "MAE: 0.4535766556393355\n",
      "R2: 0.7364062156741611\n"
     ]
    }
   ],
   "source": [
    "regression_model.eval()\n",
    "predictions = []\n",
    "actuals = []\n",
    "with torch.no_grad():\n",
    "    for batch in test_loader:\n",
    "        input_ids = batch[\"input_ids\"].to(device)\n",
    "        attention_mask = batch[\"attention_mask\"].to(device)\n",
    "        targets = batch[\"target\"].to(device)\n",
    "        outputs = regression_model(input_ids, attention_mask).squeeze(1)\n",
    "        predictions.extend(outputs.cpu().numpy())\n",
    "        actuals.extend(targets.cpu().numpy())\n",
    "\n",
    "mse_final = mean_squared_error(actuals, predictions)\n",
    "rmse_final = np.sqrt(mse_final)\n",
    "mae_final = mean_absolute_error(actuals, predictions)\n",
    "r2_final = r2_score(actuals, predictions)\n",
    "\n",
    "print(\"Final Model Performance on Test Set:\")\n",
    "print(\"MSE:\", mse_final)\n",
    "print(\"RMSE:\", rmse_final)\n",
    "print(\"MAE:\", mae_final)\n",
    "print(\"R2:\", r2_final)\n",
    "wandb.log({\"final_test_mse\": mse_final, \"final_test_rmse\": rmse_final,\n",
    "           \"final_test_mae\": mae_final, \"final_test_r2\": r2_final})"
   ]
  },
  {
   "cell_type": "code",
   "execution_count": 36,
   "metadata": {
    "colab": {
     "base_uri": "https://localhost:8080/",
     "height": 1000
    },
    "executionInfo": {
     "elapsed": 284852,
     "status": "ok",
     "timestamp": 1741483412133,
     "user": {
      "displayName": "NueralNetworks Theory",
      "userId": "07825507065392429042"
     },
     "user_tz": -60
    },
    "id": "NEjWg_cUegsW",
    "outputId": "61c68256-2734-4abe-8d44-d20cef454b1c"
   },
   "outputs": [
    {
     "data": {
      "text/html": [],
      "text/plain": [
       "<IPython.core.display.HTML object>"
      ]
     },
     "metadata": {},
     "output_type": "display_data"
    },
    {
     "data": {
      "text/html": [
       "<br>    <style><br>        .wandb-row {<br>            display: flex;<br>            flex-direction: row;<br>            flex-wrap: wrap;<br>            justify-content: flex-start;<br>            width: 100%;<br>        }<br>        .wandb-col {<br>            display: flex;<br>            flex-direction: column;<br>            flex-basis: 100%;<br>            flex: 1;<br>            padding: 10px;<br>        }<br>    </style><br><div class=\"wandb-row\"><div class=\"wandb-col\"><h3>Run history:</h3><br/><table class=\"wandb\"><tr><td>final_test_mae</td><td>▁</td></tr><tr><td>final_test_mse</td><td>▁</td></tr><tr><td>final_test_r2</td><td>▁</td></tr><tr><td>final_test_rmse</td><td>▁</td></tr><tr><td>finetune_epoch_loss</td><td>█▄▃▂▂▂▁▁▁▁</td></tr></table><br/></div><div class=\"wandb-col\"><h3>Run summary:</h3><br/><table class=\"wandb\"><tr><td>final_test_mae</td><td>0.49129</td></tr><tr><td>final_test_mse</td><td>0.42844</td></tr><tr><td>final_test_r2</td><td>0.69571</td></tr><tr><td>final_test_rmse</td><td>0.65455</td></tr><tr><td>finetune_epoch_loss</td><td>0.20239</td></tr></table><br/></div></div>"
      ],
      "text/plain": [
       "<IPython.core.display.HTML object>"
      ]
     },
     "metadata": {},
     "output_type": "display_data"
    },
    {
     "data": {
      "text/html": [
       " View run <strong style=\"color:#cdcd00\">Regression_FT_with_Selected_Data</strong> at: <a href='https://wandb.ai/solankishaique-max-planck-institute-for-informatics/NNTI_Project_v2/runs/6fagierc' target=\"_blank\">https://wandb.ai/solankishaique-max-planck-institute-for-informatics/NNTI_Project_v2/runs/6fagierc</a><br> View project at: <a href='https://wandb.ai/solankishaique-max-planck-institute-for-informatics/NNTI_Project_v2' target=\"_blank\">https://wandb.ai/solankishaique-max-planck-institute-for-informatics/NNTI_Project_v2</a><br>Synced 5 W&B file(s), 0 media file(s), 0 artifact file(s) and 0 other file(s)"
      ],
      "text/plain": [
       "<IPython.core.display.HTML object>"
      ]
     },
     "metadata": {},
     "output_type": "display_data"
    },
    {
     "data": {
      "text/html": [
       "Find logs at: <code>./wandb/run-20250309_011424-6fagierc/logs</code>"
      ],
      "text/plain": [
       "<IPython.core.display.HTML object>"
      ]
     },
     "metadata": {},
     "output_type": "display_data"
    },
    {
     "data": {
      "text/html": [
       "Tracking run with wandb version 0.19.7"
      ],
      "text/plain": [
       "<IPython.core.display.HTML object>"
      ]
     },
     "metadata": {},
     "output_type": "display_data"
    },
    {
     "data": {
      "text/html": [
       "Run data is saved locally in <code>/content/wandb/run-20250309_011847-hvlis8ku</code>"
      ],
      "text/plain": [
       "<IPython.core.display.HTML object>"
      ]
     },
     "metadata": {},
     "output_type": "display_data"
    },
    {
     "data": {
      "text/html": [
       "Syncing run <strong><a href='https://wandb.ai/solankishaique-max-planck-institute-for-informatics/NNTI_Project_v2/runs/hvlis8ku' target=\"_blank\">Regression_FT_with_Selected_Data_run2</a></strong> to <a href='https://wandb.ai/solankishaique-max-planck-institute-for-informatics/NNTI_Project_v2' target=\"_blank\">Weights & Biases</a> (<a href='https://wandb.me/developer-guide' target=\"_blank\">docs</a>)<br>"
      ],
      "text/plain": [
       "<IPython.core.display.HTML object>"
      ]
     },
     "metadata": {},
     "output_type": "display_data"
    },
    {
     "data": {
      "text/html": [
       " View project at <a href='https://wandb.ai/solankishaique-max-planck-institute-for-informatics/NNTI_Project_v2' target=\"_blank\">https://wandb.ai/solankishaique-max-planck-institute-for-informatics/NNTI_Project_v2</a>"
      ],
      "text/plain": [
       "<IPython.core.display.HTML object>"
      ]
     },
     "metadata": {},
     "output_type": "display_data"
    },
    {
     "data": {
      "text/html": [
       " View run at <a href='https://wandb.ai/solankishaique-max-planck-institute-for-informatics/NNTI_Project_v2/runs/hvlis8ku' target=\"_blank\">https://wandb.ai/solankishaique-max-planck-institute-for-informatics/NNTI_Project_v2/runs/hvlis8ku</a>"
      ],
      "text/plain": [
       "<IPython.core.display.HTML object>"
      ]
     },
     "metadata": {},
     "output_type": "display_data"
    },
    {
     "name": "stderr",
     "output_type": "stream",
     "text": [
      "Fine-tuning epoch 1: 100%|██████████| 217/217 [00:14<00:00, 15.30it/s]\n"
     ]
    },
    {
     "name": "stdout",
     "output_type": "stream",
     "text": [
      "Finetune Epoch 1: Loss = 0.17599222472598475\n"
     ]
    },
    {
     "name": "stderr",
     "output_type": "stream",
     "text": [
      "Fine-tuning epoch 2: 100%|██████████| 217/217 [00:14<00:00, 15.45it/s]\n"
     ]
    },
    {
     "name": "stdout",
     "output_type": "stream",
     "text": [
      "Finetune Epoch 2: Loss = 0.16730938947969867\n"
     ]
    },
    {
     "name": "stderr",
     "output_type": "stream",
     "text": [
      "Fine-tuning epoch 3: 100%|██████████| 217/217 [00:14<00:00, 15.49it/s]\n"
     ]
    },
    {
     "name": "stdout",
     "output_type": "stream",
     "text": [
      "Finetune Epoch 3: Loss = 0.14382387447055034\n"
     ]
    },
    {
     "name": "stderr",
     "output_type": "stream",
     "text": [
      "Fine-tuning epoch 4: 100%|██████████| 217/217 [00:13<00:00, 15.50it/s]\n"
     ]
    },
    {
     "name": "stdout",
     "output_type": "stream",
     "text": [
      "Finetune Epoch 4: Loss = 0.14602514744354284\n"
     ]
    },
    {
     "name": "stderr",
     "output_type": "stream",
     "text": [
      "Fine-tuning epoch 5: 100%|██████████| 217/217 [00:14<00:00, 15.48it/s]\n"
     ]
    },
    {
     "name": "stdout",
     "output_type": "stream",
     "text": [
      "Finetune Epoch 5: Loss = 0.14006155047754537\n"
     ]
    },
    {
     "name": "stderr",
     "output_type": "stream",
     "text": [
      "Fine-tuning epoch 6: 100%|██████████| 217/217 [00:14<00:00, 15.46it/s]\n"
     ]
    },
    {
     "name": "stdout",
     "output_type": "stream",
     "text": [
      "Finetune Epoch 6: Loss = 0.12562244891914354\n"
     ]
    },
    {
     "name": "stderr",
     "output_type": "stream",
     "text": [
      "Fine-tuning epoch 7: 100%|██████████| 217/217 [00:13<00:00, 15.51it/s]\n"
     ]
    },
    {
     "name": "stdout",
     "output_type": "stream",
     "text": [
      "Finetune Epoch 7: Loss = 0.13026076299460254\n"
     ]
    },
    {
     "name": "stderr",
     "output_type": "stream",
     "text": [
      "Fine-tuning epoch 8: 100%|██████████| 217/217 [00:14<00:00, 15.41it/s]\n"
     ]
    },
    {
     "name": "stdout",
     "output_type": "stream",
     "text": [
      "Finetune Epoch 8: Loss = 0.11085690783705854\n"
     ]
    },
    {
     "name": "stderr",
     "output_type": "stream",
     "text": [
      "Fine-tuning epoch 9: 100%|██████████| 217/217 [00:14<00:00, 15.42it/s]\n"
     ]
    },
    {
     "name": "stdout",
     "output_type": "stream",
     "text": [
      "Finetune Epoch 9: Loss = 0.11396805046787185\n"
     ]
    },
    {
     "name": "stderr",
     "output_type": "stream",
     "text": [
      "Fine-tuning epoch 10: 100%|██████████| 217/217 [00:14<00:00, 15.42it/s]\n"
     ]
    },
    {
     "name": "stdout",
     "output_type": "stream",
     "text": [
      "Finetune Epoch 10: Loss = 0.10362397774641964\n"
     ]
    },
    {
     "name": "stderr",
     "output_type": "stream",
     "text": [
      "Fine-tuning epoch 11: 100%|██████████| 217/217 [00:14<00:00, 15.45it/s]\n"
     ]
    },
    {
     "name": "stdout",
     "output_type": "stream",
     "text": [
      "Finetune Epoch 11: Loss = 0.09857417253373954\n"
     ]
    },
    {
     "name": "stderr",
     "output_type": "stream",
     "text": [
      "Fine-tuning epoch 12: 100%|██████████| 217/217 [00:13<00:00, 15.55it/s]\n"
     ]
    },
    {
     "name": "stdout",
     "output_type": "stream",
     "text": [
      "Finetune Epoch 12: Loss = 0.10069659669896425\n"
     ]
    },
    {
     "name": "stderr",
     "output_type": "stream",
     "text": [
      "Fine-tuning epoch 13: 100%|██████████| 217/217 [00:13<00:00, 15.53it/s]\n"
     ]
    },
    {
     "name": "stdout",
     "output_type": "stream",
     "text": [
      "Finetune Epoch 13: Loss = 0.09746131878603713\n"
     ]
    },
    {
     "name": "stderr",
     "output_type": "stream",
     "text": [
      "Fine-tuning epoch 14: 100%|██████████| 217/217 [00:14<00:00, 15.49it/s]\n"
     ]
    },
    {
     "name": "stdout",
     "output_type": "stream",
     "text": [
      "Finetune Epoch 14: Loss = 0.0840427242648629\n"
     ]
    },
    {
     "name": "stderr",
     "output_type": "stream",
     "text": [
      "Fine-tuning epoch 15: 100%|██████████| 217/217 [00:14<00:00, 15.38it/s]\n"
     ]
    },
    {
     "name": "stdout",
     "output_type": "stream",
     "text": [
      "Finetune Epoch 15: Loss = 0.08240362525432615\n"
     ]
    },
    {
     "name": "stderr",
     "output_type": "stream",
     "text": [
      "Fine-tuning epoch 16: 100%|██████████| 217/217 [00:14<00:00, 15.49it/s]\n"
     ]
    },
    {
     "name": "stdout",
     "output_type": "stream",
     "text": [
      "Finetune Epoch 16: Loss = 0.08061830542363604\n"
     ]
    },
    {
     "name": "stderr",
     "output_type": "stream",
     "text": [
      "Fine-tuning epoch 17: 100%|██████████| 217/217 [00:13<00:00, 15.55it/s]\n"
     ]
    },
    {
     "name": "stdout",
     "output_type": "stream",
     "text": [
      "Finetune Epoch 17: Loss = 0.07902907514901754\n"
     ]
    },
    {
     "name": "stderr",
     "output_type": "stream",
     "text": [
      "Fine-tuning epoch 18: 100%|██████████| 217/217 [00:13<00:00, 15.50it/s]\n"
     ]
    },
    {
     "name": "stdout",
     "output_type": "stream",
     "text": [
      "Finetune Epoch 18: Loss = 0.07782485990136999\n"
     ]
    },
    {
     "name": "stderr",
     "output_type": "stream",
     "text": [
      "Fine-tuning epoch 19: 100%|██████████| 217/217 [00:13<00:00, 15.56it/s]\n"
     ]
    },
    {
     "name": "stdout",
     "output_type": "stream",
     "text": [
      "Finetune Epoch 19: Loss = 0.07457239833158281\n"
     ]
    },
    {
     "name": "stderr",
     "output_type": "stream",
     "text": [
      "Fine-tuning epoch 20: 100%|██████████| 217/217 [00:13<00:00, 15.56it/s]"
     ]
    },
    {
     "name": "stdout",
     "output_type": "stream",
     "text": [
      "Finetune Epoch 20: Loss = 0.07138978587763925\n"
     ]
    },
    {
     "name": "stderr",
     "output_type": "stream",
     "text": [
      "\n"
     ]
    }
   ],
   "source": [
    "wandb.init(project=\"NNTI_Project_v2\", name=\"Regression_FT_with_Selected_Data_run2\", reinit=True)\n",
    "epochs = 20\n",
    "for epoch in range(epochs):\n",
    "    regression_model.train()\n",
    "    total_loss = 0\n",
    "    for batch in tqdm(combined_train_loader, desc=f\"Fine-tuning epoch {epoch+1}\"):\n",
    "        input_ids = batch[\"input_ids\"].to(device)\n",
    "        attention_mask = batch[\"attention_mask\"].to(device)\n",
    "        targets = batch[\"target\"].to(device).unsqueeze(1)\n",
    "        finetune_optimizer.zero_grad()\n",
    "        outputs = regression_model(input_ids, attention_mask)\n",
    "        loss = nn.MSELoss()(outputs, targets)\n",
    "        loss.backward()\n",
    "        finetune_optimizer.step()\n",
    "        total_loss += loss.item()\n",
    "    print(f\"Finetune Epoch {epoch+1}: Loss = {total_loss/len(combined_train_loader)}\")\n",
    "    wandb.log({\"finetune_epoch_loss\": total_loss/len(combined_train_loader)})"
   ]
  },
  {
   "cell_type": "code",
   "execution_count": 37,
   "metadata": {
    "colab": {
     "base_uri": "https://localhost:8080/"
    },
    "executionInfo": {
     "elapsed": 1364,
     "status": "ok",
     "timestamp": 1741483911410,
     "user": {
      "displayName": "NueralNetworks Theory",
      "userId": "07825507065392429042"
     },
     "user_tz": -60
    },
    "id": "ehmxO3z7e6_v",
    "outputId": "c8762048-c384-4d8f-9a2b-8768ce0a1acb"
   },
   "outputs": [
    {
     "name": "stdout",
     "output_type": "stream",
     "text": [
      "Final Model Performance on Test Set:\n",
      "MSE: 0.40067659297223757\n",
      "RMSE: 0.6329901997442279\n",
      "MAE: 0.46640167669393123\n",
      "R2: 0.7154246160794562\n"
     ]
    }
   ],
   "source": [
    "regression_model.eval()\n",
    "predictions = []\n",
    "actuals = []\n",
    "with torch.no_grad():\n",
    "    for batch in test_loader:\n",
    "        input_ids = batch[\"input_ids\"].to(device)\n",
    "        attention_mask = batch[\"attention_mask\"].to(device)\n",
    "        targets = batch[\"target\"].to(device)\n",
    "        outputs = regression_model(input_ids, attention_mask).squeeze(1)\n",
    "        predictions.extend(outputs.cpu().numpy())\n",
    "        actuals.extend(targets.cpu().numpy())\n",
    "\n",
    "mse_final = mean_squared_error(actuals, predictions)\n",
    "rmse_final = np.sqrt(mse_final)\n",
    "mae_final = mean_absolute_error(actuals, predictions)\n",
    "r2_final = r2_score(actuals, predictions)\n",
    "\n",
    "print(\"Final Model Performance on Test Set:\")\n",
    "print(\"MSE:\", mse_final)\n",
    "print(\"RMSE:\", rmse_final)\n",
    "print(\"MAE:\", mae_final)\n",
    "print(\"R2:\", r2_final)\n",
    "wandb.log({\"final_test_mse\": mse_final, \"final_test_rmse\": rmse_final,\n",
    "           \"final_test_mae\": mae_final, \"final_test_r2\": r2_final})"
   ]
  },
  {
   "cell_type": "code",
   "execution_count": null,
   "metadata": {
    "colab": {
     "base_uri": "https://localhost:8080/",
     "height": 1000
    },
    "executionInfo": {
     "elapsed": 722951,
     "status": "ok",
     "timestamp": 1741485386194,
     "user": {
      "displayName": "NueralNetworks Theory",
      "userId": "07825507065392429042"
     },
     "user_tz": -60
    },
    "id": "JBES1bBxh6I4",
    "outputId": "cb116317-08b6-4fee-da94-a6ebb1f4f16b"
   },
   "outputs": [
    {
     "data": {
      "text/html": [],
      "text/plain": [
       "<IPython.core.display.HTML object>"
      ]
     },
     "metadata": {},
     "output_type": "display_data"
    },
    {
     "data": {
      "text/html": [
       "<br>    <style><br>        .wandb-row {<br>            display: flex;<br>            flex-direction: row;<br>            flex-wrap: wrap;<br>            justify-content: flex-start;<br>            width: 100%;<br>        }<br>        .wandb-col {<br>            display: flex;<br>            flex-direction: column;<br>            flex-basis: 100%;<br>            flex: 1;<br>            padding: 10px;<br>        }<br>    </style><br><div class=\"wandb-row\"><div class=\"wandb-col\"><h3>Run history:</h3><br/><table class=\"wandb\"><tr><td>final_test_mae</td><td>▁</td></tr><tr><td>final_test_mse</td><td>▁</td></tr><tr><td>final_test_r2</td><td>▁</td></tr><tr><td>final_test_rmse</td><td>▁</td></tr><tr><td>finetune_epoch_loss</td><td>▇██▅▂▃▁▁▂▁</td></tr></table><br/></div><div class=\"wandb-col\"><h3>Run summary:</h3><br/><table class=\"wandb\"><tr><td>final_test_mae</td><td>0.45358</td></tr><tr><td>final_test_mse</td><td>0.37113</td></tr><tr><td>final_test_r2</td><td>0.73641</td></tr><tr><td>final_test_rmse</td><td>0.60921</td></tr><tr><td>finetune_epoch_loss</td><td>0.05938</td></tr></table><br/></div></div>"
      ],
      "text/plain": [
       "<IPython.core.display.HTML object>"
      ]
     },
     "metadata": {},
     "output_type": "display_data"
    },
    {
     "data": {
      "text/html": [
       " View run <strong style=\"color:#cdcd00\">Regression_FT_with_Selected_Data</strong> at: <a href='https://wandb.ai/solankishaique-max-planck-institute-for-informatics/NNTI_Project_v2/runs/5dymdtel' target=\"_blank\">https://wandb.ai/solankishaique-max-planck-institute-for-informatics/NNTI_Project_v2/runs/5dymdtel</a><br> View project at: <a href='https://wandb.ai/solankishaique-max-planck-institute-for-informatics/NNTI_Project_v2' target=\"_blank\">https://wandb.ai/solankishaique-max-planck-institute-for-informatics/NNTI_Project_v2</a><br>Synced 5 W&B file(s), 0 media file(s), 0 artifact file(s) and 0 other file(s)"
      ],
      "text/plain": [
       "<IPython.core.display.HTML object>"
      ]
     },
     "metadata": {},
     "output_type": "display_data"
    },
    {
     "data": {
      "text/html": [
       "Find logs at: <code>./wandb/run-20250309_013408-5dymdtel/logs</code>"
      ],
      "text/plain": [
       "<IPython.core.display.HTML object>"
      ]
     },
     "metadata": {},
     "output_type": "display_data"
    },
    {
     "data": {
      "text/html": [
       "Tracking run with wandb version 0.19.7"
      ],
      "text/plain": [
       "<IPython.core.display.HTML object>"
      ]
     },
     "metadata": {},
     "output_type": "display_data"
    },
    {
     "data": {
      "text/html": [
       "Run data is saved locally in <code>/content/wandb/run-20250309_014423-8o0tca9y</code>"
      ],
      "text/plain": [
       "<IPython.core.display.HTML object>"
      ]
     },
     "metadata": {},
     "output_type": "display_data"
    },
    {
     "data": {
      "text/html": [
       "Syncing run <strong><a href='https://wandb.ai/solankishaique-max-planck-institute-for-informatics/NNTI_Project_v2/runs/8o0tca9y' target=\"_blank\">Regression_FT_with_Selected_Data</a></strong> to <a href='https://wandb.ai/solankishaique-max-planck-institute-for-informatics/NNTI_Project_v2' target=\"_blank\">Weights & Biases</a> (<a href='https://wandb.me/developer-guide' target=\"_blank\">docs</a>)<br>"
      ],
      "text/plain": [
       "<IPython.core.display.HTML object>"
      ]
     },
     "metadata": {},
     "output_type": "display_data"
    },
    {
     "data": {
      "text/html": [
       " View project at <a href='https://wandb.ai/solankishaique-max-planck-institute-for-informatics/NNTI_Project_v2' target=\"_blank\">https://wandb.ai/solankishaique-max-planck-institute-for-informatics/NNTI_Project_v2</a>"
      ],
      "text/plain": [
       "<IPython.core.display.HTML object>"
      ]
     },
     "metadata": {},
     "output_type": "display_data"
    },
    {
     "data": {
      "text/html": [
       " View run at <a href='https://wandb.ai/solankishaique-max-planck-institute-for-informatics/NNTI_Project_v2/runs/8o0tca9y' target=\"_blank\">https://wandb.ai/solankishaique-max-planck-institute-for-informatics/NNTI_Project_v2/runs/8o0tca9y</a>"
      ],
      "text/plain": [
       "<IPython.core.display.HTML object>"
      ]
     },
     "metadata": {},
     "output_type": "display_data"
    },
    {
     "name": "stdout",
     "output_type": "stream",
     "text": [
      "Starting training with top 100 external samples...\n"
     ]
    },
    {
     "name": "stderr",
     "output_type": "stream",
     "text": [
      "Fine-tuning epoch 1 (top 100 samples): 100%|██████████| 217/217 [00:14<00:00, 15.11it/s]\n"
     ]
    },
    {
     "name": "stdout",
     "output_type": "stream",
     "text": [
      "Finetune Epoch 1: Loss = 1.2657754702776807\n"
     ]
    },
    {
     "name": "stderr",
     "output_type": "stream",
     "text": [
      "Fine-tuning epoch 2 (top 100 samples): 100%|██████████| 217/217 [00:14<00:00, 15.21it/s]\n"
     ]
    },
    {
     "name": "stdout",
     "output_type": "stream",
     "text": [
      "Finetune Epoch 2: Loss = 0.7369518240201308\n"
     ]
    },
    {
     "name": "stderr",
     "output_type": "stream",
     "text": [
      "Fine-tuning epoch 3 (top 100 samples): 100%|██████████| 217/217 [00:14<00:00, 15.27it/s]\n"
     ]
    },
    {
     "name": "stdout",
     "output_type": "stream",
     "text": [
      "Finetune Epoch 3: Loss = 0.4944563373442619\n"
     ]
    },
    {
     "name": "stderr",
     "output_type": "stream",
     "text": [
      "Fine-tuning epoch 4 (top 100 samples): 100%|██████████| 217/217 [00:14<00:00, 15.23it/s]\n"
     ]
    },
    {
     "name": "stdout",
     "output_type": "stream",
     "text": [
      "Finetune Epoch 4: Loss = 0.4160332177778543\n"
     ]
    },
    {
     "name": "stderr",
     "output_type": "stream",
     "text": [
      "Fine-tuning epoch 5 (top 100 samples): 100%|██████████| 217/217 [00:14<00:00, 15.25it/s]\n"
     ]
    },
    {
     "name": "stdout",
     "output_type": "stream",
     "text": [
      "Finetune Epoch 5: Loss = 0.3531226039207476\n"
     ]
    },
    {
     "name": "stderr",
     "output_type": "stream",
     "text": [
      "Fine-tuning epoch 6 (top 100 samples): 100%|██████████| 217/217 [00:14<00:00, 15.31it/s]\n"
     ]
    },
    {
     "name": "stdout",
     "output_type": "stream",
     "text": [
      "Finetune Epoch 6: Loss = 0.30408945116579256\n"
     ]
    },
    {
     "name": "stderr",
     "output_type": "stream",
     "text": [
      "Fine-tuning epoch 7 (top 100 samples): 100%|██████████| 217/217 [00:14<00:00, 15.21it/s]\n"
     ]
    },
    {
     "name": "stdout",
     "output_type": "stream",
     "text": [
      "Finetune Epoch 7: Loss = 0.2619162380077322\n"
     ]
    },
    {
     "name": "stderr",
     "output_type": "stream",
     "text": [
      "Fine-tuning epoch 8 (top 100 samples): 100%|██████████| 217/217 [00:14<00:00, 15.26it/s]\n"
     ]
    },
    {
     "name": "stdout",
     "output_type": "stream",
     "text": [
      "Finetune Epoch 8: Loss = 0.2369497218233649\n"
     ]
    },
    {
     "name": "stderr",
     "output_type": "stream",
     "text": [
      "Fine-tuning epoch 9 (top 100 samples): 100%|██████████| 217/217 [00:14<00:00, 15.33it/s]\n"
     ]
    },
    {
     "name": "stdout",
     "output_type": "stream",
     "text": [
      "Finetune Epoch 9: Loss = 0.22460545654395758\n"
     ]
    },
    {
     "name": "stderr",
     "output_type": "stream",
     "text": [
      "Fine-tuning epoch 10 (top 100 samples): 100%|██████████| 217/217 [00:14<00:00, 15.39it/s]\n"
     ]
    },
    {
     "name": "stdout",
     "output_type": "stream",
     "text": [
      "Finetune Epoch 10: Loss = 0.193971894921795\n",
      "Test Metrics for top 100:\n",
      "MSE: 0.4503383832593205, RMSE: 0.6710725618435912, MAE: 0.5062546266952441, R²: 0.6801529698565201\n",
      "Starting training with top 80 external samples...\n"
     ]
    },
    {
     "name": "stderr",
     "output_type": "stream",
     "text": [
      "Fine-tuning epoch 1 (top 80 samples): 100%|██████████| 215/215 [00:14<00:00, 15.31it/s]\n"
     ]
    },
    {
     "name": "stdout",
     "output_type": "stream",
     "text": [
      "Finetune Epoch 1: Loss = 1.2837597745795584\n"
     ]
    },
    {
     "name": "stderr",
     "output_type": "stream",
     "text": [
      "Fine-tuning epoch 2 (top 80 samples): 100%|██████████| 215/215 [00:13<00:00, 15.36it/s]\n"
     ]
    },
    {
     "name": "stdout",
     "output_type": "stream",
     "text": [
      "Finetune Epoch 2: Loss = 0.6915913559669672\n"
     ]
    },
    {
     "name": "stderr",
     "output_type": "stream",
     "text": [
      "Fine-tuning epoch 3 (top 80 samples): 100%|██████████| 215/215 [00:14<00:00, 14.99it/s]\n"
     ]
    },
    {
     "name": "stdout",
     "output_type": "stream",
     "text": [
      "Finetune Epoch 3: Loss = 0.5352581311796987\n"
     ]
    },
    {
     "name": "stderr",
     "output_type": "stream",
     "text": [
      "Fine-tuning epoch 4 (top 80 samples): 100%|██████████| 215/215 [00:14<00:00, 14.48it/s]\n"
     ]
    },
    {
     "name": "stdout",
     "output_type": "stream",
     "text": [
      "Finetune Epoch 4: Loss = 0.4322497391423514\n"
     ]
    },
    {
     "name": "stderr",
     "output_type": "stream",
     "text": [
      "Fine-tuning epoch 5 (top 80 samples): 100%|██████████| 215/215 [00:14<00:00, 14.97it/s]\n"
     ]
    },
    {
     "name": "stdout",
     "output_type": "stream",
     "text": [
      "Finetune Epoch 5: Loss = 0.3381608435580897\n"
     ]
    },
    {
     "name": "stderr",
     "output_type": "stream",
     "text": [
      "Fine-tuning epoch 6 (top 80 samples): 100%|██████████| 215/215 [00:14<00:00, 15.32it/s]\n"
     ]
    },
    {
     "name": "stdout",
     "output_type": "stream",
     "text": [
      "Finetune Epoch 6: Loss = 0.3272590027299038\n"
     ]
    },
    {
     "name": "stderr",
     "output_type": "stream",
     "text": [
      "Fine-tuning epoch 7 (top 80 samples): 100%|██████████| 215/215 [00:14<00:00, 15.34it/s]\n"
     ]
    },
    {
     "name": "stdout",
     "output_type": "stream",
     "text": [
      "Finetune Epoch 7: Loss = 0.28586970325126204\n"
     ]
    },
    {
     "name": "stderr",
     "output_type": "stream",
     "text": [
      "Fine-tuning epoch 8 (top 80 samples): 100%|██████████| 215/215 [00:14<00:00, 15.35it/s]\n"
     ]
    },
    {
     "name": "stdout",
     "output_type": "stream",
     "text": [
      "Finetune Epoch 8: Loss = 0.2277983884825263\n"
     ]
    },
    {
     "name": "stderr",
     "output_type": "stream",
     "text": [
      "Fine-tuning epoch 9 (top 80 samples): 100%|██████████| 215/215 [00:13<00:00, 15.38it/s]\n"
     ]
    },
    {
     "name": "stdout",
     "output_type": "stream",
     "text": [
      "Finetune Epoch 9: Loss = 0.22409193290527477\n"
     ]
    },
    {
     "name": "stderr",
     "output_type": "stream",
     "text": [
      "Fine-tuning epoch 10 (top 80 samples): 100%|██████████| 215/215 [00:13<00:00, 15.42it/s]\n"
     ]
    },
    {
     "name": "stdout",
     "output_type": "stream",
     "text": [
      "Finetune Epoch 10: Loss = 0.1976877188439979\n",
      "Test Metrics for top 80:\n",
      "MSE: 0.4459961155116675, RMSE: 0.6678294059950247, MAE: 0.511882701172449, R²: 0.6832370095360223\n",
      "Starting training with top 60 external samples...\n"
     ]
    },
    {
     "name": "stderr",
     "output_type": "stream",
     "text": [
      "Fine-tuning epoch 1 (top 60 samples): 100%|██████████| 214/214 [00:13<00:00, 15.31it/s]\n"
     ]
    },
    {
     "name": "stdout",
     "output_type": "stream",
     "text": [
      "Finetune Epoch 1: Loss = 1.288981637247255\n"
     ]
    },
    {
     "name": "stderr",
     "output_type": "stream",
     "text": [
      "Fine-tuning epoch 2 (top 60 samples): 100%|██████████| 214/214 [00:13<00:00, 15.31it/s]\n"
     ]
    },
    {
     "name": "stdout",
     "output_type": "stream",
     "text": [
      "Finetune Epoch 2: Loss = 0.7121635299419689\n"
     ]
    },
    {
     "name": "stderr",
     "output_type": "stream",
     "text": [
      "Fine-tuning epoch 3 (top 60 samples): 100%|██████████| 214/214 [00:14<00:00, 15.19it/s]\n"
     ]
    },
    {
     "name": "stdout",
     "output_type": "stream",
     "text": [
      "Finetune Epoch 3: Loss = 0.5061053310599283\n"
     ]
    },
    {
     "name": "stderr",
     "output_type": "stream",
     "text": [
      "Fine-tuning epoch 4 (top 60 samples): 100%|██████████| 214/214 [00:14<00:00, 15.27it/s]\n"
     ]
    },
    {
     "name": "stdout",
     "output_type": "stream",
     "text": [
      "Finetune Epoch 4: Loss = 0.43279759544078433\n"
     ]
    },
    {
     "name": "stderr",
     "output_type": "stream",
     "text": [
      "Fine-tuning epoch 5 (top 60 samples): 100%|██████████| 214/214 [00:14<00:00, 15.28it/s]\n"
     ]
    },
    {
     "name": "stdout",
     "output_type": "stream",
     "text": [
      "Finetune Epoch 5: Loss = 0.3420586317220581\n"
     ]
    },
    {
     "name": "stderr",
     "output_type": "stream",
     "text": [
      "Fine-tuning epoch 6 (top 60 samples): 100%|██████████| 214/214 [00:13<00:00, 15.40it/s]\n"
     ]
    },
    {
     "name": "stdout",
     "output_type": "stream",
     "text": [
      "Finetune Epoch 6: Loss = 0.32720501553789477\n"
     ]
    },
    {
     "name": "stderr",
     "output_type": "stream",
     "text": [
      "Fine-tuning epoch 7 (top 60 samples): 100%|██████████| 214/214 [00:13<00:00, 15.35it/s]\n"
     ]
    },
    {
     "name": "stdout",
     "output_type": "stream",
     "text": [
      "Finetune Epoch 7: Loss = 0.29114982555402774\n"
     ]
    },
    {
     "name": "stderr",
     "output_type": "stream",
     "text": [
      "Fine-tuning epoch 8 (top 60 samples): 100%|██████████| 214/214 [00:13<00:00, 15.36it/s]\n"
     ]
    },
    {
     "name": "stdout",
     "output_type": "stream",
     "text": [
      "Finetune Epoch 8: Loss = 0.23934248723437854\n"
     ]
    },
    {
     "name": "stderr",
     "output_type": "stream",
     "text": [
      "Fine-tuning epoch 9 (top 60 samples): 100%|██████████| 214/214 [00:14<00:00, 15.26it/s]\n"
     ]
    },
    {
     "name": "stdout",
     "output_type": "stream",
     "text": [
      "Finetune Epoch 9: Loss = 0.21998369836500872\n"
     ]
    },
    {
     "name": "stderr",
     "output_type": "stream",
     "text": [
      "Fine-tuning epoch 10 (top 60 samples): 100%|██████████| 214/214 [00:13<00:00, 15.30it/s]\n"
     ]
    },
    {
     "name": "stdout",
     "output_type": "stream",
     "text": [
      "Finetune Epoch 10: Loss = 0.19435214214723243\n",
      "Test Metrics for top 60:\n",
      "MSE: 0.44750888315065823, RMSE: 0.6689610475585691, MAE: 0.5079550844971977, R²: 0.6821625858257303\n",
      "Starting training with top 40 external samples...\n"
     ]
    },
    {
     "name": "stderr",
     "output_type": "stream",
     "text": [
      "Fine-tuning epoch 1 (top 40 samples): 100%|██████████| 213/213 [00:13<00:00, 15.29it/s]\n"
     ]
    },
    {
     "name": "stdout",
     "output_type": "stream",
     "text": [
      "Finetune Epoch 1: Loss = 1.328061647678205\n"
     ]
    },
    {
     "name": "stderr",
     "output_type": "stream",
     "text": [
      "Fine-tuning epoch 2 (top 40 samples): 100%|██████████| 213/213 [00:13<00:00, 15.36it/s]\n"
     ]
    },
    {
     "name": "stdout",
     "output_type": "stream",
     "text": [
      "Finetune Epoch 2: Loss = 0.7303014259802904\n"
     ]
    },
    {
     "name": "stderr",
     "output_type": "stream",
     "text": [
      "Fine-tuning epoch 3 (top 40 samples): 100%|██████████| 213/213 [00:13<00:00, 15.38it/s]\n"
     ]
    },
    {
     "name": "stdout",
     "output_type": "stream",
     "text": [
      "Finetune Epoch 3: Loss = 0.5400043003995654\n"
     ]
    },
    {
     "name": "stderr",
     "output_type": "stream",
     "text": [
      "Fine-tuning epoch 4 (top 40 samples): 100%|██████████| 213/213 [00:14<00:00, 15.18it/s]\n"
     ]
    },
    {
     "name": "stdout",
     "output_type": "stream",
     "text": [
      "Finetune Epoch 4: Loss = 0.4337719725401189\n"
     ]
    },
    {
     "name": "stderr",
     "output_type": "stream",
     "text": [
      "Fine-tuning epoch 5 (top 40 samples): 100%|██████████| 213/213 [00:13<00:00, 15.32it/s]\n"
     ]
    },
    {
     "name": "stdout",
     "output_type": "stream",
     "text": [
      "Finetune Epoch 5: Loss = 0.3491066686214416\n"
     ]
    },
    {
     "name": "stderr",
     "output_type": "stream",
     "text": [
      "Fine-tuning epoch 6 (top 40 samples): 100%|██████████| 213/213 [00:13<00:00, 15.26it/s]\n"
     ]
    },
    {
     "name": "stdout",
     "output_type": "stream",
     "text": [
      "Finetune Epoch 6: Loss = 0.3136889251045218\n"
     ]
    },
    {
     "name": "stderr",
     "output_type": "stream",
     "text": [
      "Fine-tuning epoch 7 (top 40 samples): 100%|██████████| 213/213 [00:13<00:00, 15.29it/s]\n"
     ]
    },
    {
     "name": "stdout",
     "output_type": "stream",
     "text": [
      "Finetune Epoch 7: Loss = 0.2727434495245347\n"
     ]
    },
    {
     "name": "stderr",
     "output_type": "stream",
     "text": [
      "Fine-tuning epoch 8 (top 40 samples): 100%|██████████| 213/213 [00:13<00:00, 15.36it/s]\n"
     ]
    },
    {
     "name": "stdout",
     "output_type": "stream",
     "text": [
      "Finetune Epoch 8: Loss = 0.2654129770440115\n"
     ]
    },
    {
     "name": "stderr",
     "output_type": "stream",
     "text": [
      "Fine-tuning epoch 9 (top 40 samples): 100%|██████████| 213/213 [00:13<00:00, 15.29it/s]\n"
     ]
    },
    {
     "name": "stdout",
     "output_type": "stream",
     "text": [
      "Finetune Epoch 9: Loss = 0.23955814145120657\n"
     ]
    },
    {
     "name": "stderr",
     "output_type": "stream",
     "text": [
      "Fine-tuning epoch 10 (top 40 samples): 100%|██████████| 213/213 [00:13<00:00, 15.32it/s]\n"
     ]
    },
    {
     "name": "stdout",
     "output_type": "stream",
     "text": [
      "Finetune Epoch 10: Loss = 0.1916708063351716\n",
      "Test Metrics for top 40:\n",
      "MSE: 0.4330964293054856, RMSE: 0.6581006224776615, MAE: 0.49268388562458787, R²: 0.6923988453381777\n",
      "Starting training with top 20 external samples...\n"
     ]
    },
    {
     "name": "stderr",
     "output_type": "stream",
     "text": [
      "Fine-tuning epoch 1 (top 20 samples): 100%|██████████| 212/212 [00:13<00:00, 15.38it/s]\n"
     ]
    },
    {
     "name": "stdout",
     "output_type": "stream",
     "text": [
      "Finetune Epoch 1: Loss = 1.3063538953099612\n"
     ]
    },
    {
     "name": "stderr",
     "output_type": "stream",
     "text": [
      "Fine-tuning epoch 2 (top 20 samples): 100%|██████████| 212/212 [00:13<00:00, 15.34it/s]\n"
     ]
    },
    {
     "name": "stdout",
     "output_type": "stream",
     "text": [
      "Finetune Epoch 2: Loss = 0.7263943981730713\n"
     ]
    },
    {
     "name": "stderr",
     "output_type": "stream",
     "text": [
      "Fine-tuning epoch 3 (top 20 samples): 100%|██████████| 212/212 [00:13<00:00, 15.36it/s]\n"
     ]
    },
    {
     "name": "stdout",
     "output_type": "stream",
     "text": [
      "Finetune Epoch 3: Loss = 0.5053035223962001\n"
     ]
    },
    {
     "name": "stderr",
     "output_type": "stream",
     "text": [
      "Fine-tuning epoch 4 (top 20 samples): 100%|██████████| 212/212 [00:13<00:00, 15.39it/s]\n"
     ]
    },
    {
     "name": "stdout",
     "output_type": "stream",
     "text": [
      "Finetune Epoch 4: Loss = 0.427432983937972\n"
     ]
    },
    {
     "name": "stderr",
     "output_type": "stream",
     "text": [
      "Fine-tuning epoch 5 (top 20 samples): 100%|██████████| 212/212 [00:13<00:00, 15.28it/s]\n"
     ]
    },
    {
     "name": "stdout",
     "output_type": "stream",
     "text": [
      "Finetune Epoch 5: Loss = 0.34338352312597464\n"
     ]
    },
    {
     "name": "stderr",
     "output_type": "stream",
     "text": [
      "Fine-tuning epoch 6 (top 20 samples): 100%|██████████| 212/212 [00:13<00:00, 15.24it/s]\n"
     ]
    },
    {
     "name": "stdout",
     "output_type": "stream",
     "text": [
      "Finetune Epoch 6: Loss = 0.3060373031657259\n"
     ]
    },
    {
     "name": "stderr",
     "output_type": "stream",
     "text": [
      "Fine-tuning epoch 7 (top 20 samples): 100%|██████████| 212/212 [00:13<00:00, 15.32it/s]\n"
     ]
    },
    {
     "name": "stdout",
     "output_type": "stream",
     "text": [
      "Finetune Epoch 7: Loss = 0.27101485817781035\n"
     ]
    },
    {
     "name": "stderr",
     "output_type": "stream",
     "text": [
      "Fine-tuning epoch 8 (top 20 samples): 100%|██████████| 212/212 [00:13<00:00, 15.30it/s]\n"
     ]
    },
    {
     "name": "stdout",
     "output_type": "stream",
     "text": [
      "Finetune Epoch 8: Loss = 0.2396055467707931\n"
     ]
    },
    {
     "name": "stderr",
     "output_type": "stream",
     "text": [
      "Fine-tuning epoch 9 (top 20 samples): 100%|██████████| 212/212 [00:13<00:00, 15.39it/s]\n"
     ]
    },
    {
     "name": "stdout",
     "output_type": "stream",
     "text": [
      "Finetune Epoch 9: Loss = 0.20512117645791117\n"
     ]
    },
    {
     "name": "stderr",
     "output_type": "stream",
     "text": [
      "Fine-tuning epoch 10 (top 20 samples): 100%|██████████| 212/212 [00:13<00:00, 15.28it/s]\n"
     ]
    },
    {
     "name": "stdout",
     "output_type": "stream",
     "text": [
      "Finetune Epoch 10: Loss = 0.17890261918446929\n",
      "Test Metrics for top 20:\n",
      "MSE: 0.48702277617973233, RMSE: 0.6978701714357279, MAE: 0.5320081275067337, R²: 0.6540983527854858\n"
     ]
    },
    {
     "data": {
      "image/png": "[encoded data removed]",
      "text/plain": [
       "<Figure size 640x480 with 1 Axes>"
      ]
     },
     "metadata": {},
     "output_type": "display_data"
    }
   ],
   "source": [
    "import torch\n",
    "import torch.nn as nn\n",
    "import torch.optim as optim\n",
    "from tqdm import tqdm\n",
    "import wandb\n",
    "import numpy as np\n",
    "import matplotlib.pyplot as plt\n",
    "from sklearn.metrics import mean_squared_error, mean_absolute_error, r2_score\n",
    "\n",
    "def initialize_model_and_optimizer():\n",
    "    base_model = AutoModelForMaskedLM.from_pretrained(MODEL_NAME, trust_remote_code=True).to(device)\n",
    "    regression_model = MoLFormerWithRegressionHead(base_model, hidden_dim=2362).to(device)\n",
    "\n",
    "    optimizer = torch.optim.AdamW(regression_model.parameters(), lr=2e-5)\n",
    "\n",
    "    return regression_model, optimizer\n",
    "\n",
    "# Hyperparameters\n",
    "finetune_epochs = 10\n",
    "learning_rate = 2e-5\n",
    "\n",
    "top_k_values = [100, 80, 60, 40, 20]  # Step sizes of 20\n",
    "test_metrics = []\n",
    "\n",
    "wandb.init(project=\"NNTI_Project_v2\", name=\"Regression_FT_with_Selected_Data\", reinit=True)\n",
    "\n",
    "for top_k in top_k_values:\n",
    "    print(f\"Starting training with top {top_k} external samples...\")\n",
    "\n",
    "    regression_model, finetune_optimizer = initialize_model_and_optimizer()\n",
    "\n",
    "    influence_scores_np = np.array(influence_scores)\n",
    "    topk_indices = np.argsort(influence_scores_np)[-top_k:]\n",
    "\n",
    "    selected_external_data = []\n",
    "    for idx in topk_indices:\n",
    "        selected_external_data.append(external_dataset[idx])\n",
    "\n",
    "    combined_train_data = train_dataset.get_data() + selected_external_data\n",
    "    combined_train_loader = DataLoader(combined_train_data, batch_size=16, shuffle=True)\n",
    "\n",
    "    for epoch in range(finetune_epochs):\n",
    "        regression_model.train()\n",
    "        total_loss = 0\n",
    "\n",
    "        for batch in tqdm(combined_train_loader, desc=f\"Fine-tuning epoch {epoch+1} (top {top_k} samples)\"):\n",
    "            input_ids = batch[\"input_ids\"].to(device)\n",
    "            attention_mask = batch[\"attention_mask\"].to(device)\n",
    "            targets = batch[\"target\"].to(device).unsqueeze(1)\n",
    "\n",
    "            finetune_optimizer.zero_grad()\n",
    "\n",
    "            outputs = regression_model(input_ids, attention_mask)\n",
    "\n",
    "            loss = nn.MSELoss()(outputs, targets)\n",
    "\n",
    "            loss.backward()\n",
    "\n",
    "            finetune_optimizer.step()\n",
    "\n",
    "            total_loss += loss.item()\n",
    "\n",
    "        print(f\"Finetune Epoch {epoch+1}: Loss = {total_loss/len(combined_train_loader)}\")\n",
    "        wandb.log({\"finetune_epoch_loss\": total_loss/len(combined_train_loader)})\n",
    "\n",
    "    regression_model.eval()\n",
    "    predictions = []\n",
    "    actuals = []\n",
    "\n",
    "    with torch.no_grad():\n",
    "        for batch in test_loader:\n",
    "            input_ids = batch[\"input_ids\"].to(device)\n",
    "            attention_mask = batch[\"attention_mask\"].to(device)\n",
    "            targets = batch[\"target\"].to(device)\n",
    "\n",
    "            outputs = regression_model(input_ids, attention_mask).squeeze(1)\n",
    "            predictions.extend(outputs.cpu().numpy())\n",
    "            actuals.extend(targets.cpu().numpy())\n",
    "\n",
    "    mse = mean_squared_error(actuals, predictions)\n",
    "    rmse = np.sqrt(mse)\n",
    "    mae = mean_absolute_error(actuals, predictions)\n",
    "    r2 = r2_score(actuals, predictions)\n",
    "\n",
    "    print(f\"Test Metrics for top {top_k}:\")\n",
    "    print(f\"MSE: {mse}, RMSE: {rmse}, MAE: {mae}, R²: {r2}\")\n",
    "\n",
    "    wandb.log({\"test_mse\": mse, \"test_rmse\": rmse, \"test_mae\": mae, \"test_r2\": r2})\n",
    "\n",
    "    test_metrics.append({\"top_k\": top_k, \"mse\": mse, \"rmse\": rmse, \"mae\": mae, \"r2\": r2})\n",
    "\n",
    "top_k_values = [metric[\"top_k\"] for metric in test_metrics]\n",
    "rmse_values = [metric[\"rmse\"] for metric in test_metrics]\n",
    "\n",
    "plt.plot(top_k_values, rmse_values, marker=\"o\", label=\"RMSE\")\n",
    "plt.xlabel(\"Number of Top External Samples (top_k)\")\n",
    "plt.ylabel(\"RMSE\")\n",
    "plt.title(\"Test RMSE vs Number of Top External Samples\")\n",
    "plt.grid(True)\n",
    "plt.legend()\n",
    "plt.show()\n"
   ]
  },
  {
   "cell_type": "code",
   "execution_count": null,
   "metadata": {
    "id": "mx7qMB3Xkx-y"
   },
   "outputs": [],
   "source": []
  }
 ],
 "metadata": {
  "accelerator": "GPU",
  "colab": {
   "authorship_tag": "ABX9TyM4vHow7RLMQIqZCzcjjllO",
   "gpuType": "A100",
   "machine_shape": "hm",
   "provenance": []
  },
  "kernelspec": {
   "display_name": "Python 3",
   "name": "python3"
  },
  "language_info": {
   "name": "python"
  },
  "widgets": {
   "application/vnd.jupyter.widget-state+json": {
    "009458f3e8e84decaf1a30f52fe82820": {
     "model_module": "@jupyter-widgets/base",
     "model_module_version": "1.2.0",
     "model_name": "LayoutModel",
     "state": {
      "_model_module": "@jupyter-widgets/base",
      "_model_module_version": "1.2.0",
      "_model_name": "LayoutModel",
      "_view_count": null,
      "_view_module": "@jupyter-widgets/base",
      "_view_module_version": "1.2.0",
      "_view_name": "LayoutView",
      "align_content": null,
      "align_items": null,
      "align_self": null,
      "border": null,
      "bottom": null,
      "display": null,
      "flex": null,
      "flex_flow": null,
      "grid_area": null,
      "grid_auto_columns": null,
      "grid_auto_flow": null,
      "grid_auto_rows": null,
      "grid_column": null,
      "grid_gap": null,
      "grid_row": null,
      "grid_template_areas": null,
      "grid_template_columns": null,
      "grid_template_rows": null,
      "height": null,
      "justify_content": null,
      "justify_items": null,
      "left": null,
      "margin": null,
      "max_height": null,
      "max_width": null,
      "min_height": null,
      "min_width": null,
      "object_fit": null,
      "object_position": null,
      "order": null,
      "overflow": null,
      "overflow_x": null,
      "overflow_y": null,
      "padding": null,
      "right": null,
      "top": null,
      "visibility": null,
      "width": null
     }
    },
    "01f9fb794c8b4240bf776ce937446521": {
     "model_module": "@jupyter-widgets/base",
     "model_module_version": "1.2.0",
     "model_name": "LayoutModel",
     "state": {
      "_model_module": "@jupyter-widgets/base",
      "_model_module_version": "1.2.0",
      "_model_name": "LayoutModel",
      "_view_count": null,
      "_view_module": "@jupyter-widgets/base",
      "_view_module_version": "1.2.0",
      "_view_name": "LayoutView",
      "align_content": null,
      "align_items": null,
      "align_self": null,
      "border": null,
      "bottom": null,
      "display": null,
      "flex": null,
      "flex_flow": null,
      "grid_area": null,
      "grid_auto_columns": null,
      "grid_auto_flow": null,
      "grid_auto_rows": null,
      "grid_column": null,
      "grid_gap": null,
      "grid_row": null,
      "grid_template_areas": null,
      "grid_template_columns": null,
      "grid_template_rows": null,
      "height": null,
      "justify_content": null,
      "justify_items": null,
      "left": null,
      "margin": null,
      "max_height": null,
      "max_width": null,
      "min_height": null,
      "min_width": null,
      "object_fit": null,
      "object_position": null,
      "order": null,
      "overflow": null,
      "overflow_x": null,
      "overflow_y": null,
      "padding": null,
      "right": null,
      "top": null,
      "visibility": null,
      "width": null
     }
    },
    "025e3cd752334f63af3436ee3736f392": {
     "model_module": "@jupyter-widgets/base",
     "model_module_version": "1.2.0",
     "model_name": "LayoutModel",
     "state": {
      "_model_module": "@jupyter-widgets/base",
      "_model_module_version": "1.2.0",
      "_model_name": "LayoutModel",
      "_view_count": null,
      "_view_module": "@jupyter-widgets/base",
      "_view_module_version": "1.2.0",
      "_view_name": "LayoutView",
      "align_content": null,
      "align_items": null,
      "align_self": null,
      "border": null,
      "bottom": null,
      "display": null,
      "flex": null,
      "flex_flow": null,
      "grid_area": null,
      "grid_auto_columns": null,
      "grid_auto_flow": null,
      "grid_auto_rows": null,
      "grid_column": null,
      "grid_gap": null,
      "grid_row": null,
      "grid_template_areas": null,
      "grid_template_columns": null,
      "grid_template_rows": null,
      "height": null,
      "justify_content": null,
      "justify_items": null,
      "left": null,
      "margin": null,
      "max_height": null,
      "max_width": null,
      "min_height": null,
      "min_width": null,
      "object_fit": null,
      "object_position": null,
      "order": null,
      "overflow": null,
      "overflow_x": null,
      "overflow_y": null,
      "padding": null,
      "right": null,
      "top": null,
      "visibility": null,
      "width": null
     }
    },
    "0877890f4c164f94846c24ee292da1d4": {
     "model_module": "@jupyter-widgets/controls",
     "model_module_version": "1.5.0",
     "model_name": "HTMLModel",
     "state": {
      "_dom_classes": [],
      "_model_module": "@jupyter-widgets/controls",
      "_model_module_version": "1.5.0",
      "_model_name": "HTMLModel",
      "_view_count": null,
      "_view_module": "@jupyter-widgets/controls",
      "_view_module_version": "1.5.0",
      "_view_name": "HTMLView",
      "description": "",
      "description_tooltip": null,
      "layout": "IPY_MODEL_009458f3e8e84decaf1a30f52fe82820",
      "placeholder": "​",
      "style": "IPY_MODEL_825e3456bd374981993035b60b8f1c2e",
      "value": " 1.29k/1.29k [00:00&lt;00:00, 154kB/s]"
     }
    },
    "098be36d040f4db7b6f1faef8f8744af": {
     "model_module": "@jupyter-widgets/base",
     "model_module_version": "1.2.0",
     "model_name": "LayoutModel",
     "state": {
      "_model_module": "@jupyter-widgets/base",
      "_model_module_version": "1.2.0",
      "_model_name": "LayoutModel",
      "_view_count": null,
      "_view_module": "@jupyter-widgets/base",
      "_view_module_version": "1.2.0",
      "_view_name": "LayoutView",
      "align_content": null,
      "align_items": null,
      "align_self": null,
      "border": null,
      "bottom": null,
      "display": null,
      "flex": null,
      "flex_flow": null,
      "grid_area": null,
      "grid_auto_columns": null,
      "grid_auto_flow": null,
      "grid_auto_rows": null,
      "grid_column": null,
      "grid_gap": null,
      "grid_row": null,
      "grid_template_areas": null,
      "grid_template_columns": null,
      "grid_template_rows": null,
      "height": null,
      "justify_content": null,
      "justify_items": null,
      "left": null,
      "margin": null,
      "max_height": null,
      "max_width": null,
      "min_height": null,
      "min_width": null,
      "object_fit": null,
      "object_position": null,
      "order": null,
      "overflow": null,
      "overflow_x": null,
      "overflow_y": null,
      "padding": null,
      "right": null,
      "top": null,
      "visibility": null,
      "width": null
     }
    },
    "09c579b75cd44e2c899395d08b7733a8": {
     "model_module": "@jupyter-widgets/controls",
     "model_module_version": "1.5.0",
     "model_name": "HBoxModel",
     "state": {
      "_dom_classes": [],
      "_model_module": "@jupyter-widgets/controls",
      "_model_module_version": "1.5.0",
      "_model_name": "HBoxModel",
      "_view_count": null,
      "_view_module": "@jupyter-widgets/controls",
      "_view_module_version": "1.5.0",
      "_view_name": "HBoxView",
      "box_style": "",
      "children": [
       "IPY_MODEL_6526715821a64febb6e69c7b10d511c6",
       "IPY_MODEL_f71b92e278914755af6d1db63cbf5684",
       "IPY_MODEL_f8c3867e280c4628b6fb1eeebd1d10c4"
      ],
      "layout": "IPY_MODEL_6c682fa4ccca47f998e4d1f9184edeba"
     }
    },
    "0a7aae523d6c4b59a944d508e593ae46": {
     "model_module": "@jupyter-widgets/base",
     "model_module_version": "1.2.0",
     "model_name": "LayoutModel",
     "state": {
      "_model_module": "@jupyter-widgets/base",
      "_model_module_version": "1.2.0",
      "_model_name": "LayoutModel",
      "_view_count": null,
      "_view_module": "@jupyter-widgets/base",
      "_view_module_version": "1.2.0",
      "_view_name": "LayoutView",
      "align_content": null,
      "align_items": null,
      "align_self": null,
      "border": null,
      "bottom": null,
      "display": null,
      "flex": null,
      "flex_flow": null,
      "grid_area": null,
      "grid_auto_columns": null,
      "grid_auto_flow": null,
      "grid_auto_rows": null,
      "grid_column": null,
      "grid_gap": null,
      "grid_row": null,
      "grid_template_areas": null,
      "grid_template_columns": null,
      "grid_template_rows": null,
      "height": null,
      "justify_content": null,
      "justify_items": null,
      "left": null,
      "margin": null,
      "max_height": null,
      "max_width": null,
      "min_height": null,
      "min_width": null,
      "object_fit": null,
      "object_position": null,
      "order": null,
      "overflow": null,
      "overflow_x": null,
      "overflow_y": null,
      "padding": null,
      "right": null,
      "top": null,
      "visibility": null,
      "width": null
     }
    },
    "0c00e8d7ef0349ca82dacded78d5162e": {
     "model_module": "@jupyter-widgets/controls",
     "model_module_version": "1.5.0",
     "model_name": "ProgressStyleModel",
     "state": {
      "_model_module": "@jupyter-widgets/controls",
      "_model_module_version": "1.5.0",
      "_model_name": "ProgressStyleModel",
      "_view_count": null,
      "_view_module": "@jupyter-widgets/base",
      "_view_module_version": "1.2.0",
      "_view_name": "StyleView",
      "bar_color": null,
      "description_width": ""
     }
    },
    "0c8a610ca7f34e69a72f06fa541cb453": {
     "model_module": "@jupyter-widgets/base",
     "model_module_version": "1.2.0",
     "model_name": "LayoutModel",
     "state": {
      "_model_module": "@jupyter-widgets/base",
      "_model_module_version": "1.2.0",
      "_model_name": "LayoutModel",
      "_view_count": null,
      "_view_module": "@jupyter-widgets/base",
      "_view_module_version": "1.2.0",
      "_view_name": "LayoutView",
      "align_content": null,
      "align_items": null,
      "align_self": null,
      "border": null,
      "bottom": null,
      "display": null,
      "flex": null,
      "flex_flow": null,
      "grid_area": null,
      "grid_auto_columns": null,
      "grid_auto_flow": null,
      "grid_auto_rows": null,
      "grid_column": null,
      "grid_gap": null,
      "grid_row": null,
      "grid_template_areas": null,
      "grid_template_columns": null,
      "grid_template_rows": null,
      "height": null,
      "justify_content": null,
      "justify_items": null,
      "left": null,
      "margin": null,
      "max_height": null,
      "max_width": null,
      "min_height": null,
      "min_width": null,
      "object_fit": null,
      "object_position": null,
      "order": null,
      "overflow": null,
      "overflow_x": null,
      "overflow_y": null,
      "padding": null,
      "right": null,
      "top": null,
      "visibility": null,
      "width": null
     }
    },
    "0d4e3fd054cc4a058f475d8cbb92998a": {
     "model_module": "@jupyter-widgets/controls",
     "model_module_version": "1.5.0",
     "model_name": "HBoxModel",
     "state": {
      "_dom_classes": [],
      "_model_module": "@jupyter-widgets/controls",
      "_model_module_version": "1.5.0",
      "_model_name": "HBoxModel",
      "_view_count": null,
      "_view_module": "@jupyter-widgets/controls",
      "_view_module_version": "1.5.0",
      "_view_name": "HBoxView",
      "box_style": "",
      "children": [
       "IPY_MODEL_713e869126f849f385c47a1d674e676d",
       "IPY_MODEL_ff29784105a240dd90bba5f70dea6c74",
       "IPY_MODEL_da5ba5a32d49489482f2c975b3ecf3eb"
      ],
      "layout": "IPY_MODEL_7f4852dcfa754ac0bc01cf574244e02a"
     }
    },
    "0e1f64b2a6094798b12316979d96526f": {
     "model_module": "@jupyter-widgets/base",
     "model_module_version": "1.2.0",
     "model_name": "LayoutModel",
     "state": {
      "_model_module": "@jupyter-widgets/base",
      "_model_module_version": "1.2.0",
      "_model_name": "LayoutModel",
      "_view_count": null,
      "_view_module": "@jupyter-widgets/base",
      "_view_module_version": "1.2.0",
      "_view_name": "LayoutView",
      "align_content": null,
      "align_items": null,
      "align_self": null,
      "border": null,
      "bottom": null,
      "display": null,
      "flex": null,
      "flex_flow": null,
      "grid_area": null,
      "grid_auto_columns": null,
      "grid_auto_flow": null,
      "grid_auto_rows": null,
      "grid_column": null,
      "grid_gap": null,
      "grid_row": null,
      "grid_template_areas": null,
      "grid_template_columns": null,
      "grid_template_rows": null,
      "height": null,
      "justify_content": null,
      "justify_items": null,
      "left": null,
      "margin": null,
      "max_height": null,
      "max_width": null,
      "min_height": null,
      "min_width": null,
      "object_fit": null,
      "object_position": null,
      "order": null,
      "overflow": null,
      "overflow_x": null,
      "overflow_y": null,
      "padding": null,
      "right": null,
      "top": null,
      "visibility": null,
      "width": null
     }
    },
    "10878c5135514a639b19770b859a8066": {
     "model_module": "@jupyter-widgets/controls",
     "model_module_version": "1.5.0",
     "model_name": "HBoxModel",
     "state": {
      "_dom_classes": [],
      "_model_module": "@jupyter-widgets/controls",
      "_model_module_version": "1.5.0",
      "_model_name": "HBoxModel",
      "_view_count": null,
      "_view_module": "@jupyter-widgets/controls",
      "_view_module_version": "1.5.0",
      "_view_name": "HBoxView",
      "box_style": "",
      "children": [
       "IPY_MODEL_f658286b2ab34b66937f9853feade7d0",
       "IPY_MODEL_a3002a17124f48b4be7fd3d26b69e513",
       "IPY_MODEL_0877890f4c164f94846c24ee292da1d4"
      ],
      "layout": "IPY_MODEL_7929c6408da14e9187b688186f5fa5c3"
     }
    },
    "10b0c4a173644eb49bc5ef31e8f7c41f": {
     "model_module": "@jupyter-widgets/controls",
     "model_module_version": "1.5.0",
     "model_name": "HTMLModel",
     "state": {
      "_dom_classes": [],
      "_model_module": "@jupyter-widgets/controls",
      "_model_module_version": "1.5.0",
      "_model_name": "HTMLModel",
      "_view_count": null,
      "_view_module": "@jupyter-widgets/controls",
      "_view_module_version": "1.5.0",
      "_view_name": "HTMLView",
      "description": "",
      "description_tooltip": null,
      "layout": "IPY_MODEL_c583df64cf754f70ac6e1ff4c3768522",
      "placeholder": "​",
      "style": "IPY_MODEL_25b5cb9c405b4d0881f1fbeb26cb9293",
      "value": "special_tokens_map.json: 100%"
     }
    },
    "121e673b9bca45e8b966f7b6d9b4c013": {
     "model_module": "@jupyter-widgets/base",
     "model_module_version": "1.2.0",
     "model_name": "LayoutModel",
     "state": {
      "_model_module": "@jupyter-widgets/base",
      "_model_module_version": "1.2.0",
      "_model_name": "LayoutModel",
      "_view_count": null,
      "_view_module": "@jupyter-widgets/base",
      "_view_module_version": "1.2.0",
      "_view_name": "LayoutView",
      "align_content": null,
      "align_items": null,
      "align_self": null,
      "border": null,
      "bottom": null,
      "display": null,
      "flex": null,
      "flex_flow": null,
      "grid_area": null,
      "grid_auto_columns": null,
      "grid_auto_flow": null,
      "grid_auto_rows": null,
      "grid_column": null,
      "grid_gap": null,
      "grid_row": null,
      "grid_template_areas": null,
      "grid_template_columns": null,
      "grid_template_rows": null,
      "height": null,
      "justify_content": null,
      "justify_items": null,
      "left": null,
      "margin": null,
      "max_height": null,
      "max_width": null,
      "min_height": null,
      "min_width": null,
      "object_fit": null,
      "object_position": null,
      "order": null,
      "overflow": null,
      "overflow_x": null,
      "overflow_y": null,
      "padding": null,
      "right": null,
      "top": null,
      "visibility": null,
      "width": null
     }
    },
    "15a5a420a4a54f7394f4cc1036b05692": {
     "model_module": "@jupyter-widgets/base",
     "model_module_version": "1.2.0",
     "model_name": "LayoutModel",
     "state": {
      "_model_module": "@jupyter-widgets/base",
      "_model_module_version": "1.2.0",
      "_model_name": "LayoutModel",
      "_view_count": null,
      "_view_module": "@jupyter-widgets/base",
      "_view_module_version": "1.2.0",
      "_view_name": "LayoutView",
      "align_content": null,
      "align_items": null,
      "align_self": null,
      "border": null,
      "bottom": null,
      "display": null,
      "flex": null,
      "flex_flow": null,
      "grid_area": null,
      "grid_auto_columns": null,
      "grid_auto_flow": null,
      "grid_auto_rows": null,
      "grid_column": null,
      "grid_gap": null,
      "grid_row": null,
      "grid_template_areas": null,
      "grid_template_columns": null,
      "grid_template_rows": null,
      "height": null,
      "justify_content": null,
      "justify_items": null,
      "left": null,
      "margin": null,
      "max_height": null,
      "max_width": null,
      "min_height": null,
      "min_width": null,
      "object_fit": null,
      "object_position": null,
      "order": null,
      "overflow": null,
      "overflow_x": null,
      "overflow_y": null,
      "padding": null,
      "right": null,
      "top": null,
      "visibility": null,
      "width": null
     }
    },
    "15bfdef3ea7841968aeb1aacbd976c90": {
     "model_module": "@jupyter-widgets/controls",
     "model_module_version": "1.5.0",
     "model_name": "DescriptionStyleModel",
     "state": {
      "_model_module": "@jupyter-widgets/controls",
      "_model_module_version": "1.5.0",
      "_model_name": "DescriptionStyleModel",
      "_view_count": null,
      "_view_module": "@jupyter-widgets/base",
      "_view_module_version": "1.2.0",
      "_view_name": "StyleView",
      "description_width": ""
     }
    },
    "19148690a5bf4a2c9a7709553f9871d4": {
     "model_module": "@jupyter-widgets/controls",
     "model_module_version": "1.5.0",
     "model_name": "DescriptionStyleModel",
     "state": {
      "_model_module": "@jupyter-widgets/controls",
      "_model_module_version": "1.5.0",
      "_model_name": "DescriptionStyleModel",
      "_view_count": null,
      "_view_module": "@jupyter-widgets/base",
      "_view_module_version": "1.2.0",
      "_view_name": "StyleView",
      "description_width": ""
     }
    },
    "1aa53c3c1b554f3dada59759390da905": {
     "model_module": "@jupyter-widgets/base",
     "model_module_version": "1.2.0",
     "model_name": "LayoutModel",
     "state": {
      "_model_module": "@jupyter-widgets/base",
      "_model_module_version": "1.2.0",
      "_model_name": "LayoutModel",
      "_view_count": null,
      "_view_module": "@jupyter-widgets/base",
      "_view_module_version": "1.2.0",
      "_view_name": "LayoutView",
      "align_content": null,
      "align_items": null,
      "align_self": null,
      "border": null,
      "bottom": null,
      "display": null,
      "flex": null,
      "flex_flow": null,
      "grid_area": null,
      "grid_auto_columns": null,
      "grid_auto_flow": null,
      "grid_auto_rows": null,
      "grid_column": null,
      "grid_gap": null,
      "grid_row": null,
      "grid_template_areas": null,
      "grid_template_columns": null,
      "grid_template_rows": null,
      "height": null,
      "justify_content": null,
      "justify_items": null,
      "left": null,
      "margin": null,
      "max_height": null,
      "max_width": null,
      "min_height": null,
      "min_width": null,
      "object_fit": null,
      "object_position": null,
      "order": null,
      "overflow": null,
      "overflow_x": null,
      "overflow_y": null,
      "padding": null,
      "right": null,
      "top": null,
      "visibility": null,
      "width": null
     }
    },
    "1aafa9ebf7f14bdab7cace440de3735e": {
     "model_module": "@jupyter-widgets/controls",
     "model_module_version": "1.5.0",
     "model_name": "ProgressStyleModel",
     "state": {
      "_model_module": "@jupyter-widgets/controls",
      "_model_module_version": "1.5.0",
      "_model_name": "ProgressStyleModel",
      "_view_count": null,
      "_view_module": "@jupyter-widgets/base",
      "_view_module_version": "1.2.0",
      "_view_name": "StyleView",
      "bar_color": null,
      "description_width": ""
     }
    },
    "1abcab6945f54f16998120492a053e03": {
     "model_module": "@jupyter-widgets/base",
     "model_module_version": "1.2.0",
     "model_name": "LayoutModel",
     "state": {
      "_model_module": "@jupyter-widgets/base",
      "_model_module_version": "1.2.0",
      "_model_name": "LayoutModel",
      "_view_count": null,
      "_view_module": "@jupyter-widgets/base",
      "_view_module_version": "1.2.0",
      "_view_name": "LayoutView",
      "align_content": null,
      "align_items": null,
      "align_self": null,
      "border": null,
      "bottom": null,
      "display": null,
      "flex": null,
      "flex_flow": null,
      "grid_area": null,
      "grid_auto_columns": null,
      "grid_auto_flow": null,
      "grid_auto_rows": null,
      "grid_column": null,
      "grid_gap": null,
      "grid_row": null,
      "grid_template_areas": null,
      "grid_template_columns": null,
      "grid_template_rows": null,
      "height": null,
      "justify_content": null,
      "justify_items": null,
      "left": null,
      "margin": null,
      "max_height": null,
      "max_width": null,
      "min_height": null,
      "min_width": null,
      "object_fit": null,
      "object_position": null,
      "order": null,
      "overflow": null,
      "overflow_x": null,
      "overflow_y": null,
      "padding": null,
      "right": null,
      "top": null,
      "visibility": null,
      "width": null
     }
    },
    "1b64d0428be9452d9715410812b382c0": {
     "model_module": "@jupyter-widgets/controls",
     "model_module_version": "1.5.0",
     "model_name": "HTMLModel",
     "state": {
      "_dom_classes": [],
      "_model_module": "@jupyter-widgets/controls",
      "_model_module_version": "1.5.0",
      "_model_name": "HTMLModel",
      "_view_count": null,
      "_view_module": "@jupyter-widgets/controls",
      "_view_module_version": "1.5.0",
      "_view_name": "HTMLView",
      "description": "",
      "description_tooltip": null,
      "layout": "IPY_MODEL_5bb0f0667eed42b1bdbb857bb81b5668",
      "placeholder": "​",
      "style": "IPY_MODEL_2dd76b5926364855aa77d5ae07724944",
      "value": "config.json: 100%"
     }
    },
    "1bfec3ce1ace4bb69d29043735d25048": {
     "model_module": "@jupyter-widgets/controls",
     "model_module_version": "1.5.0",
     "model_name": "ProgressStyleModel",
     "state": {
      "_model_module": "@jupyter-widgets/controls",
      "_model_module_version": "1.5.0",
      "_model_name": "ProgressStyleModel",
      "_view_count": null,
      "_view_module": "@jupyter-widgets/base",
      "_view_module_version": "1.2.0",
      "_view_name": "StyleView",
      "bar_color": null,
      "description_width": ""
     }
    },
    "22ac07b695a64542ac7ee7b12693da93": {
     "model_module": "@jupyter-widgets/base",
     "model_module_version": "1.2.0",
     "model_name": "LayoutModel",
     "state": {
      "_model_module": "@jupyter-widgets/base",
      "_model_module_version": "1.2.0",
      "_model_name": "LayoutModel",
      "_view_count": null,
      "_view_module": "@jupyter-widgets/base",
      "_view_module_version": "1.2.0",
      "_view_name": "LayoutView",
      "align_content": null,
      "align_items": null,
      "align_self": null,
      "border": null,
      "bottom": null,
      "display": null,
      "flex": null,
      "flex_flow": null,
      "grid_area": null,
      "grid_auto_columns": null,
      "grid_auto_flow": null,
      "grid_auto_rows": null,
      "grid_column": null,
      "grid_gap": null,
      "grid_row": null,
      "grid_template_areas": null,
      "grid_template_columns": null,
      "grid_template_rows": null,
      "height": null,
      "justify_content": null,
      "justify_items": null,
      "left": null,
      "margin": null,
      "max_height": null,
      "max_width": null,
      "min_height": null,
      "min_width": null,
      "object_fit": null,
      "object_position": null,
      "order": null,
      "overflow": null,
      "overflow_x": null,
      "overflow_y": null,
      "padding": null,
      "right": null,
      "top": null,
      "visibility": null,
      "width": null
     }
    },
    "2494a75a237744f892ab86aca2c62910": {
     "model_module": "@jupyter-widgets/base",
     "model_module_version": "1.2.0",
     "model_name": "LayoutModel",
     "state": {
      "_model_module": "@jupyter-widgets/base",
      "_model_module_version": "1.2.0",
      "_model_name": "LayoutModel",
      "_view_count": null,
      "_view_module": "@jupyter-widgets/base",
      "_view_module_version": "1.2.0",
      "_view_name": "LayoutView",
      "align_content": null,
      "align_items": null,
      "align_self": null,
      "border": null,
      "bottom": null,
      "display": null,
      "flex": null,
      "flex_flow": null,
      "grid_area": null,
      "grid_auto_columns": null,
      "grid_auto_flow": null,
      "grid_auto_rows": null,
      "grid_column": null,
      "grid_gap": null,
      "grid_row": null,
      "grid_template_areas": null,
      "grid_template_columns": null,
      "grid_template_rows": null,
      "height": null,
      "justify_content": null,
      "justify_items": null,
      "left": null,
      "margin": null,
      "max_height": null,
      "max_width": null,
      "min_height": null,
      "min_width": null,
      "object_fit": null,
      "object_position": null,
      "order": null,
      "overflow": null,
      "overflow_x": null,
      "overflow_y": null,
      "padding": null,
      "right": null,
      "top": null,
      "visibility": null,
      "width": null
     }
    },
    "24fb67edd2294e44bd36ded4dd5b530b": {
     "model_module": "@jupyter-widgets/controls",
     "model_module_version": "1.5.0",
     "model_name": "ProgressStyleModel",
     "state": {
      "_model_module": "@jupyter-widgets/controls",
      "_model_module_version": "1.5.0",
      "_model_name": "ProgressStyleModel",
      "_view_count": null,
      "_view_module": "@jupyter-widgets/base",
      "_view_module_version": "1.2.0",
      "_view_name": "StyleView",
      "bar_color": null,
      "description_width": ""
     }
    },
    "25b5cb9c405b4d0881f1fbeb26cb9293": {
     "model_module": "@jupyter-widgets/controls",
     "model_module_version": "1.5.0",
     "model_name": "DescriptionStyleModel",
     "state": {
      "_model_module": "@jupyter-widgets/controls",
      "_model_module_version": "1.5.0",
      "_model_name": "DescriptionStyleModel",
      "_view_count": null,
      "_view_module": "@jupyter-widgets/base",
      "_view_module_version": "1.2.0",
      "_view_name": "StyleView",
      "description_width": ""
     }
    },
    "2636853b245543828a1774d39a5194f3": {
     "model_module": "@jupyter-widgets/controls",
     "model_module_version": "1.5.0",
     "model_name": "FloatProgressModel",
     "state": {
      "_dom_classes": [],
      "_model_module": "@jupyter-widgets/controls",
      "_model_module_version": "1.5.0",
      "_model_name": "FloatProgressModel",
      "_view_count": null,
      "_view_module": "@jupyter-widgets/controls",
      "_view_module_version": "1.5.0",
      "_view_name": "ProgressView",
      "bar_style": "success",
      "description": "",
      "description_tooltip": null,
      "layout": "IPY_MODEL_28fd8dc1d4b04a2a81d3dae8b30fecf3",
      "max": 7601,
      "min": 0,
      "orientation": "horizontal",
      "style": "IPY_MODEL_9cc1e78c45ea4b419fa8464927d20db9",
      "value": 7601
     }
    },
    "27bea789f9884143a939a3c47cd8c485": {
     "model_module": "@jupyter-widgets/controls",
     "model_module_version": "1.5.0",
     "model_name": "FloatProgressModel",
     "state": {
      "_dom_classes": [],
      "_model_module": "@jupyter-widgets/controls",
      "_model_module_version": "1.5.0",
      "_model_name": "FloatProgressModel",
      "_view_count": null,
      "_view_module": "@jupyter-widgets/controls",
      "_view_module_version": "1.5.0",
      "_view_name": "ProgressView",
      "bar_style": "success",
      "description": "",
      "description_tooltip": null,
      "layout": "IPY_MODEL_4fdc08f0e3c54fbdbdcd3a4a11ed2452",
      "max": 1015,
      "min": 0,
      "orientation": "horizontal",
      "style": "IPY_MODEL_cae1fc4eba6e4257b7b5bc290fde7d6e",
      "value": 1015
     }
    },
    "28fd8dc1d4b04a2a81d3dae8b30fecf3": {
     "model_module": "@jupyter-widgets/base",
     "model_module_version": "1.2.0",
     "model_name": "LayoutModel",
     "state": {
      "_model_module": "@jupyter-widgets/base",
      "_model_module_version": "1.2.0",
      "_model_name": "LayoutModel",
      "_view_count": null,
      "_view_module": "@jupyter-widgets/base",
      "_view_module_version": "1.2.0",
      "_view_name": "LayoutView",
      "align_content": null,
      "align_items": null,
      "align_self": null,
      "border": null,
      "bottom": null,
      "display": null,
      "flex": null,
      "flex_flow": null,
      "grid_area": null,
      "grid_auto_columns": null,
      "grid_auto_flow": null,
      "grid_auto_rows": null,
      "grid_column": null,
      "grid_gap": null,
      "grid_row": null,
      "grid_template_areas": null,
      "grid_template_columns": null,
      "grid_template_rows": null,
      "height": null,
      "justify_content": null,
      "justify_items": null,
      "left": null,
      "margin": null,
      "max_height": null,
      "max_width": null,
      "min_height": null,
      "min_width": null,
      "object_fit": null,
      "object_position": null,
      "order": null,
      "overflow": null,
      "overflow_x": null,
      "overflow_y": null,
      "padding": null,
      "right": null,
      "top": null,
      "visibility": null,
      "width": null
     }
    },
    "29412b05c3de4a67a9047eb217e22691": {
     "model_module": "@jupyter-widgets/controls",
     "model_module_version": "1.5.0",
     "model_name": "DescriptionStyleModel",
     "state": {
      "_model_module": "@jupyter-widgets/controls",
      "_model_module_version": "1.5.0",
      "_model_name": "DescriptionStyleModel",
      "_view_count": null,
      "_view_module": "@jupyter-widgets/base",
      "_view_module_version": "1.2.0",
      "_view_name": "StyleView",
      "description_width": ""
     }
    },
    "2c87ca2c840041049ef9d67249889195": {
     "model_module": "@jupyter-widgets/controls",
     "model_module_version": "1.5.0",
     "model_name": "HBoxModel",
     "state": {
      "_dom_classes": [],
      "_model_module": "@jupyter-widgets/controls",
      "_model_module_version": "1.5.0",
      "_model_name": "HBoxModel",
      "_view_count": null,
      "_view_module": "@jupyter-widgets/controls",
      "_view_module_version": "1.5.0",
      "_view_name": "HBoxView",
      "box_style": "",
      "children": [
       "IPY_MODEL_52a28ffe498a49c09b7e7282f186b0cb",
       "IPY_MODEL_a91cf0c2d68140d79565a76e3b0916b5",
       "IPY_MODEL_61e5be5a19d14383808ee60238630849"
      ],
      "layout": "IPY_MODEL_da1c1168e84143159ea31951a3cb7ace"
     }
    },
    "2dd76b5926364855aa77d5ae07724944": {
     "model_module": "@jupyter-widgets/controls",
     "model_module_version": "1.5.0",
     "model_name": "DescriptionStyleModel",
     "state": {
      "_model_module": "@jupyter-widgets/controls",
      "_model_module_version": "1.5.0",
      "_model_name": "DescriptionStyleModel",
      "_view_count": null,
      "_view_module": "@jupyter-widgets/base",
      "_view_module_version": "1.2.0",
      "_view_name": "StyleView",
      "description_width": ""
     }
    },
    "3131d7611b9b4a44935f7c8d2f081d22": {
     "model_module": "@jupyter-widgets/controls",
     "model_module_version": "1.5.0",
     "model_name": "HTMLModel",
     "state": {
      "_dom_classes": [],
      "_model_module": "@jupyter-widgets/controls",
      "_model_module_version": "1.5.0",
      "_model_name": "HTMLModel",
      "_view_count": null,
      "_view_module": "@jupyter-widgets/controls",
      "_view_module_version": "1.5.0",
      "_view_name": "HTMLView",
      "description": "",
      "description_tooltip": null,
      "layout": "IPY_MODEL_1abcab6945f54f16998120492a053e03",
      "placeholder": "​",
      "style": "IPY_MODEL_4705e0ad7fff4feab0901cf5ae389a4c",
      "value": "README.md: 100%"
     }
    },
    "32d34fa7693f4e4a87844f8b65e5d1ec": {
     "model_module": "@jupyter-widgets/controls",
     "model_module_version": "1.5.0",
     "model_name": "HTMLModel",
     "state": {
      "_dom_classes": [],
      "_model_module": "@jupyter-widgets/controls",
      "_model_module_version": "1.5.0",
      "_model_name": "HTMLModel",
      "_view_count": null,
      "_view_module": "@jupyter-widgets/controls",
      "_view_module_version": "1.5.0",
      "_view_name": "HTMLView",
      "description": "",
      "description_tooltip": null,
      "layout": "IPY_MODEL_b19a0c105f7d4a9d9cf2b00909edfbfc",
      "placeholder": "​",
      "style": "IPY_MODEL_ed7f1dea2d21458cb2abe3b15807f4a5",
      "value": "model.safetensors: 100%"
     }
    },
    "331cdc0f8f9a4091b50006f350dabe78": {
     "model_module": "@jupyter-widgets/controls",
     "model_module_version": "1.5.0",
     "model_name": "DescriptionStyleModel",
     "state": {
      "_model_module": "@jupyter-widgets/controls",
      "_model_module_version": "1.5.0",
      "_model_name": "DescriptionStyleModel",
      "_view_count": null,
      "_view_module": "@jupyter-widgets/base",
      "_view_module_version": "1.2.0",
      "_view_name": "StyleView",
      "description_width": ""
     }
    },
    "35a56c3b1e374294b3a5acdc6dcab88b": {
     "model_module": "@jupyter-widgets/controls",
     "model_module_version": "1.5.0",
     "model_name": "HTMLModel",
     "state": {
      "_dom_classes": [],
      "_model_module": "@jupyter-widgets/controls",
      "_model_module_version": "1.5.0",
      "_model_name": "HTMLModel",
      "_view_count": null,
      "_view_module": "@jupyter-widgets/controls",
      "_view_module_version": "1.5.0",
      "_view_name": "HTMLView",
      "description": "",
      "description_tooltip": null,
      "layout": "IPY_MODEL_834988f9f2904e60ac0f9ee2699a2de0",
      "placeholder": "​",
      "style": "IPY_MODEL_331cdc0f8f9a4091b50006f350dabe78",
      "value": " 1.16k/1.16k [00:00&lt;00:00, 133kB/s]"
     }
    },
    "3673bc8efdc94854a707a89758a10c27": {
     "model_module": "@jupyter-widgets/controls",
     "model_module_version": "1.5.0",
     "model_name": "DescriptionStyleModel",
     "state": {
      "_model_module": "@jupyter-widgets/controls",
      "_model_module_version": "1.5.0",
      "_model_name": "DescriptionStyleModel",
      "_view_count": null,
      "_view_module": "@jupyter-widgets/base",
      "_view_module_version": "1.2.0",
      "_view_name": "StyleView",
      "description_width": ""
     }
    },
    "36f1e1f50f3f4873a1f596e66b034501": {
     "model_module": "@jupyter-widgets/controls",
     "model_module_version": "1.5.0",
     "model_name": "HBoxModel",
     "state": {
      "_dom_classes": [],
      "_model_module": "@jupyter-widgets/controls",
      "_model_module_version": "1.5.0",
      "_model_name": "HBoxModel",
      "_view_count": null,
      "_view_module": "@jupyter-widgets/controls",
      "_view_module_version": "1.5.0",
      "_view_name": "HBoxView",
      "box_style": "",
      "children": [
       "IPY_MODEL_48d999f8053e4b5ea3db59ebe24a2a9e",
       "IPY_MODEL_e116ae0babdb403f9b91e9860593b91a",
       "IPY_MODEL_43dcb402f13245e49c27be3d3759168e"
      ],
      "layout": "IPY_MODEL_22ac07b695a64542ac7ee7b12693da93"
     }
    },
    "412e1351ebcf46a489336b189b40fa4f": {
     "model_module": "@jupyter-widgets/base",
     "model_module_version": "1.2.0",
     "model_name": "LayoutModel",
     "state": {
      "_model_module": "@jupyter-widgets/base",
      "_model_module_version": "1.2.0",
      "_model_name": "LayoutModel",
      "_view_count": null,
      "_view_module": "@jupyter-widgets/base",
      "_view_module_version": "1.2.0",
      "_view_name": "LayoutView",
      "align_content": null,
      "align_items": null,
      "align_self": null,
      "border": null,
      "bottom": null,
      "display": null,
      "flex": null,
      "flex_flow": null,
      "grid_area": null,
      "grid_auto_columns": null,
      "grid_auto_flow": null,
      "grid_auto_rows": null,
      "grid_column": null,
      "grid_gap": null,
      "grid_row": null,
      "grid_template_areas": null,
      "grid_template_columns": null,
      "grid_template_rows": null,
      "height": null,
      "justify_content": null,
      "justify_items": null,
      "left": null,
      "margin": null,
      "max_height": null,
      "max_width": null,
      "min_height": null,
      "min_width": null,
      "object_fit": null,
      "object_position": null,
      "order": null,
      "overflow": null,
      "overflow_x": null,
      "overflow_y": null,
      "padding": null,
      "right": null,
      "top": null,
      "visibility": null,
      "width": null
     }
    },
    "41b29d5676334a0da9cf51bf7443ba12": {
     "model_module": "@jupyter-widgets/controls",
     "model_module_version": "1.5.0",
     "model_name": "FloatProgressModel",
     "state": {
      "_dom_classes": [],
      "_model_module": "@jupyter-widgets/controls",
      "_model_module_version": "1.5.0",
      "_model_name": "FloatProgressModel",
      "_view_count": null,
      "_view_module": "@jupyter-widgets/controls",
      "_view_module_version": "1.5.0",
      "_view_name": "ProgressView",
      "bar_style": "success",
      "description": "",
      "description_tooltip": null,
      "layout": "IPY_MODEL_bc138424c0c5442bb43c8bf1384e78f0",
      "max": 54010,
      "min": 0,
      "orientation": "horizontal",
      "style": "IPY_MODEL_1bfec3ce1ace4bb69d29043735d25048",
      "value": 54010
     }
    },
    "43dcb402f13245e49c27be3d3759168e": {
     "model_module": "@jupyter-widgets/controls",
     "model_module_version": "1.5.0",
     "model_name": "HTMLModel",
     "state": {
      "_dom_classes": [],
      "_model_module": "@jupyter-widgets/controls",
      "_model_module_version": "1.5.0",
      "_model_name": "HTMLModel",
      "_view_count": null,
      "_view_module": "@jupyter-widgets/controls",
      "_view_module_version": "1.5.0",
      "_view_name": "HTMLView",
      "description": "",
      "description_tooltip": null,
      "layout": "IPY_MODEL_8434402a3f4c42b9bad96cae5d2d9a50",
      "placeholder": "​",
      "style": "IPY_MODEL_f120a0b713e34a77a9e3451df730c2dd",
      "value": " 39.3k/39.3k [00:00&lt;00:00, 4.92MB/s]"
     }
    },
    "449f468b36494020a2bc03e0f64540ac": {
     "model_module": "@jupyter-widgets/controls",
     "model_module_version": "1.5.0",
     "model_name": "DescriptionStyleModel",
     "state": {
      "_model_module": "@jupyter-widgets/controls",
      "_model_module_version": "1.5.0",
      "_model_name": "DescriptionStyleModel",
      "_view_count": null,
      "_view_module": "@jupyter-widgets/base",
      "_view_module_version": "1.2.0",
      "_view_name": "StyleView",
      "description_width": ""
     }
    },
    "44eb359545a342f88ca4ce0b09cbe09c": {
     "model_module": "@jupyter-widgets/base",
     "model_module_version": "1.2.0",
     "model_name": "LayoutModel",
     "state": {
      "_model_module": "@jupyter-widgets/base",
      "_model_module_version": "1.2.0",
      "_model_name": "LayoutModel",
      "_view_count": null,
      "_view_module": "@jupyter-widgets/base",
      "_view_module_version": "1.2.0",
      "_view_name": "LayoutView",
      "align_content": null,
      "align_items": null,
      "align_self": null,
      "border": null,
      "bottom": null,
      "display": null,
      "flex": null,
      "flex_flow": null,
      "grid_area": null,
      "grid_auto_columns": null,
      "grid_auto_flow": null,
      "grid_auto_rows": null,
      "grid_column": null,
      "grid_gap": null,
      "grid_row": null,
      "grid_template_areas": null,
      "grid_template_columns": null,
      "grid_template_rows": null,
      "height": null,
      "justify_content": null,
      "justify_items": null,
      "left": null,
      "margin": null,
      "max_height": null,
      "max_width": null,
      "min_height": null,
      "min_width": null,
      "object_fit": null,
      "object_position": null,
      "order": null,
      "overflow": null,
      "overflow_x": null,
      "overflow_y": null,
      "padding": null,
      "right": null,
      "top": null,
      "visibility": null,
      "width": null
     }
    },
    "45cccbb320b7463494065b035be6c0ce": {
     "model_module": "@jupyter-widgets/controls",
     "model_module_version": "1.5.0",
     "model_name": "HBoxModel",
     "state": {
      "_dom_classes": [],
      "_model_module": "@jupyter-widgets/controls",
      "_model_module_version": "1.5.0",
      "_model_name": "HBoxModel",
      "_view_count": null,
      "_view_module": "@jupyter-widgets/controls",
      "_view_module_version": "1.5.0",
      "_view_name": "HBoxView",
      "box_style": "",
      "children": [
       "IPY_MODEL_10b0c4a173644eb49bc5ef31e8f7c41f",
       "IPY_MODEL_5bc1770d90e7479e8127c44c836323c9",
       "IPY_MODEL_7e11ae53ca664f1a8fbca55bcc821b8d"
      ],
      "layout": "IPY_MODEL_db0bade543474850ab4217a7c4b10fb7"
     }
    },
    "45fa85a6af9f40dc8f74413ea220c03a": {
     "model_module": "@jupyter-widgets/controls",
     "model_module_version": "1.5.0",
     "model_name": "DescriptionStyleModel",
     "state": {
      "_model_module": "@jupyter-widgets/controls",
      "_model_module_version": "1.5.0",
      "_model_name": "DescriptionStyleModel",
      "_view_count": null,
      "_view_module": "@jupyter-widgets/base",
      "_view_module_version": "1.2.0",
      "_view_name": "StyleView",
      "description_width": ""
     }
    },
    "4705e0ad7fff4feab0901cf5ae389a4c": {
     "model_module": "@jupyter-widgets/controls",
     "model_module_version": "1.5.0",
     "model_name": "DescriptionStyleModel",
     "state": {
      "_model_module": "@jupyter-widgets/controls",
      "_model_module_version": "1.5.0",
      "_model_name": "DescriptionStyleModel",
      "_view_count": null,
      "_view_module": "@jupyter-widgets/base",
      "_view_module_version": "1.2.0",
      "_view_name": "StyleView",
      "description_width": ""
     }
    },
    "48d999f8053e4b5ea3db59ebe24a2a9e": {
     "model_module": "@jupyter-widgets/controls",
     "model_module_version": "1.5.0",
     "model_name": "HTMLModel",
     "state": {
      "_dom_classes": [],
      "_model_module": "@jupyter-widgets/controls",
      "_model_module_version": "1.5.0",
      "_model_name": "HTMLModel",
      "_view_count": null,
      "_view_module": "@jupyter-widgets/controls",
      "_view_module_version": "1.5.0",
      "_view_name": "HTMLView",
      "description": "",
      "description_tooltip": null,
      "layout": "IPY_MODEL_e7283927605741e692c301ecf460f5b2",
      "placeholder": "​",
      "style": "IPY_MODEL_604a3ac0fd5d4fa3a0d2b3cd52092108",
      "value": "modeling_molformer.py: 100%"
     }
    },
    "4c699ed6ae1540c5ae83b4fa2baaf38b": {
     "model_module": "@jupyter-widgets/controls",
     "model_module_version": "1.5.0",
     "model_name": "HTMLModel",
     "state": {
      "_dom_classes": [],
      "_model_module": "@jupyter-widgets/controls",
      "_model_module_version": "1.5.0",
      "_model_name": "HTMLModel",
      "_view_count": null,
      "_view_module": "@jupyter-widgets/controls",
      "_view_module_version": "1.5.0",
      "_view_name": "HTMLView",
      "description": "",
      "description_tooltip": null,
      "layout": "IPY_MODEL_5015df883aad4299aa3005a2c99f799f",
      "placeholder": "​",
      "style": "IPY_MODEL_45fa85a6af9f40dc8f74413ea220c03a",
      "value": " 187M/187M [00:00&lt;00:00, 243MB/s]"
     }
    },
    "4fd10c57c9bf45bb83e19d67b1c18c1a": {
     "model_module": "@jupyter-widgets/controls",
     "model_module_version": "1.5.0",
     "model_name": "DescriptionStyleModel",
     "state": {
      "_model_module": "@jupyter-widgets/controls",
      "_model_module_version": "1.5.0",
      "_model_name": "DescriptionStyleModel",
      "_view_count": null,
      "_view_module": "@jupyter-widgets/base",
      "_view_module_version": "1.2.0",
      "_view_name": "StyleView",
      "description_width": ""
     }
    },
    "4fdc08f0e3c54fbdbdcd3a4a11ed2452": {
     "model_module": "@jupyter-widgets/base",
     "model_module_version": "1.2.0",
     "model_name": "LayoutModel",
     "state": {
      "_model_module": "@jupyter-widgets/base",
      "_model_module_version": "1.2.0",
      "_model_name": "LayoutModel",
      "_view_count": null,
      "_view_module": "@jupyter-widgets/base",
      "_view_module_version": "1.2.0",
      "_view_name": "LayoutView",
      "align_content": null,
      "align_items": null,
      "align_self": null,
      "border": null,
      "bottom": null,
      "display": null,
      "flex": null,
      "flex_flow": null,
      "grid_area": null,
      "grid_auto_columns": null,
      "grid_auto_flow": null,
      "grid_auto_rows": null,
      "grid_column": null,
      "grid_gap": null,
      "grid_row": null,
      "grid_template_areas": null,
      "grid_template_columns": null,
      "grid_template_rows": null,
      "height": null,
      "justify_content": null,
      "justify_items": null,
      "left": null,
      "margin": null,
      "max_height": null,
      "max_width": null,
      "min_height": null,
      "min_width": null,
      "object_fit": null,
      "object_position": null,
      "order": null,
      "overflow": null,
      "overflow_x": null,
      "overflow_y": null,
      "padding": null,
      "right": null,
      "top": null,
      "visibility": null,
      "width": null
     }
    },
    "5015df883aad4299aa3005a2c99f799f": {
     "model_module": "@jupyter-widgets/base",
     "model_module_version": "1.2.0",
     "model_name": "LayoutModel",
     "state": {
      "_model_module": "@jupyter-widgets/base",
      "_model_module_version": "1.2.0",
      "_model_name": "LayoutModel",
      "_view_count": null,
      "_view_module": "@jupyter-widgets/base",
      "_view_module_version": "1.2.0",
      "_view_name": "LayoutView",
      "align_content": null,
      "align_items": null,
      "align_self": null,
      "border": null,
      "bottom": null,
      "display": null,
      "flex": null,
      "flex_flow": null,
      "grid_area": null,
      "grid_auto_columns": null,
      "grid_auto_flow": null,
      "grid_auto_rows": null,
      "grid_column": null,
      "grid_gap": null,
      "grid_row": null,
      "grid_template_areas": null,
      "grid_template_columns": null,
      "grid_template_rows": null,
      "height": null,
      "justify_content": null,
      "justify_items": null,
      "left": null,
      "margin": null,
      "max_height": null,
      "max_width": null,
      "min_height": null,
      "min_width": null,
      "object_fit": null,
      "object_position": null,
      "order": null,
      "overflow": null,
      "overflow_x": null,
      "overflow_y": null,
      "padding": null,
      "right": null,
      "top": null,
      "visibility": null,
      "width": null
     }
    },
    "5063ef0f00c94d71a025b4d91ec097a9": {
     "model_module": "@jupyter-widgets/base",
     "model_module_version": "1.2.0",
     "model_name": "LayoutModel",
     "state": {
      "_model_module": "@jupyter-widgets/base",
      "_model_module_version": "1.2.0",
      "_model_name": "LayoutModel",
      "_view_count": null,
      "_view_module": "@jupyter-widgets/base",
      "_view_module_version": "1.2.0",
      "_view_name": "LayoutView",
      "align_content": null,
      "align_items": null,
      "align_self": null,
      "border": null,
      "bottom": null,
      "display": null,
      "flex": null,
      "flex_flow": null,
      "grid_area": null,
      "grid_auto_columns": null,
      "grid_auto_flow": null,
      "grid_auto_rows": null,
      "grid_column": null,
      "grid_gap": null,
      "grid_row": null,
      "grid_template_areas": null,
      "grid_template_columns": null,
      "grid_template_rows": null,
      "height": null,
      "justify_content": null,
      "justify_items": null,
      "left": null,
      "margin": null,
      "max_height": null,
      "max_width": null,
      "min_height": null,
      "min_width": null,
      "object_fit": null,
      "object_position": null,
      "order": null,
      "overflow": null,
      "overflow_x": null,
      "overflow_y": null,
      "padding": null,
      "right": null,
      "top": null,
      "visibility": null,
      "width": null
     }
    },
    "50d8a4af738b4f2aba12116c12cb7aa4": {
     "model_module": "@jupyter-widgets/controls",
     "model_module_version": "1.5.0",
     "model_name": "HBoxModel",
     "state": {
      "_dom_classes": [],
      "_model_module": "@jupyter-widgets/controls",
      "_model_module_version": "1.5.0",
      "_model_name": "HBoxModel",
      "_view_count": null,
      "_view_module": "@jupyter-widgets/controls",
      "_view_module_version": "1.5.0",
      "_view_name": "HBoxView",
      "box_style": "",
      "children": [
       "IPY_MODEL_1b64d0428be9452d9715410812b382c0",
       "IPY_MODEL_27bea789f9884143a939a3c47cd8c485",
       "IPY_MODEL_a31147625113473fb8c7910b72f36a65"
      ],
      "layout": "IPY_MODEL_cfd065084a86432c903ca88f5e429519"
     }
    },
    "51a0395266864c2d9fdc3efd836187dc": {
     "model_module": "@jupyter-widgets/controls",
     "model_module_version": "1.5.0",
     "model_name": "HBoxModel",
     "state": {
      "_dom_classes": [],
      "_model_module": "@jupyter-widgets/controls",
      "_model_module_version": "1.5.0",
      "_model_name": "HBoxModel",
      "_view_count": null,
      "_view_module": "@jupyter-widgets/controls",
      "_view_module_version": "1.5.0",
      "_view_name": "HBoxView",
      "box_style": "",
      "children": [
       "IPY_MODEL_3131d7611b9b4a44935f7c8d2f081d22",
       "IPY_MODEL_e56b3cea02a640109bfb246e2dbfffd4",
       "IPY_MODEL_35a56c3b1e374294b3a5acdc6dcab88b"
      ],
      "layout": "IPY_MODEL_0e1f64b2a6094798b12316979d96526f"
     }
    },
    "52a28ffe498a49c09b7e7282f186b0cb": {
     "model_module": "@jupyter-widgets/controls",
     "model_module_version": "1.5.0",
     "model_name": "HTMLModel",
     "state": {
      "_dom_classes": [],
      "_model_module": "@jupyter-widgets/controls",
      "_model_module_version": "1.5.0",
      "_model_name": "HTMLModel",
      "_view_count": null,
      "_view_module": "@jupyter-widgets/controls",
      "_view_module_version": "1.5.0",
      "_view_name": "HTMLView",
      "description": "",
      "description_tooltip": null,
      "layout": "IPY_MODEL_01f9fb794c8b4240bf776ce937446521",
      "placeholder": "​",
      "style": "IPY_MODEL_15bfdef3ea7841968aeb1aacbd976c90",
      "value": "lipophilicity.csv: 100%"
     }
    },
    "53987e79fb9041b2b00e583b3073e497": {
     "model_module": "@jupyter-widgets/controls",
     "model_module_version": "1.5.0",
     "model_name": "HTMLModel",
     "state": {
      "_dom_classes": [],
      "_model_module": "@jupyter-widgets/controls",
      "_model_module_version": "1.5.0",
      "_model_name": "HTMLModel",
      "_view_count": null,
      "_view_module": "@jupyter-widgets/controls",
      "_view_module_version": "1.5.0",
      "_view_name": "HTMLView",
      "description": "",
      "description_tooltip": null,
      "layout": "IPY_MODEL_8f67e8705c09436eb03e0bff6bc7e994",
      "placeholder": "​",
      "style": "IPY_MODEL_57ba6a6c4ebd4946882e6f0ca7dd1ece",
      "value": " 7.60k/7.60k [00:00&lt;00:00, 899kB/s]"
     }
    },
    "55724ec696374677811d2f09bf8eae02": {
     "model_module": "@jupyter-widgets/base",
     "model_module_version": "1.2.0",
     "model_name": "LayoutModel",
     "state": {
      "_model_module": "@jupyter-widgets/base",
      "_model_module_version": "1.2.0",
      "_model_name": "LayoutModel",
      "_view_count": null,
      "_view_module": "@jupyter-widgets/base",
      "_view_module_version": "1.2.0",
      "_view_name": "LayoutView",
      "align_content": null,
      "align_items": null,
      "align_self": null,
      "border": null,
      "bottom": null,
      "display": null,
      "flex": null,
      "flex_flow": null,
      "grid_area": null,
      "grid_auto_columns": null,
      "grid_auto_flow": null,
      "grid_auto_rows": null,
      "grid_column": null,
      "grid_gap": null,
      "grid_row": null,
      "grid_template_areas": null,
      "grid_template_columns": null,
      "grid_template_rows": null,
      "height": null,
      "justify_content": null,
      "justify_items": null,
      "left": null,
      "margin": null,
      "max_height": null,
      "max_width": null,
      "min_height": null,
      "min_width": null,
      "object_fit": null,
      "object_position": null,
      "order": null,
      "overflow": null,
      "overflow_x": null,
      "overflow_y": null,
      "padding": null,
      "right": null,
      "top": null,
      "visibility": null,
      "width": null
     }
    },
    "57ba6a6c4ebd4946882e6f0ca7dd1ece": {
     "model_module": "@jupyter-widgets/controls",
     "model_module_version": "1.5.0",
     "model_name": "DescriptionStyleModel",
     "state": {
      "_model_module": "@jupyter-widgets/controls",
      "_model_module_version": "1.5.0",
      "_model_name": "DescriptionStyleModel",
      "_view_count": null,
      "_view_module": "@jupyter-widgets/base",
      "_view_module_version": "1.2.0",
      "_view_name": "StyleView",
      "description_width": ""
     }
    },
    "5bb0f0667eed42b1bdbb857bb81b5668": {
     "model_module": "@jupyter-widgets/base",
     "model_module_version": "1.2.0",
     "model_name": "LayoutModel",
     "state": {
      "_model_module": "@jupyter-widgets/base",
      "_model_module_version": "1.2.0",
      "_model_name": "LayoutModel",
      "_view_count": null,
      "_view_module": "@jupyter-widgets/base",
      "_view_module_version": "1.2.0",
      "_view_name": "LayoutView",
      "align_content": null,
      "align_items": null,
      "align_self": null,
      "border": null,
      "bottom": null,
      "display": null,
      "flex": null,
      "flex_flow": null,
      "grid_area": null,
      "grid_auto_columns": null,
      "grid_auto_flow": null,
      "grid_auto_rows": null,
      "grid_column": null,
      "grid_gap": null,
      "grid_row": null,
      "grid_template_areas": null,
      "grid_template_columns": null,
      "grid_template_rows": null,
      "height": null,
      "justify_content": null,
      "justify_items": null,
      "left": null,
      "margin": null,
      "max_height": null,
      "max_width": null,
      "min_height": null,
      "min_width": null,
      "object_fit": null,
      "object_position": null,
      "order": null,
      "overflow": null,
      "overflow_x": null,
      "overflow_y": null,
      "padding": null,
      "right": null,
      "top": null,
      "visibility": null,
      "width": null
     }
    },
    "5bc1770d90e7479e8127c44c836323c9": {
     "model_module": "@jupyter-widgets/controls",
     "model_module_version": "1.5.0",
     "model_name": "FloatProgressModel",
     "state": {
      "_dom_classes": [],
      "_model_module": "@jupyter-widgets/controls",
      "_model_module_version": "1.5.0",
      "_model_name": "FloatProgressModel",
      "_view_count": null,
      "_view_module": "@jupyter-widgets/controls",
      "_view_module_version": "1.5.0",
      "_view_name": "ProgressView",
      "bar_style": "success",
      "description": "",
      "description_tooltip": null,
      "layout": "IPY_MODEL_1aa53c3c1b554f3dada59759390da905",
      "max": 125,
      "min": 0,
      "orientation": "horizontal",
      "style": "IPY_MODEL_a5a2ccd55d08422d9b29120bbfc538c8",
      "value": 125
     }
    },
    "5c08e3d15bc345128b9208aee95bd6a7": {
     "model_module": "@jupyter-widgets/controls",
     "model_module_version": "1.5.0",
     "model_name": "DescriptionStyleModel",
     "state": {
      "_model_module": "@jupyter-widgets/controls",
      "_model_module_version": "1.5.0",
      "_model_name": "DescriptionStyleModel",
      "_view_count": null,
      "_view_module": "@jupyter-widgets/base",
      "_view_module_version": "1.2.0",
      "_view_name": "StyleView",
      "description_width": ""
     }
    },
    "5c3733a905f243f2ad94f5cd8df59b35": {
     "model_module": "@jupyter-widgets/controls",
     "model_module_version": "1.5.0",
     "model_name": "ProgressStyleModel",
     "state": {
      "_model_module": "@jupyter-widgets/controls",
      "_model_module_version": "1.5.0",
      "_model_name": "ProgressStyleModel",
      "_view_count": null,
      "_view_module": "@jupyter-widgets/base",
      "_view_module_version": "1.2.0",
      "_view_name": "StyleView",
      "bar_color": null,
      "description_width": ""
     }
    },
    "5cbd47a503ec421e84ba463fbd1653d7": {
     "model_module": "@jupyter-widgets/controls",
     "model_module_version": "1.5.0",
     "model_name": "DescriptionStyleModel",
     "state": {
      "_model_module": "@jupyter-widgets/controls",
      "_model_module_version": "1.5.0",
      "_model_name": "DescriptionStyleModel",
      "_view_count": null,
      "_view_module": "@jupyter-widgets/base",
      "_view_module_version": "1.2.0",
      "_view_name": "StyleView",
      "description_width": ""
     }
    },
    "604a3ac0fd5d4fa3a0d2b3cd52092108": {
     "model_module": "@jupyter-widgets/controls",
     "model_module_version": "1.5.0",
     "model_name": "DescriptionStyleModel",
     "state": {
      "_model_module": "@jupyter-widgets/controls",
      "_model_module_version": "1.5.0",
      "_model_name": "DescriptionStyleModel",
      "_view_count": null,
      "_view_module": "@jupyter-widgets/base",
      "_view_module_version": "1.2.0",
      "_view_name": "StyleView",
      "description_width": ""
     }
    },
    "61e5be5a19d14383808ee60238630849": {
     "model_module": "@jupyter-widgets/controls",
     "model_module_version": "1.5.0",
     "model_name": "HTMLModel",
     "state": {
      "_dom_classes": [],
      "_model_module": "@jupyter-widgets/controls",
      "_model_module_version": "1.5.0",
      "_model_name": "HTMLModel",
      "_view_count": null,
      "_view_module": "@jupyter-widgets/controls",
      "_view_module_version": "1.5.0",
      "_view_name": "HTMLView",
      "description": "",
      "description_tooltip": null,
      "layout": "IPY_MODEL_851762b7a5154cfc85cbfece70ba79fa",
      "placeholder": "​",
      "style": "IPY_MODEL_8ea11ca703e844778f8617e308c381f1",
      "value": " 223k/223k [00:00&lt;00:00, 535kB/s]"
     }
    },
    "620e0ba4c7f847b493373d07afbb7cf8": {
     "model_module": "@jupyter-widgets/controls",
     "model_module_version": "1.5.0",
     "model_name": "DescriptionStyleModel",
     "state": {
      "_model_module": "@jupyter-widgets/controls",
      "_model_module_version": "1.5.0",
      "_model_name": "DescriptionStyleModel",
      "_view_count": null,
      "_view_module": "@jupyter-widgets/base",
      "_view_module_version": "1.2.0",
      "_view_name": "StyleView",
      "description_width": ""
     }
    },
    "63433c77003741bfb8a5dd818e44f641": {
     "model_module": "@jupyter-widgets/base",
     "model_module_version": "1.2.0",
     "model_name": "LayoutModel",
     "state": {
      "_model_module": "@jupyter-widgets/base",
      "_model_module_version": "1.2.0",
      "_model_name": "LayoutModel",
      "_view_count": null,
      "_view_module": "@jupyter-widgets/base",
      "_view_module_version": "1.2.0",
      "_view_name": "LayoutView",
      "align_content": null,
      "align_items": null,
      "align_self": null,
      "border": null,
      "bottom": null,
      "display": null,
      "flex": null,
      "flex_flow": null,
      "grid_area": null,
      "grid_auto_columns": null,
      "grid_auto_flow": null,
      "grid_auto_rows": null,
      "grid_column": null,
      "grid_gap": null,
      "grid_row": null,
      "grid_template_areas": null,
      "grid_template_columns": null,
      "grid_template_rows": null,
      "height": null,
      "justify_content": null,
      "justify_items": null,
      "left": null,
      "margin": null,
      "max_height": null,
      "max_width": null,
      "min_height": null,
      "min_width": null,
      "object_fit": null,
      "object_position": null,
      "order": null,
      "overflow": null,
      "overflow_x": null,
      "overflow_y": null,
      "padding": null,
      "right": null,
      "top": null,
      "visibility": null,
      "width": null
     }
    },
    "6526715821a64febb6e69c7b10d511c6": {
     "model_module": "@jupyter-widgets/controls",
     "model_module_version": "1.5.0",
     "model_name": "HTMLModel",
     "state": {
      "_dom_classes": [],
      "_model_module": "@jupyter-widgets/controls",
      "_model_module_version": "1.5.0",
      "_model_name": "HTMLModel",
      "_view_count": null,
      "_view_module": "@jupyter-widgets/controls",
      "_view_module_version": "1.5.0",
      "_view_name": "HTMLView",
      "description": "",
      "description_tooltip": null,
      "layout": "IPY_MODEL_44eb359545a342f88ca4ce0b09cbe09c",
      "placeholder": "​",
      "style": "IPY_MODEL_29412b05c3de4a67a9047eb217e22691",
      "value": "tokenization_molformer_fast.py: 100%"
     }
    },
    "6594d78b6ab4459b97f8e218ec065fee": {
     "model_module": "@jupyter-widgets/controls",
     "model_module_version": "1.5.0",
     "model_name": "DescriptionStyleModel",
     "state": {
      "_model_module": "@jupyter-widgets/controls",
      "_model_module_version": "1.5.0",
      "_model_name": "DescriptionStyleModel",
      "_view_count": null,
      "_view_module": "@jupyter-widgets/base",
      "_view_module_version": "1.2.0",
      "_view_name": "StyleView",
      "description_width": ""
     }
    },
    "677cd506b3a54b44a729eeea3aeed24f": {
     "model_module": "@jupyter-widgets/controls",
     "model_module_version": "1.5.0",
     "model_name": "HBoxModel",
     "state": {
      "_dom_classes": [],
      "_model_module": "@jupyter-widgets/controls",
      "_model_module_version": "1.5.0",
      "_model_name": "HBoxModel",
      "_view_count": null,
      "_view_module": "@jupyter-widgets/controls",
      "_view_module_version": "1.5.0",
      "_view_name": "HBoxView",
      "box_style": "",
      "children": [
       "IPY_MODEL_70f37b0505994372ad70f5afaf811f1b",
       "IPY_MODEL_cc8a323d93e64af4be2203fb01e66f5d",
       "IPY_MODEL_d2bc75524ac0464d948f5a354d0b514c"
      ],
      "layout": "IPY_MODEL_811bad0269eb444bb37f7829559445bb"
     }
    },
    "6a1537f7c6e04cd78c9cb0610528a12a": {
     "model_module": "@jupyter-widgets/base",
     "model_module_version": "1.2.0",
     "model_name": "LayoutModel",
     "state": {
      "_model_module": "@jupyter-widgets/base",
      "_model_module_version": "1.2.0",
      "_model_name": "LayoutModel",
      "_view_count": null,
      "_view_module": "@jupyter-widgets/base",
      "_view_module_version": "1.2.0",
      "_view_name": "LayoutView",
      "align_content": null,
      "align_items": null,
      "align_self": null,
      "border": null,
      "bottom": null,
      "display": null,
      "flex": null,
      "flex_flow": null,
      "grid_area": null,
      "grid_auto_columns": null,
      "grid_auto_flow": null,
      "grid_auto_rows": null,
      "grid_column": null,
      "grid_gap": null,
      "grid_row": null,
      "grid_template_areas": null,
      "grid_template_columns": null,
      "grid_template_rows": null,
      "height": null,
      "justify_content": null,
      "justify_items": null,
      "left": null,
      "margin": null,
      "max_height": null,
      "max_width": null,
      "min_height": null,
      "min_width": null,
      "object_fit": null,
      "object_position": null,
      "order": null,
      "overflow": null,
      "overflow_x": null,
      "overflow_y": null,
      "padding": null,
      "right": null,
      "top": null,
      "visibility": null,
      "width": null
     }
    },
    "6c682fa4ccca47f998e4d1f9184edeba": {
     "model_module": "@jupyter-widgets/base",
     "model_module_version": "1.2.0",
     "model_name": "LayoutModel",
     "state": {
      "_model_module": "@jupyter-widgets/base",
      "_model_module_version": "1.2.0",
      "_model_name": "LayoutModel",
      "_view_count": null,
      "_view_module": "@jupyter-widgets/base",
      "_view_module_version": "1.2.0",
      "_view_name": "LayoutView",
      "align_content": null,
      "align_items": null,
      "align_self": null,
      "border": null,
      "bottom": null,
      "display": null,
      "flex": null,
      "flex_flow": null,
      "grid_area": null,
      "grid_auto_columns": null,
      "grid_auto_flow": null,
      "grid_auto_rows": null,
      "grid_column": null,
      "grid_gap": null,
      "grid_row": null,
      "grid_template_areas": null,
      "grid_template_columns": null,
      "grid_template_rows": null,
      "height": null,
      "justify_content": null,
      "justify_items": null,
      "left": null,
      "margin": null,
      "max_height": null,
      "max_width": null,
      "min_height": null,
      "min_width": null,
      "object_fit": null,
      "object_position": null,
      "order": null,
      "overflow": null,
      "overflow_x": null,
      "overflow_y": null,
      "padding": null,
      "right": null,
      "top": null,
      "visibility": null,
      "width": null
     }
    },
    "70f37b0505994372ad70f5afaf811f1b": {
     "model_module": "@jupyter-widgets/controls",
     "model_module_version": "1.5.0",
     "model_name": "HTMLModel",
     "state": {
      "_dom_classes": [],
      "_model_module": "@jupyter-widgets/controls",
      "_model_module_version": "1.5.0",
      "_model_name": "HTMLModel",
      "_view_count": null,
      "_view_module": "@jupyter-widgets/controls",
      "_view_module_version": "1.5.0",
      "_view_name": "HTMLView",
      "description": "",
      "description_tooltip": null,
      "layout": "IPY_MODEL_8dfd0ccd92ba46ed8cdad4111053f254",
      "placeholder": "​",
      "style": "IPY_MODEL_6594d78b6ab4459b97f8e218ec065fee",
      "value": "tokenization_molformer.py: 100%"
     }
    },
    "7122d5affaee4577982964d1a6b42716": {
     "model_module": "@jupyter-widgets/base",
     "model_module_version": "1.2.0",
     "model_name": "LayoutModel",
     "state": {
      "_model_module": "@jupyter-widgets/base",
      "_model_module_version": "1.2.0",
      "_model_name": "LayoutModel",
      "_view_count": null,
      "_view_module": "@jupyter-widgets/base",
      "_view_module_version": "1.2.0",
      "_view_name": "LayoutView",
      "align_content": null,
      "align_items": null,
      "align_self": null,
      "border": null,
      "bottom": null,
      "display": null,
      "flex": null,
      "flex_flow": null,
      "grid_area": null,
      "grid_auto_columns": null,
      "grid_auto_flow": null,
      "grid_auto_rows": null,
      "grid_column": null,
      "grid_gap": null,
      "grid_row": null,
      "grid_template_areas": null,
      "grid_template_columns": null,
      "grid_template_rows": null,
      "height": null,
      "justify_content": null,
      "justify_items": null,
      "left": null,
      "margin": null,
      "max_height": null,
      "max_width": null,
      "min_height": null,
      "min_width": null,
      "object_fit": null,
      "object_position": null,
      "order": null,
      "overflow": null,
      "overflow_x": null,
      "overflow_y": null,
      "padding": null,
      "right": null,
      "top": null,
      "visibility": null,
      "width": null
     }
    },
    "713e869126f849f385c47a1d674e676d": {
     "model_module": "@jupyter-widgets/controls",
     "model_module_version": "1.5.0",
     "model_name": "HTMLModel",
     "state": {
      "_dom_classes": [],
      "_model_module": "@jupyter-widgets/controls",
      "_model_module_version": "1.5.0",
      "_model_name": "HTMLModel",
      "_view_count": null,
      "_view_module": "@jupyter-widgets/controls",
      "_view_module_version": "1.5.0",
      "_view_name": "HTMLView",
      "description": "",
      "description_tooltip": null,
      "layout": "IPY_MODEL_0c8a610ca7f34e69a72f06fa541cb453",
      "placeholder": "​",
      "style": "IPY_MODEL_df561b61a79c44e8b5ae0ce16d38c2fa",
      "value": "Generating train split: 100%"
     }
    },
    "780f8d309bd84f2da7d99bb1ce2d109c": {
     "model_module": "@jupyter-widgets/base",
     "model_module_version": "1.2.0",
     "model_name": "LayoutModel",
     "state": {
      "_model_module": "@jupyter-widgets/base",
      "_model_module_version": "1.2.0",
      "_model_name": "LayoutModel",
      "_view_count": null,
      "_view_module": "@jupyter-widgets/base",
      "_view_module_version": "1.2.0",
      "_view_name": "LayoutView",
      "align_content": null,
      "align_items": null,
      "align_self": null,
      "border": null,
      "bottom": null,
      "display": null,
      "flex": null,
      "flex_flow": null,
      "grid_area": null,
      "grid_auto_columns": null,
      "grid_auto_flow": null,
      "grid_auto_rows": null,
      "grid_column": null,
      "grid_gap": null,
      "grid_row": null,
      "grid_template_areas": null,
      "grid_template_columns": null,
      "grid_template_rows": null,
      "height": null,
      "justify_content": null,
      "justify_items": null,
      "left": null,
      "margin": null,
      "max_height": null,
      "max_width": null,
      "min_height": null,
      "min_width": null,
      "object_fit": null,
      "object_position": null,
      "order": null,
      "overflow": null,
      "overflow_x": null,
      "overflow_y": null,
      "padding": null,
      "right": null,
      "top": null,
      "visibility": null,
      "width": null
     }
    },
    "7929c6408da14e9187b688186f5fa5c3": {
     "model_module": "@jupyter-widgets/base",
     "model_module_version": "1.2.0",
     "model_name": "LayoutModel",
     "state": {
      "_model_module": "@jupyter-widgets/base",
      "_model_module_version": "1.2.0",
      "_model_name": "LayoutModel",
      "_view_count": null,
      "_view_module": "@jupyter-widgets/base",
      "_view_module_version": "1.2.0",
      "_view_name": "LayoutView",
      "align_content": null,
      "align_items": null,
      "align_self": null,
      "border": null,
      "bottom": null,
      "display": null,
      "flex": null,
      "flex_flow": null,
      "grid_area": null,
      "grid_auto_columns": null,
      "grid_auto_flow": null,
      "grid_auto_rows": null,
      "grid_column": null,
      "grid_gap": null,
      "grid_row": null,
      "grid_template_areas": null,
      "grid_template_columns": null,
      "grid_template_rows": null,
      "height": null,
      "justify_content": null,
      "justify_items": null,
      "left": null,
      "margin": null,
      "max_height": null,
      "max_width": null,
      "min_height": null,
      "min_width": null,
      "object_fit": null,
      "object_position": null,
      "order": null,
      "overflow": null,
      "overflow_x": null,
      "overflow_y": null,
      "padding": null,
      "right": null,
      "top": null,
      "visibility": null,
      "width": null
     }
    },
    "7e11ae53ca664f1a8fbca55bcc821b8d": {
     "model_module": "@jupyter-widgets/controls",
     "model_module_version": "1.5.0",
     "model_name": "HTMLModel",
     "state": {
      "_dom_classes": [],
      "_model_module": "@jupyter-widgets/controls",
      "_model_module_version": "1.5.0",
      "_model_name": "HTMLModel",
      "_view_count": null,
      "_view_module": "@jupyter-widgets/controls",
      "_view_module_version": "1.5.0",
      "_view_name": "HTMLView",
      "description": "",
      "description_tooltip": null,
      "layout": "IPY_MODEL_d19d7af5e8ce4f86b254d3e3678bc916",
      "placeholder": "​",
      "style": "IPY_MODEL_19148690a5bf4a2c9a7709553f9871d4",
      "value": " 125/125 [00:00&lt;00:00, 14.3kB/s]"
     }
    },
    "7e678285e934452fac25c4e8c748f7ce": {
     "model_module": "@jupyter-widgets/controls",
     "model_module_version": "1.5.0",
     "model_name": "ProgressStyleModel",
     "state": {
      "_model_module": "@jupyter-widgets/controls",
      "_model_module_version": "1.5.0",
      "_model_name": "ProgressStyleModel",
      "_view_count": null,
      "_view_module": "@jupyter-widgets/base",
      "_view_module_version": "1.2.0",
      "_view_name": "StyleView",
      "bar_color": null,
      "description_width": ""
     }
    },
    "7f4852dcfa754ac0bc01cf574244e02a": {
     "model_module": "@jupyter-widgets/base",
     "model_module_version": "1.2.0",
     "model_name": "LayoutModel",
     "state": {
      "_model_module": "@jupyter-widgets/base",
      "_model_module_version": "1.2.0",
      "_model_name": "LayoutModel",
      "_view_count": null,
      "_view_module": "@jupyter-widgets/base",
      "_view_module_version": "1.2.0",
      "_view_name": "LayoutView",
      "align_content": null,
      "align_items": null,
      "align_self": null,
      "border": null,
      "bottom": null,
      "display": null,
      "flex": null,
      "flex_flow": null,
      "grid_area": null,
      "grid_auto_columns": null,
      "grid_auto_flow": null,
      "grid_auto_rows": null,
      "grid_column": null,
      "grid_gap": null,
      "grid_row": null,
      "grid_template_areas": null,
      "grid_template_columns": null,
      "grid_template_rows": null,
      "height": null,
      "justify_content": null,
      "justify_items": null,
      "left": null,
      "margin": null,
      "max_height": null,
      "max_width": null,
      "min_height": null,
      "min_width": null,
      "object_fit": null,
      "object_position": null,
      "order": null,
      "overflow": null,
      "overflow_x": null,
      "overflow_y": null,
      "padding": null,
      "right": null,
      "top": null,
      "visibility": null,
      "width": null
     }
    },
    "807bc15a3125454798d2e95fb4300c16": {
     "model_module": "@jupyter-widgets/controls",
     "model_module_version": "1.5.0",
     "model_name": "ProgressStyleModel",
     "state": {
      "_model_module": "@jupyter-widgets/controls",
      "_model_module_version": "1.5.0",
      "_model_name": "ProgressStyleModel",
      "_view_count": null,
      "_view_module": "@jupyter-widgets/base",
      "_view_module_version": "1.2.0",
      "_view_name": "StyleView",
      "bar_color": null,
      "description_width": ""
     }
    },
    "811bad0269eb444bb37f7829559445bb": {
     "model_module": "@jupyter-widgets/base",
     "model_module_version": "1.2.0",
     "model_name": "LayoutModel",
     "state": {
      "_model_module": "@jupyter-widgets/base",
      "_model_module_version": "1.2.0",
      "_model_name": "LayoutModel",
      "_view_count": null,
      "_view_module": "@jupyter-widgets/base",
      "_view_module_version": "1.2.0",
      "_view_name": "LayoutView",
      "align_content": null,
      "align_items": null,
      "align_self": null,
      "border": null,
      "bottom": null,
      "display": null,
      "flex": null,
      "flex_flow": null,
      "grid_area": null,
      "grid_auto_columns": null,
      "grid_auto_flow": null,
      "grid_auto_rows": null,
      "grid_column": null,
      "grid_gap": null,
      "grid_row": null,
      "grid_template_areas": null,
      "grid_template_columns": null,
      "grid_template_rows": null,
      "height": null,
      "justify_content": null,
      "justify_items": null,
      "left": null,
      "margin": null,
      "max_height": null,
      "max_width": null,
      "min_height": null,
      "min_width": null,
      "object_fit": null,
      "object_position": null,
      "order": null,
      "overflow": null,
      "overflow_x": null,
      "overflow_y": null,
      "padding": null,
      "right": null,
      "top": null,
      "visibility": null,
      "width": null
     }
    },
    "818895ea7ee145fe93d8b76224523efc": {
     "model_module": "@jupyter-widgets/controls",
     "model_module_version": "1.5.0",
     "model_name": "HTMLModel",
     "state": {
      "_dom_classes": [],
      "_model_module": "@jupyter-widgets/controls",
      "_model_module_version": "1.5.0",
      "_model_name": "HTMLModel",
      "_view_count": null,
      "_view_module": "@jupyter-widgets/controls",
      "_view_module_version": "1.5.0",
      "_view_name": "HTMLView",
      "description": "",
      "description_tooltip": null,
      "layout": "IPY_MODEL_de2a1aa95c8f46ccb55cb14dc74610bb",
      "placeholder": "​",
      "style": "IPY_MODEL_8f1d99c659f8493a81e8a492776828db",
      "value": "configuration_molformer.py: 100%"
     }
    },
    "8237da29238242b1a8e3cb6633508ab7": {
     "model_module": "@jupyter-widgets/controls",
     "model_module_version": "1.5.0",
     "model_name": "FloatProgressModel",
     "state": {
      "_dom_classes": [],
      "_model_module": "@jupyter-widgets/controls",
      "_model_module_version": "1.5.0",
      "_model_name": "FloatProgressModel",
      "_view_count": null,
      "_view_module": "@jupyter-widgets/controls",
      "_view_module_version": "1.5.0",
      "_view_name": "ProgressView",
      "bar_style": "success",
      "description": "",
      "description_tooltip": null,
      "layout": "IPY_MODEL_63433c77003741bfb8a5dd818e44f641",
      "max": 187248784,
      "min": 0,
      "orientation": "horizontal",
      "style": "IPY_MODEL_b31c3f04a3c64d9f890d30210a6580d5",
      "value": 187248784
     }
    },
    "825e3456bd374981993035b60b8f1c2e": {
     "model_module": "@jupyter-widgets/controls",
     "model_module_version": "1.5.0",
     "model_name": "DescriptionStyleModel",
     "state": {
      "_model_module": "@jupyter-widgets/controls",
      "_model_module_version": "1.5.0",
      "_model_name": "DescriptionStyleModel",
      "_view_count": null,
      "_view_module": "@jupyter-widgets/base",
      "_view_module_version": "1.2.0",
      "_view_name": "StyleView",
      "description_width": ""
     }
    },
    "834988f9f2904e60ac0f9ee2699a2de0": {
     "model_module": "@jupyter-widgets/base",
     "model_module_version": "1.2.0",
     "model_name": "LayoutModel",
     "state": {
      "_model_module": "@jupyter-widgets/base",
      "_model_module_version": "1.2.0",
      "_model_name": "LayoutModel",
      "_view_count": null,
      "_view_module": "@jupyter-widgets/base",
      "_view_module_version": "1.2.0",
      "_view_name": "LayoutView",
      "align_content": null,
      "align_items": null,
      "align_self": null,
      "border": null,
      "bottom": null,
      "display": null,
      "flex": null,
      "flex_flow": null,
      "grid_area": null,
      "grid_auto_columns": null,
      "grid_auto_flow": null,
      "grid_auto_rows": null,
      "grid_column": null,
      "grid_gap": null,
      "grid_row": null,
      "grid_template_areas": null,
      "grid_template_columns": null,
      "grid_template_rows": null,
      "height": null,
      "justify_content": null,
      "justify_items": null,
      "left": null,
      "margin": null,
      "max_height": null,
      "max_width": null,
      "min_height": null,
      "min_width": null,
      "object_fit": null,
      "object_position": null,
      "order": null,
      "overflow": null,
      "overflow_x": null,
      "overflow_y": null,
      "padding": null,
      "right": null,
      "top": null,
      "visibility": null,
      "width": null
     }
    },
    "837065a275b44e0384a99aa4e4e17001": {
     "model_module": "@jupyter-widgets/base",
     "model_module_version": "1.2.0",
     "model_name": "LayoutModel",
     "state": {
      "_model_module": "@jupyter-widgets/base",
      "_model_module_version": "1.2.0",
      "_model_name": "LayoutModel",
      "_view_count": null,
      "_view_module": "@jupyter-widgets/base",
      "_view_module_version": "1.2.0",
      "_view_name": "LayoutView",
      "align_content": null,
      "align_items": null,
      "align_self": null,
      "border": null,
      "bottom": null,
      "display": null,
      "flex": null,
      "flex_flow": null,
      "grid_area": null,
      "grid_auto_columns": null,
      "grid_auto_flow": null,
      "grid_auto_rows": null,
      "grid_column": null,
      "grid_gap": null,
      "grid_row": null,
      "grid_template_areas": null,
      "grid_template_columns": null,
      "grid_template_rows": null,
      "height": null,
      "justify_content": null,
      "justify_items": null,
      "left": null,
      "margin": null,
      "max_height": null,
      "max_width": null,
      "min_height": null,
      "min_width": null,
      "object_fit": null,
      "object_position": null,
      "order": null,
      "overflow": null,
      "overflow_x": null,
      "overflow_y": null,
      "padding": null,
      "right": null,
      "top": null,
      "visibility": null,
      "width": null
     }
    },
    "8434402a3f4c42b9bad96cae5d2d9a50": {
     "model_module": "@jupyter-widgets/base",
     "model_module_version": "1.2.0",
     "model_name": "LayoutModel",
     "state": {
      "_model_module": "@jupyter-widgets/base",
      "_model_module_version": "1.2.0",
      "_model_name": "LayoutModel",
      "_view_count": null,
      "_view_module": "@jupyter-widgets/base",
      "_view_module_version": "1.2.0",
      "_view_name": "LayoutView",
      "align_content": null,
      "align_items": null,
      "align_self": null,
      "border": null,
      "bottom": null,
      "display": null,
      "flex": null,
      "flex_flow": null,
      "grid_area": null,
      "grid_auto_columns": null,
      "grid_auto_flow": null,
      "grid_auto_rows": null,
      "grid_column": null,
      "grid_gap": null,
      "grid_row": null,
      "grid_template_areas": null,
      "grid_template_columns": null,
      "grid_template_rows": null,
      "height": null,
      "justify_content": null,
      "justify_items": null,
      "left": null,
      "margin": null,
      "max_height": null,
      "max_width": null,
      "min_height": null,
      "min_width": null,
      "object_fit": null,
      "object_position": null,
      "order": null,
      "overflow": null,
      "overflow_x": null,
      "overflow_y": null,
      "padding": null,
      "right": null,
      "top": null,
      "visibility": null,
      "width": null
     }
    },
    "851762b7a5154cfc85cbfece70ba79fa": {
     "model_module": "@jupyter-widgets/base",
     "model_module_version": "1.2.0",
     "model_name": "LayoutModel",
     "state": {
      "_model_module": "@jupyter-widgets/base",
      "_model_module_version": "1.2.0",
      "_model_name": "LayoutModel",
      "_view_count": null,
      "_view_module": "@jupyter-widgets/base",
      "_view_module_version": "1.2.0",
      "_view_name": "LayoutView",
      "align_content": null,
      "align_items": null,
      "align_self": null,
      "border": null,
      "bottom": null,
      "display": null,
      "flex": null,
      "flex_flow": null,
      "grid_area": null,
      "grid_auto_columns": null,
      "grid_auto_flow": null,
      "grid_auto_rows": null,
      "grid_column": null,
      "grid_gap": null,
      "grid_row": null,
      "grid_template_areas": null,
      "grid_template_columns": null,
      "grid_template_rows": null,
      "height": null,
      "justify_content": null,
      "justify_items": null,
      "left": null,
      "margin": null,
      "max_height": null,
      "max_width": null,
      "min_height": null,
      "min_width": null,
      "object_fit": null,
      "object_position": null,
      "order": null,
      "overflow": null,
      "overflow_x": null,
      "overflow_y": null,
      "padding": null,
      "right": null,
      "top": null,
      "visibility": null,
      "width": null
     }
    },
    "8cc78128863a49f19af9489834c2c9f2": {
     "model_module": "@jupyter-widgets/controls",
     "model_module_version": "1.5.0",
     "model_name": "HBoxModel",
     "state": {
      "_dom_classes": [],
      "_model_module": "@jupyter-widgets/controls",
      "_model_module_version": "1.5.0",
      "_model_name": "HBoxModel",
      "_view_count": null,
      "_view_module": "@jupyter-widgets/controls",
      "_view_module_version": "1.5.0",
      "_view_name": "HBoxView",
      "box_style": "",
      "children": [
       "IPY_MODEL_da9331ab36a94acdaba79ce8b291caa7",
       "IPY_MODEL_980aca9f2e6b4937ba74cd4e8eef8741",
       "IPY_MODEL_b92454162b4e4052a616a488fa32ff40"
      ],
      "layout": "IPY_MODEL_7122d5affaee4577982964d1a6b42716"
     }
    },
    "8dfd0ccd92ba46ed8cdad4111053f254": {
     "model_module": "@jupyter-widgets/base",
     "model_module_version": "1.2.0",
     "model_name": "LayoutModel",
     "state": {
      "_model_module": "@jupyter-widgets/base",
      "_model_module_version": "1.2.0",
      "_model_name": "LayoutModel",
      "_view_count": null,
      "_view_module": "@jupyter-widgets/base",
      "_view_module_version": "1.2.0",
      "_view_name": "LayoutView",
      "align_content": null,
      "align_items": null,
      "align_self": null,
      "border": null,
      "bottom": null,
      "display": null,
      "flex": null,
      "flex_flow": null,
      "grid_area": null,
      "grid_auto_columns": null,
      "grid_auto_flow": null,
      "grid_auto_rows": null,
      "grid_column": null,
      "grid_gap": null,
      "grid_row": null,
      "grid_template_areas": null,
      "grid_template_columns": null,
      "grid_template_rows": null,
      "height": null,
      "justify_content": null,
      "justify_items": null,
      "left": null,
      "margin": null,
      "max_height": null,
      "max_width": null,
      "min_height": null,
      "min_width": null,
      "object_fit": null,
      "object_position": null,
      "order": null,
      "overflow": null,
      "overflow_x": null,
      "overflow_y": null,
      "padding": null,
      "right": null,
      "top": null,
      "visibility": null,
      "width": null
     }
    },
    "8ea11ca703e844778f8617e308c381f1": {
     "model_module": "@jupyter-widgets/controls",
     "model_module_version": "1.5.0",
     "model_name": "DescriptionStyleModel",
     "state": {
      "_model_module": "@jupyter-widgets/controls",
      "_model_module_version": "1.5.0",
      "_model_name": "DescriptionStyleModel",
      "_view_count": null,
      "_view_module": "@jupyter-widgets/base",
      "_view_module_version": "1.2.0",
      "_view_name": "StyleView",
      "description_width": ""
     }
    },
    "8f1d99c659f8493a81e8a492776828db": {
     "model_module": "@jupyter-widgets/controls",
     "model_module_version": "1.5.0",
     "model_name": "DescriptionStyleModel",
     "state": {
      "_model_module": "@jupyter-widgets/controls",
      "_model_module_version": "1.5.0",
      "_model_name": "DescriptionStyleModel",
      "_view_count": null,
      "_view_module": "@jupyter-widgets/base",
      "_view_module_version": "1.2.0",
      "_view_name": "StyleView",
      "description_width": ""
     }
    },
    "8f67e8705c09436eb03e0bff6bc7e994": {
     "model_module": "@jupyter-widgets/base",
     "model_module_version": "1.2.0",
     "model_name": "LayoutModel",
     "state": {
      "_model_module": "@jupyter-widgets/base",
      "_model_module_version": "1.2.0",
      "_model_name": "LayoutModel",
      "_view_count": null,
      "_view_module": "@jupyter-widgets/base",
      "_view_module_version": "1.2.0",
      "_view_name": "LayoutView",
      "align_content": null,
      "align_items": null,
      "align_self": null,
      "border": null,
      "bottom": null,
      "display": null,
      "flex": null,
      "flex_flow": null,
      "grid_area": null,
      "grid_auto_columns": null,
      "grid_auto_flow": null,
      "grid_auto_rows": null,
      "grid_column": null,
      "grid_gap": null,
      "grid_row": null,
      "grid_template_areas": null,
      "grid_template_columns": null,
      "grid_template_rows": null,
      "height": null,
      "justify_content": null,
      "justify_items": null,
      "left": null,
      "margin": null,
      "max_height": null,
      "max_width": null,
      "min_height": null,
      "min_width": null,
      "object_fit": null,
      "object_position": null,
      "order": null,
      "overflow": null,
      "overflow_x": null,
      "overflow_y": null,
      "padding": null,
      "right": null,
      "top": null,
      "visibility": null,
      "width": null
     }
    },
    "925a63fecdb1432a80f2482a6b17691d": {
     "model_module": "@jupyter-widgets/controls",
     "model_module_version": "1.5.0",
     "model_name": "HTMLModel",
     "state": {
      "_dom_classes": [],
      "_model_module": "@jupyter-widgets/controls",
      "_model_module_version": "1.5.0",
      "_model_name": "HTMLModel",
      "_view_count": null,
      "_view_module": "@jupyter-widgets/controls",
      "_view_module_version": "1.5.0",
      "_view_name": "HTMLView",
      "description": "",
      "description_tooltip": null,
      "layout": "IPY_MODEL_0a7aae523d6c4b59a944d508e593ae46",
      "placeholder": "​",
      "style": "IPY_MODEL_5cbd47a503ec421e84ba463fbd1653d7",
      "value": " 54.0k/54.0k [00:00&lt;00:00, 5.92MB/s]"
     }
    },
    "95828df859ad45f2aebf9499545d65ef": {
     "model_module": "@jupyter-widgets/base",
     "model_module_version": "1.2.0",
     "model_name": "LayoutModel",
     "state": {
      "_model_module": "@jupyter-widgets/base",
      "_model_module_version": "1.2.0",
      "_model_name": "LayoutModel",
      "_view_count": null,
      "_view_module": "@jupyter-widgets/base",
      "_view_module_version": "1.2.0",
      "_view_name": "LayoutView",
      "align_content": null,
      "align_items": null,
      "align_self": null,
      "border": null,
      "bottom": null,
      "display": null,
      "flex": null,
      "flex_flow": null,
      "grid_area": null,
      "grid_auto_columns": null,
      "grid_auto_flow": null,
      "grid_auto_rows": null,
      "grid_column": null,
      "grid_gap": null,
      "grid_row": null,
      "grid_template_areas": null,
      "grid_template_columns": null,
      "grid_template_rows": null,
      "height": null,
      "justify_content": null,
      "justify_items": null,
      "left": null,
      "margin": null,
      "max_height": null,
      "max_width": null,
      "min_height": null,
      "min_width": null,
      "object_fit": null,
      "object_position": null,
      "order": null,
      "overflow": null,
      "overflow_x": null,
      "overflow_y": null,
      "padding": null,
      "right": null,
      "top": null,
      "visibility": null,
      "width": null
     }
    },
    "980aca9f2e6b4937ba74cd4e8eef8741": {
     "model_module": "@jupyter-widgets/controls",
     "model_module_version": "1.5.0",
     "model_name": "FloatProgressModel",
     "state": {
      "_dom_classes": [],
      "_model_module": "@jupyter-widgets/controls",
      "_model_module_version": "1.5.0",
      "_model_name": "FloatProgressModel",
      "_view_count": null,
      "_view_module": "@jupyter-widgets/controls",
      "_view_module_version": "1.5.0",
      "_view_name": "ProgressView",
      "bar_style": "success",
      "description": "",
      "description_tooltip": null,
      "layout": "IPY_MODEL_9888cf43a7ad43829c483e44c441f8cf",
      "max": 41641,
      "min": 0,
      "orientation": "horizontal",
      "style": "IPY_MODEL_1aafa9ebf7f14bdab7cace440de3735e",
      "value": 41641
     }
    },
    "9888cf43a7ad43829c483e44c441f8cf": {
     "model_module": "@jupyter-widgets/base",
     "model_module_version": "1.2.0",
     "model_name": "LayoutModel",
     "state": {
      "_model_module": "@jupyter-widgets/base",
      "_model_module_version": "1.2.0",
      "_model_name": "LayoutModel",
      "_view_count": null,
      "_view_module": "@jupyter-widgets/base",
      "_view_module_version": "1.2.0",
      "_view_name": "LayoutView",
      "align_content": null,
      "align_items": null,
      "align_self": null,
      "border": null,
      "bottom": null,
      "display": null,
      "flex": null,
      "flex_flow": null,
      "grid_area": null,
      "grid_auto_columns": null,
      "grid_auto_flow": null,
      "grid_auto_rows": null,
      "grid_column": null,
      "grid_gap": null,
      "grid_row": null,
      "grid_template_areas": null,
      "grid_template_columns": null,
      "grid_template_rows": null,
      "height": null,
      "justify_content": null,
      "justify_items": null,
      "left": null,
      "margin": null,
      "max_height": null,
      "max_width": null,
      "min_height": null,
      "min_width": null,
      "object_fit": null,
      "object_position": null,
      "order": null,
      "overflow": null,
      "overflow_x": null,
      "overflow_y": null,
      "padding": null,
      "right": null,
      "top": null,
      "visibility": null,
      "width": null
     }
    },
    "9cc1e78c45ea4b419fa8464927d20db9": {
     "model_module": "@jupyter-widgets/controls",
     "model_module_version": "1.5.0",
     "model_name": "ProgressStyleModel",
     "state": {
      "_model_module": "@jupyter-widgets/controls",
      "_model_module_version": "1.5.0",
      "_model_name": "ProgressStyleModel",
      "_view_count": null,
      "_view_module": "@jupyter-widgets/base",
      "_view_module_version": "1.2.0",
      "_view_name": "StyleView",
      "bar_color": null,
      "description_width": ""
     }
    },
    "a18864b2f45e45089ec89c588c495e4a": {
     "model_module": "@jupyter-widgets/base",
     "model_module_version": "1.2.0",
     "model_name": "LayoutModel",
     "state": {
      "_model_module": "@jupyter-widgets/base",
      "_model_module_version": "1.2.0",
      "_model_name": "LayoutModel",
      "_view_count": null,
      "_view_module": "@jupyter-widgets/base",
      "_view_module_version": "1.2.0",
      "_view_name": "LayoutView",
      "align_content": null,
      "align_items": null,
      "align_self": null,
      "border": null,
      "bottom": null,
      "display": null,
      "flex": null,
      "flex_flow": null,
      "grid_area": null,
      "grid_auto_columns": null,
      "grid_auto_flow": null,
      "grid_auto_rows": null,
      "grid_column": null,
      "grid_gap": null,
      "grid_row": null,
      "grid_template_areas": null,
      "grid_template_columns": null,
      "grid_template_rows": null,
      "height": null,
      "justify_content": null,
      "justify_items": null,
      "left": null,
      "margin": null,
      "max_height": null,
      "max_width": null,
      "min_height": null,
      "min_width": null,
      "object_fit": null,
      "object_position": null,
      "order": null,
      "overflow": null,
      "overflow_x": null,
      "overflow_y": null,
      "padding": null,
      "right": null,
      "top": null,
      "visibility": null,
      "width": null
     }
    },
    "a3002a17124f48b4be7fd3d26b69e513": {
     "model_module": "@jupyter-widgets/controls",
     "model_module_version": "1.5.0",
     "model_name": "FloatProgressModel",
     "state": {
      "_dom_classes": [],
      "_model_module": "@jupyter-widgets/controls",
      "_model_module_version": "1.5.0",
      "_model_name": "FloatProgressModel",
      "_view_count": null,
      "_view_module": "@jupyter-widgets/controls",
      "_view_module_version": "1.5.0",
      "_view_name": "ProgressView",
      "bar_style": "success",
      "description": "",
      "description_tooltip": null,
      "layout": "IPY_MODEL_5063ef0f00c94d71a025b4d91ec097a9",
      "max": 1294,
      "min": 0,
      "orientation": "horizontal",
      "style": "IPY_MODEL_b6f79088dda74ea1a7a13ef8b7be36a5",
      "value": 1294
     }
    },
    "a31147625113473fb8c7910b72f36a65": {
     "model_module": "@jupyter-widgets/controls",
     "model_module_version": "1.5.0",
     "model_name": "HTMLModel",
     "state": {
      "_dom_classes": [],
      "_model_module": "@jupyter-widgets/controls",
      "_model_module_version": "1.5.0",
      "_model_name": "HTMLModel",
      "_view_count": null,
      "_view_module": "@jupyter-widgets/controls",
      "_view_module_version": "1.5.0",
      "_view_name": "HTMLView",
      "description": "",
      "description_tooltip": null,
      "layout": "IPY_MODEL_deed142b18ec42dd9b9343a1f88f407f",
      "placeholder": "​",
      "style": "IPY_MODEL_c9b7886e966841bd87c0dbbf37d5122d",
      "value": " 1.01k/1.01k [00:00&lt;00:00, 125kB/s]"
     }
    },
    "a5a2ccd55d08422d9b29120bbfc538c8": {
     "model_module": "@jupyter-widgets/controls",
     "model_module_version": "1.5.0",
     "model_name": "ProgressStyleModel",
     "state": {
      "_model_module": "@jupyter-widgets/controls",
      "_model_module_version": "1.5.0",
      "_model_name": "ProgressStyleModel",
      "_view_count": null,
      "_view_module": "@jupyter-widgets/base",
      "_view_module_version": "1.2.0",
      "_view_name": "StyleView",
      "bar_color": null,
      "description_width": ""
     }
    },
    "a91cf0c2d68140d79565a76e3b0916b5": {
     "model_module": "@jupyter-widgets/controls",
     "model_module_version": "1.5.0",
     "model_name": "FloatProgressModel",
     "state": {
      "_dom_classes": [],
      "_model_module": "@jupyter-widgets/controls",
      "_model_module_version": "1.5.0",
      "_model_name": "FloatProgressModel",
      "_view_count": null,
      "_view_module": "@jupyter-widgets/controls",
      "_view_module_version": "1.5.0",
      "_view_name": "ProgressView",
      "bar_style": "success",
      "description": "",
      "description_tooltip": null,
      "layout": "IPY_MODEL_837065a275b44e0384a99aa4e4e17001",
      "max": 223303,
      "min": 0,
      "orientation": "horizontal",
      "style": "IPY_MODEL_24fb67edd2294e44bd36ded4dd5b530b",
      "value": 223303
     }
    },
    "b19a0c105f7d4a9d9cf2b00909edfbfc": {
     "model_module": "@jupyter-widgets/base",
     "model_module_version": "1.2.0",
     "model_name": "LayoutModel",
     "state": {
      "_model_module": "@jupyter-widgets/base",
      "_model_module_version": "1.2.0",
      "_model_name": "LayoutModel",
      "_view_count": null,
      "_view_module": "@jupyter-widgets/base",
      "_view_module_version": "1.2.0",
      "_view_name": "LayoutView",
      "align_content": null,
      "align_items": null,
      "align_self": null,
      "border": null,
      "bottom": null,
      "display": null,
      "flex": null,
      "flex_flow": null,
      "grid_area": null,
      "grid_auto_columns": null,
      "grid_auto_flow": null,
      "grid_auto_rows": null,
      "grid_column": null,
      "grid_gap": null,
      "grid_row": null,
      "grid_template_areas": null,
      "grid_template_columns": null,
      "grid_template_rows": null,
      "height": null,
      "justify_content": null,
      "justify_items": null,
      "left": null,
      "margin": null,
      "max_height": null,
      "max_width": null,
      "min_height": null,
      "min_width": null,
      "object_fit": null,
      "object_position": null,
      "order": null,
      "overflow": null,
      "overflow_x": null,
      "overflow_y": null,
      "padding": null,
      "right": null,
      "top": null,
      "visibility": null,
      "width": null
     }
    },
    "b2566389a1bc4aeaa9b53184441e2d2e": {
     "model_module": "@jupyter-widgets/controls",
     "model_module_version": "1.5.0",
     "model_name": "HBoxModel",
     "state": {
      "_dom_classes": [],
      "_model_module": "@jupyter-widgets/controls",
      "_model_module_version": "1.5.0",
      "_model_name": "HBoxModel",
      "_view_count": null,
      "_view_module": "@jupyter-widgets/controls",
      "_view_module_version": "1.5.0",
      "_view_name": "HBoxView",
      "box_style": "",
      "children": [
       "IPY_MODEL_818895ea7ee145fe93d8b76224523efc",
       "IPY_MODEL_2636853b245543828a1774d39a5194f3",
       "IPY_MODEL_53987e79fb9041b2b00e583b3073e497"
      ],
      "layout": "IPY_MODEL_412e1351ebcf46a489336b189b40fa4f"
     }
    },
    "b31c3f04a3c64d9f890d30210a6580d5": {
     "model_module": "@jupyter-widgets/controls",
     "model_module_version": "1.5.0",
     "model_name": "ProgressStyleModel",
     "state": {
      "_model_module": "@jupyter-widgets/controls",
      "_model_module_version": "1.5.0",
      "_model_name": "ProgressStyleModel",
      "_view_count": null,
      "_view_module": "@jupyter-widgets/base",
      "_view_module_version": "1.2.0",
      "_view_name": "StyleView",
      "bar_color": null,
      "description_width": ""
     }
    },
    "b5a24d8ed38e4591bc5b7973ac6addd3": {
     "model_module": "@jupyter-widgets/controls",
     "model_module_version": "1.5.0",
     "model_name": "ProgressStyleModel",
     "state": {
      "_model_module": "@jupyter-widgets/controls",
      "_model_module_version": "1.5.0",
      "_model_name": "ProgressStyleModel",
      "_view_count": null,
      "_view_module": "@jupyter-widgets/base",
      "_view_module_version": "1.2.0",
      "_view_name": "StyleView",
      "bar_color": null,
      "description_width": ""
     }
    },
    "b6f79088dda74ea1a7a13ef8b7be36a5": {
     "model_module": "@jupyter-widgets/controls",
     "model_module_version": "1.5.0",
     "model_name": "ProgressStyleModel",
     "state": {
      "_model_module": "@jupyter-widgets/controls",
      "_model_module_version": "1.5.0",
      "_model_name": "ProgressStyleModel",
      "_view_count": null,
      "_view_module": "@jupyter-widgets/base",
      "_view_module_version": "1.2.0",
      "_view_name": "StyleView",
      "bar_color": null,
      "description_width": ""
     }
    },
    "b92454162b4e4052a616a488fa32ff40": {
     "model_module": "@jupyter-widgets/controls",
     "model_module_version": "1.5.0",
     "model_name": "HTMLModel",
     "state": {
      "_dom_classes": [],
      "_model_module": "@jupyter-widgets/controls",
      "_model_module_version": "1.5.0",
      "_model_name": "HTMLModel",
      "_view_count": null,
      "_view_module": "@jupyter-widgets/controls",
      "_view_module_version": "1.5.0",
      "_view_name": "HTMLView",
      "description": "",
      "description_tooltip": null,
      "layout": "IPY_MODEL_55724ec696374677811d2f09bf8eae02",
      "placeholder": "​",
      "style": "IPY_MODEL_fcaaa54fdcc7427ca50bd92a22927dc7",
      "value": " 41.6k/41.6k [00:00&lt;00:00, 4.79MB/s]"
     }
    },
    "bc138424c0c5442bb43c8bf1384e78f0": {
     "model_module": "@jupyter-widgets/base",
     "model_module_version": "1.2.0",
     "model_name": "LayoutModel",
     "state": {
      "_model_module": "@jupyter-widgets/base",
      "_model_module_version": "1.2.0",
      "_model_name": "LayoutModel",
      "_view_count": null,
      "_view_module": "@jupyter-widgets/base",
      "_view_module_version": "1.2.0",
      "_view_name": "LayoutView",
      "align_content": null,
      "align_items": null,
      "align_self": null,
      "border": null,
      "bottom": null,
      "display": null,
      "flex": null,
      "flex_flow": null,
      "grid_area": null,
      "grid_auto_columns": null,
      "grid_auto_flow": null,
      "grid_auto_rows": null,
      "grid_column": null,
      "grid_gap": null,
      "grid_row": null,
      "grid_template_areas": null,
      "grid_template_columns": null,
      "grid_template_rows": null,
      "height": null,
      "justify_content": null,
      "justify_items": null,
      "left": null,
      "margin": null,
      "max_height": null,
      "max_width": null,
      "min_height": null,
      "min_width": null,
      "object_fit": null,
      "object_position": null,
      "order": null,
      "overflow": null,
      "overflow_x": null,
      "overflow_y": null,
      "padding": null,
      "right": null,
      "top": null,
      "visibility": null,
      "width": null
     }
    },
    "c583df64cf754f70ac6e1ff4c3768522": {
     "model_module": "@jupyter-widgets/base",
     "model_module_version": "1.2.0",
     "model_name": "LayoutModel",
     "state": {
      "_model_module": "@jupyter-widgets/base",
      "_model_module_version": "1.2.0",
      "_model_name": "LayoutModel",
      "_view_count": null,
      "_view_module": "@jupyter-widgets/base",
      "_view_module_version": "1.2.0",
      "_view_name": "LayoutView",
      "align_content": null,
      "align_items": null,
      "align_self": null,
      "border": null,
      "bottom": null,
      "display": null,
      "flex": null,
      "flex_flow": null,
      "grid_area": null,
      "grid_auto_columns": null,
      "grid_auto_flow": null,
      "grid_auto_rows": null,
      "grid_column": null,
      "grid_gap": null,
      "grid_row": null,
      "grid_template_areas": null,
      "grid_template_columns": null,
      "grid_template_rows": null,
      "height": null,
      "justify_content": null,
      "justify_items": null,
      "left": null,
      "margin": null,
      "max_height": null,
      "max_width": null,
      "min_height": null,
      "min_width": null,
      "object_fit": null,
      "object_position": null,
      "order": null,
      "overflow": null,
      "overflow_x": null,
      "overflow_y": null,
      "padding": null,
      "right": null,
      "top": null,
      "visibility": null,
      "width": null
     }
    },
    "c9b7886e966841bd87c0dbbf37d5122d": {
     "model_module": "@jupyter-widgets/controls",
     "model_module_version": "1.5.0",
     "model_name": "DescriptionStyleModel",
     "state": {
      "_model_module": "@jupyter-widgets/controls",
      "_model_module_version": "1.5.0",
      "_model_name": "DescriptionStyleModel",
      "_view_count": null,
      "_view_module": "@jupyter-widgets/base",
      "_view_module_version": "1.2.0",
      "_view_name": "StyleView",
      "description_width": ""
     }
    },
    "cae1fc4eba6e4257b7b5bc290fde7d6e": {
     "model_module": "@jupyter-widgets/controls",
     "model_module_version": "1.5.0",
     "model_name": "ProgressStyleModel",
     "state": {
      "_model_module": "@jupyter-widgets/controls",
      "_model_module_version": "1.5.0",
      "_model_name": "ProgressStyleModel",
      "_view_count": null,
      "_view_module": "@jupyter-widgets/base",
      "_view_module_version": "1.2.0",
      "_view_name": "StyleView",
      "bar_color": null,
      "description_width": ""
     }
    },
    "cc8a323d93e64af4be2203fb01e66f5d": {
     "model_module": "@jupyter-widgets/controls",
     "model_module_version": "1.5.0",
     "model_name": "FloatProgressModel",
     "state": {
      "_dom_classes": [],
      "_model_module": "@jupyter-widgets/controls",
      "_model_module_version": "1.5.0",
      "_model_name": "FloatProgressModel",
      "_view_count": null,
      "_view_module": "@jupyter-widgets/controls",
      "_view_module_version": "1.5.0",
      "_view_name": "ProgressView",
      "bar_style": "success",
      "description": "",
      "description_tooltip": null,
      "layout": "IPY_MODEL_a18864b2f45e45089ec89c588c495e4a",
      "max": 9480,
      "min": 0,
      "orientation": "horizontal",
      "style": "IPY_MODEL_7e678285e934452fac25c4e8c748f7ce",
      "value": 9480
     }
    },
    "cd0ea53a2e3144ca9d3228a7ca4cf835": {
     "model_module": "@jupyter-widgets/controls",
     "model_module_version": "1.5.0",
     "model_name": "DescriptionStyleModel",
     "state": {
      "_model_module": "@jupyter-widgets/controls",
      "_model_module_version": "1.5.0",
      "_model_name": "DescriptionStyleModel",
      "_view_count": null,
      "_view_module": "@jupyter-widgets/base",
      "_view_module_version": "1.2.0",
      "_view_name": "StyleView",
      "description_width": ""
     }
    },
    "cebbd08d82bd4841b1ec9fd06c568046": {
     "model_module": "@jupyter-widgets/controls",
     "model_module_version": "1.5.0",
     "model_name": "HBoxModel",
     "state": {
      "_dom_classes": [],
      "_model_module": "@jupyter-widgets/controls",
      "_model_module_version": "1.5.0",
      "_model_name": "HBoxModel",
      "_view_count": null,
      "_view_module": "@jupyter-widgets/controls",
      "_view_module_version": "1.5.0",
      "_view_name": "HBoxView",
      "box_style": "",
      "children": [
       "IPY_MODEL_32d34fa7693f4e4a87844f8b65e5d1ec",
       "IPY_MODEL_8237da29238242b1a8e3cb6633508ab7",
       "IPY_MODEL_4c699ed6ae1540c5ae83b4fa2baaf38b"
      ],
      "layout": "IPY_MODEL_eb67dc9900fe4e318e144c16419c11e3"
     }
    },
    "cfd065084a86432c903ca88f5e429519": {
     "model_module": "@jupyter-widgets/base",
     "model_module_version": "1.2.0",
     "model_name": "LayoutModel",
     "state": {
      "_model_module": "@jupyter-widgets/base",
      "_model_module_version": "1.2.0",
      "_model_name": "LayoutModel",
      "_view_count": null,
      "_view_module": "@jupyter-widgets/base",
      "_view_module_version": "1.2.0",
      "_view_name": "LayoutView",
      "align_content": null,
      "align_items": null,
      "align_self": null,
      "border": null,
      "bottom": null,
      "display": null,
      "flex": null,
      "flex_flow": null,
      "grid_area": null,
      "grid_auto_columns": null,
      "grid_auto_flow": null,
      "grid_auto_rows": null,
      "grid_column": null,
      "grid_gap": null,
      "grid_row": null,
      "grid_template_areas": null,
      "grid_template_columns": null,
      "grid_template_rows": null,
      "height": null,
      "justify_content": null,
      "justify_items": null,
      "left": null,
      "margin": null,
      "max_height": null,
      "max_width": null,
      "min_height": null,
      "min_width": null,
      "object_fit": null,
      "object_position": null,
      "order": null,
      "overflow": null,
      "overflow_x": null,
      "overflow_y": null,
      "padding": null,
      "right": null,
      "top": null,
      "visibility": null,
      "width": null
     }
    },
    "d189e33010e0477fb4ca85303961eba6": {
     "model_module": "@jupyter-widgets/controls",
     "model_module_version": "1.5.0",
     "model_name": "HTMLModel",
     "state": {
      "_dom_classes": [],
      "_model_module": "@jupyter-widgets/controls",
      "_model_module_version": "1.5.0",
      "_model_name": "HTMLModel",
      "_view_count": null,
      "_view_module": "@jupyter-widgets/controls",
      "_view_module_version": "1.5.0",
      "_view_name": "HTMLView",
      "description": "",
      "description_tooltip": null,
      "layout": "IPY_MODEL_121e673b9bca45e8b966f7b6d9b4c013",
      "placeholder": "​",
      "style": "IPY_MODEL_5c08e3d15bc345128b9208aee95bd6a7",
      "value": "tokenizer.json: 100%"
     }
    },
    "d19d7af5e8ce4f86b254d3e3678bc916": {
     "model_module": "@jupyter-widgets/base",
     "model_module_version": "1.2.0",
     "model_name": "LayoutModel",
     "state": {
      "_model_module": "@jupyter-widgets/base",
      "_model_module_version": "1.2.0",
      "_model_name": "LayoutModel",
      "_view_count": null,
      "_view_module": "@jupyter-widgets/base",
      "_view_module_version": "1.2.0",
      "_view_name": "LayoutView",
      "align_content": null,
      "align_items": null,
      "align_self": null,
      "border": null,
      "bottom": null,
      "display": null,
      "flex": null,
      "flex_flow": null,
      "grid_area": null,
      "grid_auto_columns": null,
      "grid_auto_flow": null,
      "grid_auto_rows": null,
      "grid_column": null,
      "grid_gap": null,
      "grid_row": null,
      "grid_template_areas": null,
      "grid_template_columns": null,
      "grid_template_rows": null,
      "height": null,
      "justify_content": null,
      "justify_items": null,
      "left": null,
      "margin": null,
      "max_height": null,
      "max_width": null,
      "min_height": null,
      "min_width": null,
      "object_fit": null,
      "object_position": null,
      "order": null,
      "overflow": null,
      "overflow_x": null,
      "overflow_y": null,
      "padding": null,
      "right": null,
      "top": null,
      "visibility": null,
      "width": null
     }
    },
    "d2bc75524ac0464d948f5a354d0b514c": {
     "model_module": "@jupyter-widgets/controls",
     "model_module_version": "1.5.0",
     "model_name": "HTMLModel",
     "state": {
      "_dom_classes": [],
      "_model_module": "@jupyter-widgets/controls",
      "_model_module_version": "1.5.0",
      "_model_name": "HTMLModel",
      "_view_count": null,
      "_view_module": "@jupyter-widgets/controls",
      "_view_module_version": "1.5.0",
      "_view_name": "HTMLView",
      "description": "",
      "description_tooltip": null,
      "layout": "IPY_MODEL_6a1537f7c6e04cd78c9cb0610528a12a",
      "placeholder": "​",
      "style": "IPY_MODEL_620e0ba4c7f847b493373d07afbb7cf8",
      "value": " 9.48k/9.48k [00:00&lt;00:00, 1.13MB/s]"
     }
    },
    "d3a85899a8494f65aaa0e8ccdc0ef5ca": {
     "model_module": "@jupyter-widgets/controls",
     "model_module_version": "1.5.0",
     "model_name": "HBoxModel",
     "state": {
      "_dom_classes": [],
      "_model_module": "@jupyter-widgets/controls",
      "_model_module_version": "1.5.0",
      "_model_name": "HBoxModel",
      "_view_count": null,
      "_view_module": "@jupyter-widgets/controls",
      "_view_module_version": "1.5.0",
      "_view_name": "HBoxView",
      "box_style": "",
      "children": [
       "IPY_MODEL_d189e33010e0477fb4ca85303961eba6",
       "IPY_MODEL_41b29d5676334a0da9cf51bf7443ba12",
       "IPY_MODEL_925a63fecdb1432a80f2482a6b17691d"
      ],
      "layout": "IPY_MODEL_d70f67db91614adcbb71a7cd9ac4769d"
     }
    },
    "d70f67db91614adcbb71a7cd9ac4769d": {
     "model_module": "@jupyter-widgets/base",
     "model_module_version": "1.2.0",
     "model_name": "LayoutModel",
     "state": {
      "_model_module": "@jupyter-widgets/base",
      "_model_module_version": "1.2.0",
      "_model_name": "LayoutModel",
      "_view_count": null,
      "_view_module": "@jupyter-widgets/base",
      "_view_module_version": "1.2.0",
      "_view_name": "LayoutView",
      "align_content": null,
      "align_items": null,
      "align_self": null,
      "border": null,
      "bottom": null,
      "display": null,
      "flex": null,
      "flex_flow": null,
      "grid_area": null,
      "grid_auto_columns": null,
      "grid_auto_flow": null,
      "grid_auto_rows": null,
      "grid_column": null,
      "grid_gap": null,
      "grid_row": null,
      "grid_template_areas": null,
      "grid_template_columns": null,
      "grid_template_rows": null,
      "height": null,
      "justify_content": null,
      "justify_items": null,
      "left": null,
      "margin": null,
      "max_height": null,
      "max_width": null,
      "min_height": null,
      "min_width": null,
      "object_fit": null,
      "object_position": null,
      "order": null,
      "overflow": null,
      "overflow_x": null,
      "overflow_y": null,
      "padding": null,
      "right": null,
      "top": null,
      "visibility": null,
      "width": null
     }
    },
    "da1c1168e84143159ea31951a3cb7ace": {
     "model_module": "@jupyter-widgets/base",
     "model_module_version": "1.2.0",
     "model_name": "LayoutModel",
     "state": {
      "_model_module": "@jupyter-widgets/base",
      "_model_module_version": "1.2.0",
      "_model_name": "LayoutModel",
      "_view_count": null,
      "_view_module": "@jupyter-widgets/base",
      "_view_module_version": "1.2.0",
      "_view_name": "LayoutView",
      "align_content": null,
      "align_items": null,
      "align_self": null,
      "border": null,
      "bottom": null,
      "display": null,
      "flex": null,
      "flex_flow": null,
      "grid_area": null,
      "grid_auto_columns": null,
      "grid_auto_flow": null,
      "grid_auto_rows": null,
      "grid_column": null,
      "grid_gap": null,
      "grid_row": null,
      "grid_template_areas": null,
      "grid_template_columns": null,
      "grid_template_rows": null,
      "height": null,
      "justify_content": null,
      "justify_items": null,
      "left": null,
      "margin": null,
      "max_height": null,
      "max_width": null,
      "min_height": null,
      "min_width": null,
      "object_fit": null,
      "object_position": null,
      "order": null,
      "overflow": null,
      "overflow_x": null,
      "overflow_y": null,
      "padding": null,
      "right": null,
      "top": null,
      "visibility": null,
      "width": null
     }
    },
    "da3fdce31819411ba5f6eed7434ec3e8": {
     "model_module": "@jupyter-widgets/base",
     "model_module_version": "1.2.0",
     "model_name": "LayoutModel",
     "state": {
      "_model_module": "@jupyter-widgets/base",
      "_model_module_version": "1.2.0",
      "_model_name": "LayoutModel",
      "_view_count": null,
      "_view_module": "@jupyter-widgets/base",
      "_view_module_version": "1.2.0",
      "_view_name": "LayoutView",
      "align_content": null,
      "align_items": null,
      "align_self": null,
      "border": null,
      "bottom": null,
      "display": null,
      "flex": null,
      "flex_flow": null,
      "grid_area": null,
      "grid_auto_columns": null,
      "grid_auto_flow": null,
      "grid_auto_rows": null,
      "grid_column": null,
      "grid_gap": null,
      "grid_row": null,
      "grid_template_areas": null,
      "grid_template_columns": null,
      "grid_template_rows": null,
      "height": null,
      "justify_content": null,
      "justify_items": null,
      "left": null,
      "margin": null,
      "max_height": null,
      "max_width": null,
      "min_height": null,
      "min_width": null,
      "object_fit": null,
      "object_position": null,
      "order": null,
      "overflow": null,
      "overflow_x": null,
      "overflow_y": null,
      "padding": null,
      "right": null,
      "top": null,
      "visibility": null,
      "width": null
     }
    },
    "da5ba5a32d49489482f2c975b3ecf3eb": {
     "model_module": "@jupyter-widgets/controls",
     "model_module_version": "1.5.0",
     "model_name": "HTMLModel",
     "state": {
      "_dom_classes": [],
      "_model_module": "@jupyter-widgets/controls",
      "_model_module_version": "1.5.0",
      "_model_name": "HTMLModel",
      "_view_count": null,
      "_view_module": "@jupyter-widgets/controls",
      "_view_module_version": "1.5.0",
      "_view_name": "HTMLView",
      "description": "",
      "description_tooltip": null,
      "layout": "IPY_MODEL_15a5a420a4a54f7394f4cc1036b05692",
      "placeholder": "​",
      "style": "IPY_MODEL_3673bc8efdc94854a707a89758a10c27",
      "value": " 4200/4200 [00:00&lt;00:00, 135654.37 examples/s]"
     }
    },
    "da9331ab36a94acdaba79ce8b291caa7": {
     "model_module": "@jupyter-widgets/controls",
     "model_module_version": "1.5.0",
     "model_name": "HTMLModel",
     "state": {
      "_dom_classes": [],
      "_model_module": "@jupyter-widgets/controls",
      "_model_module_version": "1.5.0",
      "_model_name": "HTMLModel",
      "_view_count": null,
      "_view_module": "@jupyter-widgets/controls",
      "_view_module_version": "1.5.0",
      "_view_name": "HTMLView",
      "description": "",
      "description_tooltip": null,
      "layout": "IPY_MODEL_95828df859ad45f2aebf9499545d65ef",
      "placeholder": "​",
      "style": "IPY_MODEL_449f468b36494020a2bc03e0f64540ac",
      "value": "vocab.json: 100%"
     }
    },
    "db0bade543474850ab4217a7c4b10fb7": {
     "model_module": "@jupyter-widgets/base",
     "model_module_version": "1.2.0",
     "model_name": "LayoutModel",
     "state": {
      "_model_module": "@jupyter-widgets/base",
      "_model_module_version": "1.2.0",
      "_model_name": "LayoutModel",
      "_view_count": null,
      "_view_module": "@jupyter-widgets/base",
      "_view_module_version": "1.2.0",
      "_view_name": "LayoutView",
      "align_content": null,
      "align_items": null,
      "align_self": null,
      "border": null,
      "bottom": null,
      "display": null,
      "flex": null,
      "flex_flow": null,
      "grid_area": null,
      "grid_auto_columns": null,
      "grid_auto_flow": null,
      "grid_auto_rows": null,
      "grid_column": null,
      "grid_gap": null,
      "grid_row": null,
      "grid_template_areas": null,
      "grid_template_columns": null,
      "grid_template_rows": null,
      "height": null,
      "justify_content": null,
      "justify_items": null,
      "left": null,
      "margin": null,
      "max_height": null,
      "max_width": null,
      "min_height": null,
      "min_width": null,
      "object_fit": null,
      "object_position": null,
      "order": null,
      "overflow": null,
      "overflow_x": null,
      "overflow_y": null,
      "padding": null,
      "right": null,
      "top": null,
      "visibility": null,
      "width": null
     }
    },
    "de2a1aa95c8f46ccb55cb14dc74610bb": {
     "model_module": "@jupyter-widgets/base",
     "model_module_version": "1.2.0",
     "model_name": "LayoutModel",
     "state": {
      "_model_module": "@jupyter-widgets/base",
      "_model_module_version": "1.2.0",
      "_model_name": "LayoutModel",
      "_view_count": null,
      "_view_module": "@jupyter-widgets/base",
      "_view_module_version": "1.2.0",
      "_view_name": "LayoutView",
      "align_content": null,
      "align_items": null,
      "align_self": null,
      "border": null,
      "bottom": null,
      "display": null,
      "flex": null,
      "flex_flow": null,
      "grid_area": null,
      "grid_auto_columns": null,
      "grid_auto_flow": null,
      "grid_auto_rows": null,
      "grid_column": null,
      "grid_gap": null,
      "grid_row": null,
      "grid_template_areas": null,
      "grid_template_columns": null,
      "grid_template_rows": null,
      "height": null,
      "justify_content": null,
      "justify_items": null,
      "left": null,
      "margin": null,
      "max_height": null,
      "max_width": null,
      "min_height": null,
      "min_width": null,
      "object_fit": null,
      "object_position": null,
      "order": null,
      "overflow": null,
      "overflow_x": null,
      "overflow_y": null,
      "padding": null,
      "right": null,
      "top": null,
      "visibility": null,
      "width": null
     }
    },
    "deed142b18ec42dd9b9343a1f88f407f": {
     "model_module": "@jupyter-widgets/base",
     "model_module_version": "1.2.0",
     "model_name": "LayoutModel",
     "state": {
      "_model_module": "@jupyter-widgets/base",
      "_model_module_version": "1.2.0",
      "_model_name": "LayoutModel",
      "_view_count": null,
      "_view_module": "@jupyter-widgets/base",
      "_view_module_version": "1.2.0",
      "_view_name": "LayoutView",
      "align_content": null,
      "align_items": null,
      "align_self": null,
      "border": null,
      "bottom": null,
      "display": null,
      "flex": null,
      "flex_flow": null,
      "grid_area": null,
      "grid_auto_columns": null,
      "grid_auto_flow": null,
      "grid_auto_rows": null,
      "grid_column": null,
      "grid_gap": null,
      "grid_row": null,
      "grid_template_areas": null,
      "grid_template_columns": null,
      "grid_template_rows": null,
      "height": null,
      "justify_content": null,
      "justify_items": null,
      "left": null,
      "margin": null,
      "max_height": null,
      "max_width": null,
      "min_height": null,
      "min_width": null,
      "object_fit": null,
      "object_position": null,
      "order": null,
      "overflow": null,
      "overflow_x": null,
      "overflow_y": null,
      "padding": null,
      "right": null,
      "top": null,
      "visibility": null,
      "width": null
     }
    },
    "df561b61a79c44e8b5ae0ce16d38c2fa": {
     "model_module": "@jupyter-widgets/controls",
     "model_module_version": "1.5.0",
     "model_name": "DescriptionStyleModel",
     "state": {
      "_model_module": "@jupyter-widgets/controls",
      "_model_module_version": "1.5.0",
      "_model_name": "DescriptionStyleModel",
      "_view_count": null,
      "_view_module": "@jupyter-widgets/base",
      "_view_module_version": "1.2.0",
      "_view_name": "StyleView",
      "description_width": ""
     }
    },
    "e116ae0babdb403f9b91e9860593b91a": {
     "model_module": "@jupyter-widgets/controls",
     "model_module_version": "1.5.0",
     "model_name": "FloatProgressModel",
     "state": {
      "_dom_classes": [],
      "_model_module": "@jupyter-widgets/controls",
      "_model_module_version": "1.5.0",
      "_model_name": "FloatProgressModel",
      "_view_count": null,
      "_view_module": "@jupyter-widgets/controls",
      "_view_module_version": "1.5.0",
      "_view_name": "ProgressView",
      "bar_style": "success",
      "description": "",
      "description_tooltip": null,
      "layout": "IPY_MODEL_098be36d040f4db7b6f1faef8f8744af",
      "max": 39292,
      "min": 0,
      "orientation": "horizontal",
      "style": "IPY_MODEL_0c00e8d7ef0349ca82dacded78d5162e",
      "value": 39292
     }
    },
    "e56b3cea02a640109bfb246e2dbfffd4": {
     "model_module": "@jupyter-widgets/controls",
     "model_module_version": "1.5.0",
     "model_name": "FloatProgressModel",
     "state": {
      "_dom_classes": [],
      "_model_module": "@jupyter-widgets/controls",
      "_model_module_version": "1.5.0",
      "_model_name": "FloatProgressModel",
      "_view_count": null,
      "_view_module": "@jupyter-widgets/controls",
      "_view_module_version": "1.5.0",
      "_view_name": "ProgressView",
      "bar_style": "success",
      "description": "",
      "description_tooltip": null,
      "layout": "IPY_MODEL_da3fdce31819411ba5f6eed7434ec3e8",
      "max": 1161,
      "min": 0,
      "orientation": "horizontal",
      "style": "IPY_MODEL_807bc15a3125454798d2e95fb4300c16",
      "value": 1161
     }
    },
    "e7283927605741e692c301ecf460f5b2": {
     "model_module": "@jupyter-widgets/base",
     "model_module_version": "1.2.0",
     "model_name": "LayoutModel",
     "state": {
      "_model_module": "@jupyter-widgets/base",
      "_model_module_version": "1.2.0",
      "_model_name": "LayoutModel",
      "_view_count": null,
      "_view_module": "@jupyter-widgets/base",
      "_view_module_version": "1.2.0",
      "_view_name": "LayoutView",
      "align_content": null,
      "align_items": null,
      "align_self": null,
      "border": null,
      "bottom": null,
      "display": null,
      "flex": null,
      "flex_flow": null,
      "grid_area": null,
      "grid_auto_columns": null,
      "grid_auto_flow": null,
      "grid_auto_rows": null,
      "grid_column": null,
      "grid_gap": null,
      "grid_row": null,
      "grid_template_areas": null,
      "grid_template_columns": null,
      "grid_template_rows": null,
      "height": null,
      "justify_content": null,
      "justify_items": null,
      "left": null,
      "margin": null,
      "max_height": null,
      "max_width": null,
      "min_height": null,
      "min_width": null,
      "object_fit": null,
      "object_position": null,
      "order": null,
      "overflow": null,
      "overflow_x": null,
      "overflow_y": null,
      "padding": null,
      "right": null,
      "top": null,
      "visibility": null,
      "width": null
     }
    },
    "eb67dc9900fe4e318e144c16419c11e3": {
     "model_module": "@jupyter-widgets/base",
     "model_module_version": "1.2.0",
     "model_name": "LayoutModel",
     "state": {
      "_model_module": "@jupyter-widgets/base",
      "_model_module_version": "1.2.0",
      "_model_name": "LayoutModel",
      "_view_count": null,
      "_view_module": "@jupyter-widgets/base",
      "_view_module_version": "1.2.0",
      "_view_name": "LayoutView",
      "align_content": null,
      "align_items": null,
      "align_self": null,
      "border": null,
      "bottom": null,
      "display": null,
      "flex": null,
      "flex_flow": null,
      "grid_area": null,
      "grid_auto_columns": null,
      "grid_auto_flow": null,
      "grid_auto_rows": null,
      "grid_column": null,
      "grid_gap": null,
      "grid_row": null,
      "grid_template_areas": null,
      "grid_template_columns": null,
      "grid_template_rows": null,
      "height": null,
      "justify_content": null,
      "justify_items": null,
      "left": null,
      "margin": null,
      "max_height": null,
      "max_width": null,
      "min_height": null,
      "min_width": null,
      "object_fit": null,
      "object_position": null,
      "order": null,
      "overflow": null,
      "overflow_x": null,
      "overflow_y": null,
      "padding": null,
      "right": null,
      "top": null,
      "visibility": null,
      "width": null
     }
    },
    "ed7f1dea2d21458cb2abe3b15807f4a5": {
     "model_module": "@jupyter-widgets/controls",
     "model_module_version": "1.5.0",
     "model_name": "DescriptionStyleModel",
     "state": {
      "_model_module": "@jupyter-widgets/controls",
      "_model_module_version": "1.5.0",
      "_model_name": "DescriptionStyleModel",
      "_view_count": null,
      "_view_module": "@jupyter-widgets/base",
      "_view_module_version": "1.2.0",
      "_view_name": "StyleView",
      "description_width": ""
     }
    },
    "f120a0b713e34a77a9e3451df730c2dd": {
     "model_module": "@jupyter-widgets/controls",
     "model_module_version": "1.5.0",
     "model_name": "DescriptionStyleModel",
     "state": {
      "_model_module": "@jupyter-widgets/controls",
      "_model_module_version": "1.5.0",
      "_model_name": "DescriptionStyleModel",
      "_view_count": null,
      "_view_module": "@jupyter-widgets/base",
      "_view_module_version": "1.2.0",
      "_view_name": "StyleView",
      "description_width": ""
     }
    },
    "f658286b2ab34b66937f9853feade7d0": {
     "model_module": "@jupyter-widgets/controls",
     "model_module_version": "1.5.0",
     "model_name": "HTMLModel",
     "state": {
      "_dom_classes": [],
      "_model_module": "@jupyter-widgets/controls",
      "_model_module_version": "1.5.0",
      "_model_name": "HTMLModel",
      "_view_count": null,
      "_view_module": "@jupyter-widgets/controls",
      "_view_module_version": "1.5.0",
      "_view_name": "HTMLView",
      "description": "",
      "description_tooltip": null,
      "layout": "IPY_MODEL_fb90fac2749244ebb86065fe51f8aac3",
      "placeholder": "​",
      "style": "IPY_MODEL_4fd10c57c9bf45bb83e19d67b1c18c1a",
      "value": "tokenizer_config.json: 100%"
     }
    },
    "f71b92e278914755af6d1db63cbf5684": {
     "model_module": "@jupyter-widgets/controls",
     "model_module_version": "1.5.0",
     "model_name": "FloatProgressModel",
     "state": {
      "_dom_classes": [],
      "_model_module": "@jupyter-widgets/controls",
      "_model_module_version": "1.5.0",
      "_model_name": "FloatProgressModel",
      "_view_count": null,
      "_view_module": "@jupyter-widgets/controls",
      "_view_module_version": "1.5.0",
      "_view_name": "ProgressView",
      "bar_style": "success",
      "description": "",
      "description_tooltip": null,
      "layout": "IPY_MODEL_025e3cd752334f63af3436ee3736f392",
      "max": 6503,
      "min": 0,
      "orientation": "horizontal",
      "style": "IPY_MODEL_5c3733a905f243f2ad94f5cd8df59b35",
      "value": 6503
     }
    },
    "f8c3867e280c4628b6fb1eeebd1d10c4": {
     "model_module": "@jupyter-widgets/controls",
     "model_module_version": "1.5.0",
     "model_name": "HTMLModel",
     "state": {
      "_dom_classes": [],
      "_model_module": "@jupyter-widgets/controls",
      "_model_module_version": "1.5.0",
      "_model_name": "HTMLModel",
      "_view_count": null,
      "_view_module": "@jupyter-widgets/controls",
      "_view_module_version": "1.5.0",
      "_view_name": "HTMLView",
      "description": "",
      "description_tooltip": null,
      "layout": "IPY_MODEL_780f8d309bd84f2da7d99bb1ce2d109c",
      "placeholder": "​",
      "style": "IPY_MODEL_cd0ea53a2e3144ca9d3228a7ca4cf835",
      "value": " 6.50k/6.50k [00:00&lt;00:00, 786kB/s]"
     }
    },
    "fb90fac2749244ebb86065fe51f8aac3": {
     "model_module": "@jupyter-widgets/base",
     "model_module_version": "1.2.0",
     "model_name": "LayoutModel",
     "state": {
      "_model_module": "@jupyter-widgets/base",
      "_model_module_version": "1.2.0",
      "_model_name": "LayoutModel",
      "_view_count": null,
      "_view_module": "@jupyter-widgets/base",
      "_view_module_version": "1.2.0",
      "_view_name": "LayoutView",
      "align_content": null,
      "align_items": null,
      "align_self": null,
      "border": null,
      "bottom": null,
      "display": null,
      "flex": null,
      "flex_flow": null,
      "grid_area": null,
      "grid_auto_columns": null,
      "grid_auto_flow": null,
      "grid_auto_rows": null,
      "grid_column": null,
      "grid_gap": null,
      "grid_row": null,
      "grid_template_areas": null,
      "grid_template_columns": null,
      "grid_template_rows": null,
      "height": null,
      "justify_content": null,
      "justify_items": null,
      "left": null,
      "margin": null,
      "max_height": null,
      "max_width": null,
      "min_height": null,
      "min_width": null,
      "object_fit": null,
      "object_position": null,
      "order": null,
      "overflow": null,
      "overflow_x": null,
      "overflow_y": null,
      "padding": null,
      "right": null,
      "top": null,
      "visibility": null,
      "width": null
     }
    },
    "fcaaa54fdcc7427ca50bd92a22927dc7": {
     "model_module": "@jupyter-widgets/controls",
     "model_module_version": "1.5.0",
     "model_name": "DescriptionStyleModel",
     "state": {
      "_model_module": "@jupyter-widgets/controls",
      "_model_module_version": "1.5.0",
      "_model_name": "DescriptionStyleModel",
      "_view_count": null,
      "_view_module": "@jupyter-widgets/base",
      "_view_module_version": "1.2.0",
      "_view_name": "StyleView",
      "description_width": ""
     }
    },
    "ff29784105a240dd90bba5f70dea6c74": {
     "model_module": "@jupyter-widgets/controls",
     "model_module_version": "1.5.0",
     "model_name": "FloatProgressModel",
     "state": {
      "_dom_classes": [],
      "_model_module": "@jupyter-widgets/controls",
      "_model_module_version": "1.5.0",
      "_model_name": "FloatProgressModel",
      "_view_count": null,
      "_view_module": "@jupyter-widgets/controls",
      "_view_module_version": "1.5.0",
      "_view_name": "ProgressView",
      "bar_style": "success",
      "description": "",
      "description_tooltip": null,
      "layout": "IPY_MODEL_2494a75a237744f892ab86aca2c62910",
      "max": 4200,
      "min": 0,
      "orientation": "horizontal",
      "style": "IPY_MODEL_b5a24d8ed38e4591bc5b7973ac6addd3",
      "value": 4200
     }
    }
   }
  }
 },
 "nbformat": 4,
 "nbformat_minor": 0
}
